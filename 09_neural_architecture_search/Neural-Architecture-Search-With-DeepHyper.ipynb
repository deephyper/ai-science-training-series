{
 "cells": [
  {
   "cell_type": "markdown",
   "id": "af205a35",
   "metadata": {
    "id": "af205a35"
   },
   "source": [
    "# Neural Architecture Search (Basic)\n",
    "\n",
    "[![Open In Colab](https://colab.research.google.com/assets/colab-badge.svg)](https://colab.research.google.com/github/deephyper/tutorials/blob/main/tutorials/colab/NAS_basic.ipynb)\n",
    "\n",
    "In this tutorial we will learn the basics of neural architecture search (NAS). We will use artificial data generated from a polynomial function. Then, we will discover how to create a search space of neural architecture using a directed graph. Finally, we will see how to define the NAS settings and how to execute the search.\n",
    "\n"
   ]
  },
  {
   "cell_type": "code",
   "execution_count": 1,
   "id": "klX2lZZ-FV0Y",
   "metadata": {
    "colab": {
     "base_uri": "https://localhost:8080/"
    },
    "id": "klX2lZZ-FV0Y",
    "outputId": "bdfa3afc-d299-4424-fd87-cf7517a0c487"
   },
   "outputs": [
    {
     "name": "stdout",
     "output_type": "stream",
     "text": [
      "Defaulting to user installation because normal site-packages is not writeable\n",
      "Requirement already satisfied: deephyper in /lus/theta-fs0/software/thetagpu/conda/2021-11-30/mconda3/lib/python3.8/site-packages (0.3.3)\n",
      "Requirement already satisfied: networkx in /lus/theta-fs0/software/thetagpu/conda/2021-11-30/mconda3/lib/python3.8/site-packages (from deephyper) (2.6.3)\n",
      "Requirement already satisfied: dm-tree in /lus/theta-fs0/software/thetagpu/conda/2021-11-30/mconda3/lib/python3.8/site-packages (from deephyper) (0.1.6)\n",
      "Requirement already satisfied: tensorflow>=2.0.0 in /lus/theta-fs0/software/thetagpu/conda/2021-11-30/mconda3/lib/python3.8/site-packages (from deephyper) (2.8.0)\n",
      "Requirement already satisfied: ray[default]>=1.3.0 in /lus/theta-fs0/software/thetagpu/conda/2021-11-30/mconda3/lib/python3.8/site-packages (from deephyper) (1.8.0)\n",
      "Requirement already satisfied: xgboost in /lus/theta-fs0/software/thetagpu/conda/2021-11-30/mconda3/lib/python3.8/site-packages (from deephyper) (1.5.1)\n",
      "Requirement already satisfied: matplotlib>=3.0.3 in /lus/theta-fs0/software/thetagpu/conda/2021-11-30/mconda3/lib/python3.8/site-packages (from deephyper) (3.5.0)\n",
      "Requirement already satisfied: joblib>=0.10.3 in /lus/theta-fs0/software/thetagpu/conda/2021-11-30/mconda3/lib/python3.8/site-packages (from deephyper) (1.1.0)\n",
      "Requirement already satisfied: numpy in /lus/theta-fs0/software/thetagpu/conda/2021-11-30/mconda3/lib/python3.8/site-packages (from deephyper) (1.20.3)\n",
      "Requirement already satisfied: tensorflow-probability in /lus/theta-fs0/software/thetagpu/conda/2021-11-30/mconda3/lib/python3.8/site-packages (from deephyper) (0.14.0)\n",
      "Requirement already satisfied: pandas>=0.24.2 in /lus/theta-fs0/software/thetagpu/conda/2021-11-30/mconda3/lib/python3.8/site-packages (from deephyper) (1.3.4)\n",
      "Requirement already satisfied: pydot in /lus/theta-fs0/software/thetagpu/conda/2021-11-30/mconda3/lib/python3.8/site-packages (from deephyper) (1.4.2)\n",
      "Requirement already satisfied: scikit-learn>=0.23.1 in /lus/theta-fs0/software/thetagpu/conda/2021-11-30/mconda3/lib/python3.8/site-packages (from deephyper) (1.0.1)\n",
      "Requirement already satisfied: dh-scikit-optimize==0.9.5 in /lus/theta-fs0/software/thetagpu/conda/2021-11-30/mconda3/lib/python3.8/site-packages (from deephyper) (0.9.5)\n",
      "Requirement already satisfied: Jinja2 in /lus/theta-fs0/software/thetagpu/conda/2021-11-30/mconda3/lib/python3.8/site-packages (from deephyper) (3.0.3)\n",
      "Requirement already satisfied: ConfigSpace>=0.4.20 in /lus/theta-fs0/software/thetagpu/conda/2021-11-30/mconda3/lib/python3.8/site-packages (from deephyper) (0.4.20)\n",
      "Requirement already satisfied: deepspace>=0.0.5 in /lus/theta-fs0/software/thetagpu/conda/2021-11-30/mconda3/lib/python3.8/site-packages (from deephyper) (0.0.6)\n",
      "Requirement already satisfied: openml>=0.10.2 in /lus/theta-fs0/software/thetagpu/conda/2021-11-30/mconda3/lib/python3.8/site-packages (from deephyper) (0.12.2)\n",
      "Requirement already satisfied: tqdm in /lus/theta-fs0/software/thetagpu/conda/2021-11-30/mconda3/lib/python3.8/site-packages (from deephyper) (4.62.3)\n",
      "Requirement already satisfied: pyaml>=16.9 in /lus/theta-fs0/software/thetagpu/conda/2021-11-30/mconda3/lib/python3.8/site-packages (from dh-scikit-optimize==0.9.5->deephyper) (21.10.1)\n",
      "Requirement already satisfied: scipy>=0.19.1 in /lus/theta-fs0/software/thetagpu/conda/2021-11-30/mconda3/lib/python3.8/site-packages (from dh-scikit-optimize==0.9.5->deephyper) (1.7.3)\n",
      "Requirement already satisfied: cython in /lus/theta-fs0/software/thetagpu/conda/2021-11-30/mconda3/lib/python3.8/site-packages (from ConfigSpace>=0.4.20->deephyper) (0.29.24)\n",
      "Requirement already satisfied: pyparsing in /lus/theta-fs0/software/thetagpu/conda/2021-11-30/mconda3/lib/python3.8/site-packages (from ConfigSpace>=0.4.20->deephyper) (3.0.6)\n",
      "Requirement already satisfied: pillow>=6.2.0 in /lus/theta-fs0/software/thetagpu/conda/2021-11-30/mconda3/lib/python3.8/site-packages (from matplotlib>=3.0.3->deephyper) (8.4.0)\n",
      "Requirement already satisfied: kiwisolver>=1.0.1 in /lus/theta-fs0/software/thetagpu/conda/2021-11-30/mconda3/lib/python3.8/site-packages (from matplotlib>=3.0.3->deephyper) (1.3.2)\n",
      "Requirement already satisfied: packaging>=20.0 in /lus/theta-fs0/software/thetagpu/conda/2021-11-30/mconda3/lib/python3.8/site-packages (from matplotlib>=3.0.3->deephyper) (21.3)\n",
      "Requirement already satisfied: fonttools>=4.22.0 in /lus/theta-fs0/software/thetagpu/conda/2021-11-30/mconda3/lib/python3.8/site-packages (from matplotlib>=3.0.3->deephyper) (4.28.2)\n",
      "Requirement already satisfied: cycler>=0.10 in /lus/theta-fs0/software/thetagpu/conda/2021-11-30/mconda3/lib/python3.8/site-packages (from matplotlib>=3.0.3->deephyper) (0.11.0)\n",
      "Requirement already satisfied: setuptools-scm>=4 in /lus/theta-fs0/software/thetagpu/conda/2021-11-30/mconda3/lib/python3.8/site-packages (from matplotlib>=3.0.3->deephyper) (6.3.2)\n",
      "Requirement already satisfied: python-dateutil>=2.7 in /lus/theta-fs0/software/thetagpu/conda/2021-11-30/mconda3/lib/python3.8/site-packages (from matplotlib>=3.0.3->deephyper) (2.8.2)\n",
      "Requirement already satisfied: liac-arff>=2.4.0 in /lus/theta-fs0/software/thetagpu/conda/2021-11-30/mconda3/lib/python3.8/site-packages (from openml>=0.10.2->deephyper) (2.5.0)\n",
      "Requirement already satisfied: requests in /lus/theta-fs0/software/thetagpu/conda/2021-11-30/mconda3/lib/python3.8/site-packages (from openml>=0.10.2->deephyper) (2.26.0)\n",
      "Requirement already satisfied: pyarrow in /lus/theta-fs0/software/thetagpu/conda/2021-11-30/mconda3/lib/python3.8/site-packages (from openml>=0.10.2->deephyper) (6.0.1)\n",
      "Requirement already satisfied: xmltodict in /lus/theta-fs0/software/thetagpu/conda/2021-11-30/mconda3/lib/python3.8/site-packages (from openml>=0.10.2->deephyper) (0.12.0)\n",
      "Requirement already satisfied: minio in /lus/theta-fs0/software/thetagpu/conda/2021-11-30/mconda3/lib/python3.8/site-packages (from openml>=0.10.2->deephyper) (7.1.2)\n",
      "Requirement already satisfied: pytz>=2017.3 in /lus/theta-fs0/software/thetagpu/conda/2021-11-30/mconda3/lib/python3.8/site-packages (from pandas>=0.24.2->deephyper) (2021.3)\n",
      "Requirement already satisfied: filelock in /lus/theta-fs0/software/thetagpu/conda/2021-11-30/mconda3/lib/python3.8/site-packages (from ray[default]>=1.3.0->deephyper) (3.4.0)\n",
      "Requirement already satisfied: pyyaml in /lus/theta-fs0/software/thetagpu/conda/2021-11-30/mconda3/lib/python3.8/site-packages (from ray[default]>=1.3.0->deephyper) (6.0)\n",
      "Requirement already satisfied: grpcio>=1.28.1 in /lus/theta-fs0/software/thetagpu/conda/2021-11-30/mconda3/lib/python3.8/site-packages (from ray[default]>=1.3.0->deephyper) (1.42.0)\n",
      "Requirement already satisfied: jsonschema in /lus/theta-fs0/software/thetagpu/conda/2021-11-30/mconda3/lib/python3.8/site-packages (from ray[default]>=1.3.0->deephyper) (4.2.1)\n",
      "Requirement already satisfied: attrs in /lus/theta-fs0/software/thetagpu/conda/2021-11-30/mconda3/lib/python3.8/site-packages (from ray[default]>=1.3.0->deephyper) (21.2.0)\n",
      "Requirement already satisfied: redis>=3.5.0 in /lus/theta-fs0/software/thetagpu/conda/2021-11-30/mconda3/lib/python3.8/site-packages (from ray[default]>=1.3.0->deephyper) (4.0.2)\n",
      "Requirement already satisfied: protobuf>=3.15.3 in /lus/theta-fs0/software/thetagpu/conda/2021-11-30/mconda3/lib/python3.8/site-packages (from ray[default]>=1.3.0->deephyper) (3.19.1)\n",
      "Requirement already satisfied: msgpack<2.0.0,>=1.0.0 in /lus/theta-fs0/software/thetagpu/conda/2021-11-30/mconda3/lib/python3.8/site-packages (from ray[default]>=1.3.0->deephyper) (1.0.3)\n",
      "Requirement already satisfied: click>=7.0 in /lus/theta-fs0/software/thetagpu/conda/2021-11-30/mconda3/lib/python3.8/site-packages (from ray[default]>=1.3.0->deephyper) (7.1.2)\n",
      "Requirement already satisfied: aiohttp>=3.7 in /lus/theta-fs0/software/thetagpu/conda/2021-11-30/mconda3/lib/python3.8/site-packages (from ray[default]>=1.3.0->deephyper) (3.8.1)\n",
      "Requirement already satisfied: opencensus in /lus/theta-fs0/software/thetagpu/conda/2021-11-30/mconda3/lib/python3.8/site-packages (from ray[default]>=1.3.0->deephyper) (0.8.0)\n",
      "Requirement already satisfied: prometheus-client>=0.7.1 in /lus/theta-fs0/software/thetagpu/conda/2021-11-30/mconda3/lib/python3.8/site-packages (from ray[default]>=1.3.0->deephyper) (0.12.0)\n",
      "Requirement already satisfied: aiohttp-cors in /lus/theta-fs0/software/thetagpu/conda/2021-11-30/mconda3/lib/python3.8/site-packages (from ray[default]>=1.3.0->deephyper) (0.7.0)\n",
      "Requirement already satisfied: aioredis<2 in /lus/theta-fs0/software/thetagpu/conda/2021-11-30/mconda3/lib/python3.8/site-packages (from ray[default]>=1.3.0->deephyper) (1.3.1)\n",
      "Requirement already satisfied: gpustat>=1.0.0b1 in /lus/theta-fs0/software/thetagpu/conda/2021-11-30/mconda3/lib/python3.8/site-packages (from ray[default]>=1.3.0->deephyper) (1.0.0b1)\n",
      "Requirement already satisfied: py-spy>=0.2.0 in /lus/theta-fs0/software/thetagpu/conda/2021-11-30/mconda3/lib/python3.8/site-packages (from ray[default]>=1.3.0->deephyper) (0.3.11)\n",
      "Requirement already satisfied: colorful in /lus/theta-fs0/software/thetagpu/conda/2021-11-30/mconda3/lib/python3.8/site-packages (from ray[default]>=1.3.0->deephyper) (0.5.4)\n",
      "Requirement already satisfied: threadpoolctl>=2.0.0 in /lus/theta-fs0/software/thetagpu/conda/2021-11-30/mconda3/lib/python3.8/site-packages (from scikit-learn>=0.23.1->deephyper) (3.0.0)\n"
     ]
    },
    {
     "name": "stdout",
     "output_type": "stream",
     "text": [
      "Requirement already satisfied: astunparse>=1.6.0 in /lus/theta-fs0/software/thetagpu/conda/2021-11-30/mconda3/lib/python3.8/site-packages (from tensorflow>=2.0.0->deephyper) (1.6.3)\n",
      "Requirement already satisfied: keras<2.8,>=2.7.0 in /lus/theta-fs0/software/thetagpu/conda/2021-11-30/mconda3/lib/python3.8/site-packages (from tensorflow>=2.0.0->deephyper) (2.7.0)\n",
      "Requirement already satisfied: keras-preprocessing>=1.1.1 in /lus/theta-fs0/software/thetagpu/conda/2021-11-30/mconda3/lib/python3.8/site-packages (from tensorflow>=2.0.0->deephyper) (1.1.2)\n",
      "Requirement already satisfied: wheel<1.0,>=0.32.0 in /lus/theta-fs0/software/thetagpu/conda/2021-11-30/mconda3/lib/python3.8/site-packages (from tensorflow>=2.0.0->deephyper) (0.37.0)\n",
      "Requirement already satisfied: opt-einsum>=2.3.2 in /lus/theta-fs0/software/thetagpu/conda/2021-11-30/mconda3/lib/python3.8/site-packages (from tensorflow>=2.0.0->deephyper) (3.3.0)\n",
      "Requirement already satisfied: google-pasta>=0.1.1 in /lus/theta-fs0/software/thetagpu/conda/2021-11-30/mconda3/lib/python3.8/site-packages (from tensorflow>=2.0.0->deephyper) (0.2.0)\n",
      "Requirement already satisfied: tensorboard<2.8,>=2.7 in /lus/theta-fs0/software/thetagpu/conda/2021-11-30/mconda3/lib/python3.8/site-packages (from tensorflow>=2.0.0->deephyper) (2.7.0)\n",
      "Requirement already satisfied: tensorflow-estimator<2.8,>=2.7.0 in /lus/theta-fs0/software/thetagpu/conda/2021-11-30/mconda3/lib/python3.8/site-packages (from tensorflow>=2.0.0->deephyper) (2.7.0)\n",
      "Requirement already satisfied: absl-py>=0.4.0 in /lus/theta-fs0/software/thetagpu/conda/2021-11-30/mconda3/lib/python3.8/site-packages (from tensorflow>=2.0.0->deephyper) (1.0.0)\n",
      "Requirement already satisfied: tensorflow-io-gcs-filesystem>=0.21.0 in /lus/theta-fs0/software/thetagpu/conda/2021-11-30/mconda3/lib/python3.8/site-packages (from tensorflow>=2.0.0->deephyper) (0.22.0)\n",
      "Requirement already satisfied: six>=1.12.0 in /lus/theta-fs0/software/thetagpu/conda/2021-11-30/mconda3/lib/python3.8/site-packages (from tensorflow>=2.0.0->deephyper) (1.16.0)\n",
      "Requirement already satisfied: libclang>=9.0.1 in /lus/theta-fs0/software/thetagpu/conda/2021-11-30/mconda3/lib/python3.8/site-packages (from tensorflow>=2.0.0->deephyper) (12.0.0)\n",
      "Requirement already satisfied: gast<0.5.0,>=0.2.1 in /lus/theta-fs0/software/thetagpu/conda/2021-11-30/mconda3/lib/python3.8/site-packages (from tensorflow>=2.0.0->deephyper) (0.4.0)\n",
      "Requirement already satisfied: wrapt>=1.11.0 in /lus/theta-fs0/software/thetagpu/conda/2021-11-30/mconda3/lib/python3.8/site-packages (from tensorflow>=2.0.0->deephyper) (1.13.3)\n",
      "Requirement already satisfied: typing-extensions>=3.6.6 in /lus/theta-fs0/software/thetagpu/conda/2021-11-30/mconda3/lib/python3.8/site-packages (from tensorflow>=2.0.0->deephyper) (4.0.1)\n",
      "Requirement already satisfied: h5py>=2.9.0 in /lus/theta-fs0/software/thetagpu/conda/2021-11-30/mconda3/lib/python3.8/site-packages (from tensorflow>=2.0.0->deephyper) (3.6.0)\n",
      "Requirement already satisfied: termcolor>=1.1.0 in /lus/theta-fs0/software/thetagpu/conda/2021-11-30/mconda3/lib/python3.8/site-packages (from tensorflow>=2.0.0->deephyper) (1.1.0)\n",
      "Requirement already satisfied: flatbuffers<3.0,>=1.12 in /lus/theta-fs0/software/thetagpu/conda/2021-11-30/mconda3/lib/python3.8/site-packages (from tensorflow>=2.0.0->deephyper) (2.0)\n",
      "Requirement already satisfied: MarkupSafe>=2.0 in /lus/theta-fs0/software/thetagpu/conda/2021-11-30/mconda3/lib/python3.8/site-packages (from Jinja2->deephyper) (2.0.1)\n",
      "Requirement already satisfied: cloudpickle>=1.3 in /lus/theta-fs0/software/thetagpu/conda/2021-11-30/mconda3/lib/python3.8/site-packages (from tensorflow-probability->deephyper) (2.0.0)\n",
      "Requirement already satisfied: decorator in /lus/theta-fs0/software/thetagpu/conda/2021-11-30/mconda3/lib/python3.8/site-packages (from tensorflow-probability->deephyper) (5.1.0)\n",
      "Requirement already satisfied: async-timeout<5.0,>=4.0.0a3 in /lus/theta-fs0/software/thetagpu/conda/2021-11-30/mconda3/lib/python3.8/site-packages (from aiohttp>=3.7->ray[default]>=1.3.0->deephyper) (4.0.1)\n",
      "Requirement already satisfied: frozenlist>=1.1.1 in /lus/theta-fs0/software/thetagpu/conda/2021-11-30/mconda3/lib/python3.8/site-packages (from aiohttp>=3.7->ray[default]>=1.3.0->deephyper) (1.2.0)\n",
      "Requirement already satisfied: aiosignal>=1.1.2 in /lus/theta-fs0/software/thetagpu/conda/2021-11-30/mconda3/lib/python3.8/site-packages (from aiohttp>=3.7->ray[default]>=1.3.0->deephyper) (1.2.0)\n",
      "Requirement already satisfied: yarl<2.0,>=1.0 in /lus/theta-fs0/software/thetagpu/conda/2021-11-30/mconda3/lib/python3.8/site-packages (from aiohttp>=3.7->ray[default]>=1.3.0->deephyper) (1.7.2)\n",
      "Requirement already satisfied: charset-normalizer<3.0,>=2.0 in /lus/theta-fs0/software/thetagpu/conda/2021-11-30/mconda3/lib/python3.8/site-packages (from aiohttp>=3.7->ray[default]>=1.3.0->deephyper) (2.0.4)\n",
      "Requirement already satisfied: multidict<7.0,>=4.5 in /lus/theta-fs0/software/thetagpu/conda/2021-11-30/mconda3/lib/python3.8/site-packages (from aiohttp>=3.7->ray[default]>=1.3.0->deephyper) (5.2.0)\n",
      "Requirement already satisfied: hiredis in /lus/theta-fs0/software/thetagpu/conda/2021-11-30/mconda3/lib/python3.8/site-packages (from aioredis<2->ray[default]>=1.3.0->deephyper) (2.0.0)\n",
      "Requirement already satisfied: psutil in /lus/theta-fs0/software/thetagpu/conda/2021-11-30/mconda3/lib/python3.8/site-packages (from gpustat>=1.0.0b1->ray[default]>=1.3.0->deephyper) (5.8.0)\n",
      "Requirement already satisfied: nvidia-ml-py3>=7.352.0 in /lus/theta-fs0/software/thetagpu/conda/2021-11-30/mconda3/lib/python3.8/site-packages (from gpustat>=1.0.0b1->ray[default]>=1.3.0->deephyper) (7.352.0)\n",
      "Requirement already satisfied: blessed>=1.17.1 in /lus/theta-fs0/software/thetagpu/conda/2021-11-30/mconda3/lib/python3.8/site-packages (from gpustat>=1.0.0b1->ray[default]>=1.3.0->deephyper) (1.19.0)\n",
      "Requirement already satisfied: deprecated in /lus/theta-fs0/software/thetagpu/conda/2021-11-30/mconda3/lib/python3.8/site-packages (from redis>=3.5.0->ray[default]>=1.3.0->deephyper) (1.2.13)\n",
      "Requirement already satisfied: tomli>=1.0.0 in /lus/theta-fs0/software/thetagpu/conda/2021-11-30/mconda3/lib/python3.8/site-packages (from setuptools-scm>=4->matplotlib>=3.0.3->deephyper) (1.2.2)\n",
      "Requirement already satisfied: setuptools in /lus/theta-fs0/software/thetagpu/conda/2021-11-30/mconda3/lib/python3.8/site-packages (from setuptools-scm>=4->matplotlib>=3.0.3->deephyper) (59.4.0)\n",
      "Requirement already satisfied: markdown>=2.6.8 in /lus/theta-fs0/software/thetagpu/conda/2021-11-30/mconda3/lib/python3.8/site-packages (from tensorboard<2.8,>=2.7->tensorflow>=2.0.0->deephyper) (3.3.6)\n",
      "Requirement already satisfied: google-auth-oauthlib<0.5,>=0.4.1 in /lus/theta-fs0/software/thetagpu/conda/2021-11-30/mconda3/lib/python3.8/site-packages (from tensorboard<2.8,>=2.7->tensorflow>=2.0.0->deephyper) (0.4.6)\n",
      "Requirement already satisfied: tensorboard-data-server<0.7.0,>=0.6.0 in /lus/theta-fs0/software/thetagpu/conda/2021-11-30/mconda3/lib/python3.8/site-packages (from tensorboard<2.8,>=2.7->tensorflow>=2.0.0->deephyper) (0.6.1)\n",
      "Requirement already satisfied: tensorboard-plugin-wit>=1.6.0 in /lus/theta-fs0/software/thetagpu/conda/2021-11-30/mconda3/lib/python3.8/site-packages (from tensorboard<2.8,>=2.7->tensorflow>=2.0.0->deephyper) (1.8.0)\n",
      "Requirement already satisfied: google-auth<3,>=1.6.3 in /lus/theta-fs0/software/thetagpu/conda/2021-11-30/mconda3/lib/python3.8/site-packages (from tensorboard<2.8,>=2.7->tensorflow>=2.0.0->deephyper) (2.3.3)\n",
      "Requirement already satisfied: werkzeug>=0.11.15 in /lus/theta-fs0/software/thetagpu/conda/2021-11-30/mconda3/lib/python3.8/site-packages (from tensorboard<2.8,>=2.7->tensorflow>=2.0.0->deephyper) (2.0.2)\n",
      "Requirement already satisfied: idna<4,>=2.5 in /lus/theta-fs0/software/thetagpu/conda/2021-11-30/mconda3/lib/python3.8/site-packages (from requests->openml>=0.10.2->deephyper) (3.3)\n",
      "Requirement already satisfied: certifi>=2017.4.17 in /lus/theta-fs0/software/thetagpu/conda/2021-11-30/mconda3/lib/python3.8/site-packages (from requests->openml>=0.10.2->deephyper) (2021.10.8)\n",
      "Requirement already satisfied: urllib3<1.27,>=1.21.1 in /lus/theta-fs0/software/thetagpu/conda/2021-11-30/mconda3/lib/python3.8/site-packages (from requests->openml>=0.10.2->deephyper) (1.26.7)\n"
     ]
    },
    {
     "name": "stdout",
     "output_type": "stream",
     "text": [
      "Requirement already satisfied: importlib-resources>=1.4.0 in /lus/theta-fs0/software/thetagpu/conda/2021-11-30/mconda3/lib/python3.8/site-packages (from jsonschema->ray[default]>=1.3.0->deephyper) (5.4.0)\n",
      "Requirement already satisfied: pyrsistent!=0.17.0,!=0.17.1,!=0.17.2,>=0.14.0 in /lus/theta-fs0/software/thetagpu/conda/2021-11-30/mconda3/lib/python3.8/site-packages (from jsonschema->ray[default]>=1.3.0->deephyper) (0.18.0)\n",
      "Requirement already satisfied: opencensus-context==0.1.2 in /lus/theta-fs0/software/thetagpu/conda/2021-11-30/mconda3/lib/python3.8/site-packages (from opencensus->ray[default]>=1.3.0->deephyper) (0.1.2)\n",
      "Requirement already satisfied: google-api-core<3.0.0,>=1.0.0 in /lus/theta-fs0/software/thetagpu/conda/2021-11-30/mconda3/lib/python3.8/site-packages (from opencensus->ray[default]>=1.3.0->deephyper) (2.2.2)\n",
      "Requirement already satisfied: wcwidth>=0.1.4 in /lus/theta-fs0/software/thetagpu/conda/2021-11-30/mconda3/lib/python3.8/site-packages (from blessed>=1.17.1->gpustat>=1.0.0b1->ray[default]>=1.3.0->deephyper) (0.2.5)\n",
      "Requirement already satisfied: googleapis-common-protos<2.0dev,>=1.52.0 in /lus/theta-fs0/software/thetagpu/conda/2021-11-30/mconda3/lib/python3.8/site-packages (from google-api-core<3.0.0,>=1.0.0->opencensus->ray[default]>=1.3.0->deephyper) (1.53.0)\n",
      "Requirement already satisfied: pyasn1-modules>=0.2.1 in /lus/theta-fs0/software/thetagpu/conda/2021-11-30/mconda3/lib/python3.8/site-packages (from google-auth<3,>=1.6.3->tensorboard<2.8,>=2.7->tensorflow>=2.0.0->deephyper) (0.2.8)\n",
      "Requirement already satisfied: rsa<5,>=3.1.4 in /lus/theta-fs0/software/thetagpu/conda/2021-11-30/mconda3/lib/python3.8/site-packages (from google-auth<3,>=1.6.3->tensorboard<2.8,>=2.7->tensorflow>=2.0.0->deephyper) (4.8)\n",
      "Requirement already satisfied: cachetools<5.0,>=2.0.0 in /lus/theta-fs0/software/thetagpu/conda/2021-11-30/mconda3/lib/python3.8/site-packages (from google-auth<3,>=1.6.3->tensorboard<2.8,>=2.7->tensorflow>=2.0.0->deephyper) (4.2.4)\n",
      "Requirement already satisfied: requests-oauthlib>=0.7.0 in /lus/theta-fs0/software/thetagpu/conda/2021-11-30/mconda3/lib/python3.8/site-packages (from google-auth-oauthlib<0.5,>=0.4.1->tensorboard<2.8,>=2.7->tensorflow>=2.0.0->deephyper) (1.3.0)\n",
      "Requirement already satisfied: zipp>=3.1.0 in /lus/theta-fs0/software/thetagpu/conda/2021-11-30/mconda3/lib/python3.8/site-packages (from importlib-resources>=1.4.0->jsonschema->ray[default]>=1.3.0->deephyper) (3.6.0)\n",
      "Requirement already satisfied: importlib-metadata>=4.4 in /lus/theta-fs0/software/thetagpu/conda/2021-11-30/mconda3/lib/python3.8/site-packages (from markdown>=2.6.8->tensorboard<2.8,>=2.7->tensorflow>=2.0.0->deephyper) (4.8.2)\n",
      "Requirement already satisfied: pyasn1<0.5.0,>=0.4.6 in /lus/theta-fs0/software/thetagpu/conda/2021-11-30/mconda3/lib/python3.8/site-packages (from pyasn1-modules>=0.2.1->google-auth<3,>=1.6.3->tensorboard<2.8,>=2.7->tensorflow>=2.0.0->deephyper) (0.4.8)\n",
      "Requirement already satisfied: oauthlib>=3.0.0 in /lus/theta-fs0/software/thetagpu/conda/2021-11-30/mconda3/lib/python3.8/site-packages (from requests-oauthlib>=0.7.0->google-auth-oauthlib<0.5,>=0.4.1->tensorboard<2.8,>=2.7->tensorflow>=2.0.0->deephyper) (3.1.1)\n"
     ]
    }
   ],
   "source": [
    "!pip install deephyper"
   ]
  },
  {
   "cell_type": "markdown",
   "id": "t89JAGGwFWhM",
   "metadata": {
    "id": "t89JAGGwFWhM"
   },
   "source": [
    "<div class=\"alert alert-warning\">\n",
    "\n",
    "<b>Warning</b>\n",
    "    \n",
    "By design asyncio does not allow nested event loops. Jupyter is using Tornado which already starts an event loop. Therefore the following patch is required to run this tutorial.\n",
    "    \n",
    "</div>"
   ]
  },
  {
   "cell_type": "code",
   "execution_count": 2,
   "id": "5ec7fc77",
   "metadata": {
    "colab": {
     "base_uri": "https://localhost:8080/"
    },
    "id": "5ec7fc77",
    "outputId": "e467c26f-8bd4-4d74-eef2-91ecc44cb280"
   },
   "outputs": [
    {
     "name": "stdout",
     "output_type": "stream",
     "text": [
      "Defaulting to user installation because normal site-packages is not writeable\n",
      "Requirement already satisfied: nest_asyncio in /lus/theta-fs0/software/thetagpu/conda/2021-11-30/mconda3/lib/python3.8/site-packages (1.5.1)\n"
     ]
    }
   ],
   "source": [
    "!pip install nest_asyncio\n",
    "\n",
    "import nest_asyncio\n",
    "nest_asyncio.apply()"
   ]
  },
  {
   "cell_type": "markdown",
   "id": "639e9455",
   "metadata": {},
   "source": [
    "<div class=\"alert alert-info\">\n",
    "    \n",
    "<b>Note</b>\n",
    "    \n",
    "The following environment variables can be used to avoid the logging of **some** Tensorflow *DEBUG*, *INFO* and *WARNING* statements.\n",
    "    \n",
    "</div>"
   ]
  },
  {
   "cell_type": "code",
   "execution_count": 3,
   "id": "8bc7d633",
   "metadata": {},
   "outputs": [],
   "source": [
    "import os\n",
    "\n",
    "\n",
    "os.environ[\"TF_CPP_MIN_LOG_LEVEL\"] = str(3)\n",
    "os.environ[\"AUTOGRAPH_VERBOSITY\"] = str(0)"
   ]
  },
  {
   "cell_type": "markdown",
   "id": "62cd4e47",
   "metadata": {},
   "source": [
    "<div class=\"alert alert-info\">\n",
    "    \n",
    "<b>Note</b>\n",
    "    \n",
    "The following can be used to detect if <b>GPU</b> devices are available on the current host. Therefore, this notebook will automatically adapt the parallel execution based on the resources available locally. However, this simple code will not detect the ressources from multiple nodes.\n",
    "    \n",
    "</div>"
   ]
  },
  {
   "cell_type": "code",
   "execution_count": 4,
   "id": "5a6bb13f",
   "metadata": {},
   "outputs": [
    {
     "name": "stdout",
     "output_type": "stream",
     "text": [
      "1 GPU is available.\n"
     ]
    }
   ],
   "source": [
    "from tensorflow.python.client import device_lib\n",
    "\n",
    "\n",
    "def get_available_gpus():\n",
    "    local_device_protos = device_lib.list_local_devices()\n",
    "    return [x.name for x in local_device_protos if x.device_type == \"GPU\"]\n",
    "\n",
    "\n",
    "n_gpus = len(get_available_gpus())\n",
    "if n_gpus > 1:\n",
    "    n_gpus -= 1\n",
    "    \n",
    "is_gpu_available = n_gpus > 0\n",
    "\n",
    "if is_gpu_available:\n",
    "    print(f\"{n_gpus} GPU{'s are' if n_gpus > 1 else ' is'} available.\")\n",
    "else:\n",
    "    print(\"No GPU available\")"
   ]
  },
  {
   "cell_type": "markdown",
   "id": "a8ce038c",
   "metadata": {
    "id": "a8ce038c"
   },
   "source": [
    "## Loading the data\n",
    "\n",
    "First, we will create the `load_data` function which loads and returns the\n",
    "training and validation data. The `load_data` function generates data from\n",
    "a function $f$ where $\\mathbf{x} \\in [a, b]^n$  such as $f(\\mathbf{x}) = -\\sum_{i=0}^{n-1} {x_i ^2}$:"
   ]
  },
  {
   "cell_type": "code",
   "execution_count": 5,
   "id": "f7b5ce3f",
   "metadata": {
    "colab": {
     "base_uri": "https://localhost:8080/"
    },
    "id": "f7b5ce3f",
    "outputId": "d49c6a27-8b12-4430-d7bd-2302992bbe34"
   },
   "outputs": [
    {
     "name": "stdout",
     "output_type": "stream",
     "text": [
      "X_train shape: (8000, 10)\n",
      "y_train shape: (8000, 1)\n",
      "X_valid shape: (2000, 10)\n",
      "y_valid shape: (2000, 1)\n"
     ]
    }
   ],
   "source": [
    "import numpy as np\n",
    "\n",
    "def load_data(verbose=0, dim=10, a=-50, b=50, prop=0.80, size=10000):\n",
    "    rs = np.random.RandomState(2018)\n",
    "\n",
    "    def polynome_2(x):\n",
    "        return -sum([x_i ** 2 for x_i in x])\n",
    "\n",
    "    d = b - a\n",
    "    x = np.array([a + rs.random(dim) * d for _ in range(size)])\n",
    "    y = np.array([[polynome_2(v)] for v in x])\n",
    "\n",
    "    sep_index = int(prop * size)\n",
    "    X_train = x[:sep_index]\n",
    "    y_train = y[:sep_index]\n",
    "\n",
    "    X_valid = x[sep_index:]\n",
    "    y_valid = y[sep_index:]\n",
    "    \n",
    "    if verbose:\n",
    "        print(f\"X_train shape: {np.shape(X_train)}\")\n",
    "        print(f\"y_train shape: {np.shape(y_train)}\")\n",
    "        print(f\"X_valid shape: {np.shape(X_valid)}\")\n",
    "        print(f\"y_valid shape: {np.shape(y_valid)}\")\n",
    "    return (X_train, y_train), (X_valid, y_valid)\n",
    "\n",
    "\n",
    "_ = load_data(verbose=1)"
   ]
  },
  {
   "cell_type": "markdown",
   "id": "e5f4a6a0",
   "metadata": {
    "id": "e5f4a6a0"
   },
   "source": [
    "## Define a neural architecture search space\n",
    "\n",
    "Let us define the neural architecture search space. To do this we use a `KSearchSpace` class. We define the `ResNetMLPSpace` search space which is a sub-class of `KSearchSpace` where we have to implement a `build()` method which return itself. The `__init__` method is used to pass possible options of the search space such as the maximum number of layers `self.num_layers`.\n",
    "\n",
    "The input nodes can be retrieved with `self.input_nodes` which is automatically built depending on the `input_shape`.\n",
    "\n",
    "The search space is composed of `ConstantNode` and `VariableNode`. A `ConstantNode` defines a fixed operations whereas the `VariableNode` defines a list of possible operations (i.e., corresponds to a categorical decision variable). Operations can be defined directly from Keras Layers such as:\n",
    "\n",
    "```python\n",
    "Activation = operation(tf.keras.layers.Activation)\n",
    "```\n",
    "\n",
    "All nodes of the search space without outer edges are automatically assumed to be output nodes."
   ]
  },
  {
   "cell_type": "code",
   "execution_count": 6,
   "id": "603d78fb",
   "metadata": {
    "id": "603d78fb"
   },
   "outputs": [],
   "source": [
    "import collections\n",
    "\n",
    "import tensorflow as tf\n",
    "\n",
    "from deephyper.nas import KSearchSpace\n",
    "from deephyper.nas.node import ConstantNode, VariableNode\n",
    "from deephyper.nas.operation import operation, Zero, Connect, AddByProjecting, Identity\n",
    "\n",
    "\n",
    "Activation = operation(tf.keras.layers.Activation)\n",
    "Dense = operation(tf.keras.layers.Dense)\n",
    "Dropout = operation(tf.keras.layers.Dropout)\n",
    "Add = operation(tf.keras.layers.Add)\n",
    "Flatten = operation(tf.keras.layers.Flatten)\n",
    "\n",
    "ACTIVATIONS = [\n",
    "    tf.keras.activations.elu,\n",
    "    tf.keras.activations.gelu,\n",
    "    tf.keras.activations.hard_sigmoid,\n",
    "    tf.keras.activations.linear,\n",
    "    tf.keras.activations.relu,\n",
    "    tf.keras.activations.selu,\n",
    "    tf.keras.activations.sigmoid,\n",
    "    tf.keras.activations.softplus,\n",
    "    tf.keras.activations.softsign,\n",
    "    tf.keras.activations.swish,\n",
    "    tf.keras.activations.tanh,\n",
    "]\n",
    "\n",
    "\n",
    "class ResNetMLPSpace(KSearchSpace):\n",
    "    \n",
    "    def __init__(self, input_shape, output_shape, seed=None, num_layers=3, mode=\"regression\"):\n",
    "        super().__init__(input_shape, output_shape, seed=seed)\n",
    "        \n",
    "        self.num_layers = num_layers\n",
    "        assert mode in [\"regression\", \"classification\"]\n",
    "        self.mode = mode\n",
    "        \n",
    "    def build(self):\n",
    "        \n",
    "        source = self.input_nodes[0]\n",
    "        output_dim = self.output_shape[0]\n",
    "\n",
    "        out_sub_graph = self.build_sub_graph(source, self.num_layers)\n",
    "\n",
    "        if self.mode == \"regression\":\n",
    "            output = ConstantNode(op=Dense(output_dim)) \n",
    "            self.connect(out_sub_graph, output)\n",
    "        else:\n",
    "            output = ConstantNode(\n",
    "                op=Dense(output_dim, activation=\"softmax\")\n",
    "            )  # One-hot encoding\n",
    "            self.connect(out_sub_graph, output)\n",
    "\n",
    "        return self\n",
    "\n",
    "    def build_sub_graph(self, input_, num_layers=3):\n",
    "        source = prev_input = input_\n",
    "\n",
    "        # look over skip connections within a range of the 3 previous nodes\n",
    "        anchor_points = collections.deque([source], maxlen=3)\n",
    "\n",
    "        for _ in range(self.num_layers):\n",
    "            dense = VariableNode()\n",
    "            self.add_dense_to_(dense)\n",
    "            self.connect(prev_input, dense)\n",
    "            x = dense\n",
    "\n",
    "            dropout = VariableNode()\n",
    "            self.add_dropout_to_(dropout)\n",
    "            self.connect(x, dropout)\n",
    "            x = dropout\n",
    "\n",
    "            add = ConstantNode()\n",
    "            add.set_op(AddByProjecting(self, [x], activation=\"relu\"))\n",
    "\n",
    "            for anchor in anchor_points:\n",
    "                skipco = VariableNode()\n",
    "                skipco.add_op(Zero())\n",
    "                skipco.add_op(Connect(self, anchor))\n",
    "                self.connect(skipco, add)\n",
    "\n",
    "            prev_input = add\n",
    "\n",
    "            # ! for next iter\n",
    "            anchor_points.append(prev_input)\n",
    "\n",
    "        return prev_input\n",
    "\n",
    "    def add_dense_to_(self, node):\n",
    "        node.add_op(Identity())  # we do not want to create a layer in this case\n",
    "        for units in range(16, 16 * 16 + 1, 16):\n",
    "            for activation in ACTIVATIONS:\n",
    "                node.add_op(Dense(units=units, activation=activation))\n",
    "\n",
    "    def add_dropout_to_(self, node):\n",
    "        a, b = 1e-3, 0.4\n",
    "        node.add_op(Identity())\n",
    "        dropout_range = np.exp(np.linspace(np.log(a), np.log(b), 10))  #! NAS\n",
    "        for rate in dropout_range:\n",
    "            node.add_op(Dropout(rate))"
   ]
  },
  {
   "cell_type": "markdown",
   "id": "ad5eea4f",
   "metadata": {
    "id": "ad5eea4f"
   },
   "source": [
    "A `KSearchSpace` as some useful methods such as:\n",
    "\n",
    "* `space.sample(choice)` which returns a random model from the search space if `choice == None` or generate a model corresponding to the choice if not.\n",
    "* `space.choices()` which returns the list of discrete dimensions corresponding to the search space.\n",
    "\n",
    "Let us visualize a few randomly sampled neural architecture from this search space."
   ]
  },
  {
   "cell_type": "code",
   "execution_count": 7,
   "id": "42e4147e",
   "metadata": {
    "colab": {
     "base_uri": "https://localhost:8080/",
     "height": 863
    },
    "id": "42e4147e",
    "outputId": "f00129ee-bc22-4e6e-a9be-6b042741270d"
   },
   "outputs": [
    {
     "name": "stdout",
     "output_type": "stream",
     "text": [
      "Choices:  [(0, 176), (0, 10), (0, 1), (0, 176), (0, 10), (0, 1), (0, 1), (0, 176), (0, 10), (0, 1), (0, 1), (0, 1)]\n"
     ]
    },
    {
     "data": {
      "image/png": "[encoded data removed]",
      "text/plain": [
       "<Figure size 1080x1080 with 4 Axes>"
      ]
     },
     "metadata": {
      "needs_background": "light"
     },
     "output_type": "display_data"
    }
   ],
   "source": [
    "import matplotlib.pyplot as plt\n",
    "import matplotlib.image as mpimg\n",
    "from tensorflow.keras.utils import plot_model\n",
    "\n",
    "shapes = dict(input_shape=(10,), output_shape=(1,))\n",
    "space = ResNetMLPSpace(**shapes).build()\n",
    "\n",
    "print(\"Choices: \", space.choices())\n",
    "\n",
    "images = []\n",
    "plt.figure(figsize=(15,15))\n",
    "for i in range(4):\n",
    "    \n",
    "    plt.subplot(2,2,i+1)\n",
    "    model = space.sample()\n",
    "    plot_model(model, \"random_model.png\", \n",
    "               show_shapes=False, show_layer_names=False) \n",
    "    image = mpimg.imread(\"random_model.png\")   \n",
    "    plt.imshow(image)\n",
    "    plt.axis('off')\n",
    "\n",
    "plt.show()"
   ]
  },
  {
   "cell_type": "markdown",
   "id": "25948d79",
   "metadata": {
    "id": "25948d79"
   },
   "source": [
    "## Create a problem instance\n",
    "\n",
    "Let us define the neural architecture search problem."
   ]
  },
  {
   "cell_type": "code",
   "execution_count": 8,
   "id": "8be0797a",
   "metadata": {
    "colab": {
     "base_uri": "https://localhost:8080/"
    },
    "id": "8be0797a",
    "outputId": "e809405e-b53d-46cf-8a5f-356eb29b91c9"
   },
   "outputs": [
    {
     "data": {
      "text/plain": [
       "Problem is:\n",
       "    - search space   : __main__.ResNetMLPSpace\n",
       "    - data loading   : __main__.load_data\n",
       "    - preprocessing  : deephyper.nas.preprocessing._base.minmaxstdscaler\n",
       "    - hyperparameters: \n",
       "        * verbose: 0\n",
       "        * batch_size: 32\n",
       "        * learning_rate: 0.01\n",
       "        * optimizer: adam\n",
       "        * num_epochs: 20\n",
       "        * callbacks: {'EarlyStopping': {'monitor': 'val_r2', 'mode': 'max', 'verbose': 0, 'patience': 5}}\n",
       "    - loss           : mse\n",
       "    - metrics        : \n",
       "        * r2\n",
       "    - objective      : val_r2__last"
      ]
     },
     "execution_count": 8,
     "metadata": {},
     "output_type": "execute_result"
    }
   ],
   "source": [
    "from deephyper.problem import NaProblem\n",
    "from deephyper.nas.preprocessing import minmaxstdscaler\n",
    "\n",
    "# Create a Neural Architecture problem\n",
    "problem = NaProblem()\n",
    "\n",
    "# Link the load-data function\n",
    "problem.load_data(load_data)\n",
    "\n",
    "# The function passed to preprocessing has to return \n",
    "# a scikit-learn like preprocessor.\n",
    "problem.preprocessing(minmaxstdscaler)\n",
    "\n",
    "# Link the defined search space\n",
    "problem.search_space(ResNetMLPSpace)\n",
    "\n",
    "# Fixed hyperparameters for all trained models\n",
    "problem.hyperparameters(\n",
    "    batch_size=32,\n",
    "    learning_rate=0.01,\n",
    "    optimizer=\"adam\",\n",
    "    num_epochs=20,\n",
    "    callbacks=dict(\n",
    "        EarlyStopping=dict(\n",
    "            monitor=\"val_r2\", mode=\"max\", verbose=0, patience=5\n",
    "        )\n",
    "    ),\n",
    ")\n",
    "\n",
    "# Define the optimized loss (it can also be a function)\n",
    "problem.loss(\"mse\")\n",
    "\n",
    "# Define metrics to compute for each training and validation epoch\n",
    "problem.metrics([\"r2\"])\n",
    "\n",
    "# Define the maximised objective\n",
    "problem.objective(\"val_r2__last\")\n",
    "\n",
    "problem"
   ]
  },
  {
   "cell_type": "markdown",
   "id": "64b501b3",
   "metadata": {
    "id": "64b501b3"
   },
   "source": [
    "Find more about `NaProblem` settings on the [Problem documentation](https://deephyper.readthedocs.io/en/latest/api/deephyper.problem.html).\n",
    "\n",
    "<div class=\"alert alert-info\">\n",
    "    \n",
    "<b>Tip</b>\n",
    "    \n",
    "\n",
    "Adding an `EarlyStopping(...)` callback is a good idea to stop the training of your model as soon as it stops to improve.\n",
    "\n",
    "```python\n",
    "...\n",
    "EarlyStopping=dict(monitor=\"val_r2\", mode=\"max\", verbose=0, patience=5)\n",
    "...\n",
    "```\n",
    "    \n",
    "</div>"
   ]
  },
  {
   "cell_type": "markdown",
   "id": "8d4ba367",
   "metadata": {
    "id": "8d4ba367"
   },
   "source": [
    "## Running the search"
   ]
  },
  {
   "cell_type": "markdown",
   "id": "b452fe5b",
   "metadata": {
    "id": "b452fe5b"
   },
   "source": [
    "Create an `Evaluator` object using the `ray` backend to distribute the evaluation of the run-function. In neural architecture search DeepHyper provides the `run_base_trainer` function which automate the training process of a sampled model."
   ]
  },
  {
   "cell_type": "code",
   "execution_count": 9,
   "id": "197f723d",
   "metadata": {
    "colab": {
     "base_uri": "https://localhost:8080/"
    },
    "id": "197f723d",
    "outputId": "f8a945c2-5b22-4f6f-8551-37e80a905593"
   },
   "outputs": [
    {
     "name": "stderr",
     "output_type": "stream",
     "text": [
      "2022-02-10 06:43:11,972\tWARNING services.py:1748 -- WARNING: The object store is using /tmp instead of /dev/shm because /dev/shm has only 8589807616 bytes available. This will harm performance! You may be able to free up space by deleting files in /dev/shm. If you are inside a Docker container, you can increase /dev/shm size by passing '--shm-size=10.24gb' to 'docker run' (or add it to the run_options list in a Ray cluster config). Make sure to set this to more than 30% of available RAM.\n"
     ]
    },
    {
     "name": "stdout",
     "output_type": "stream",
     "text": [
      "Created new evaluator with 1 worker and config: {'num_cpus': 1, 'num_cpus_per_task': 1, 'callbacks': [<deephyper.evaluator.callback.LoggerCallback object at 0x7f58e0362880>], 'num_gpus': 1, 'num_gpus_per_task': 1}\n"
     ]
    }
   ],
   "source": [
    "from deephyper.evaluator import Evaluator\n",
    "from deephyper.evaluator.callback import LoggerCallback\n",
    "from deephyper.nas.run import run_base_trainer\n",
    "\n",
    "\n",
    "def get_evaluator(run_function):\n",
    "    # Default arguments for Ray: 1 worker and 1 worker per evaluation\n",
    "    method_kwargs = {\n",
    "        \"num_cpus\": 1, \n",
    "        \"num_cpus_per_task\": 1,\n",
    "        \"callbacks\": [LoggerCallback()]\n",
    "    }\n",
    "\n",
    "    # If GPU devices are detected then it will create 'n_gpus' workers\n",
    "    # and use 1 worker for each evaluation\n",
    "    if is_gpu_available:\n",
    "        method_kwargs[\"num_cpus\"] = n_gpus\n",
    "        method_kwargs[\"num_gpus\"] = n_gpus\n",
    "        method_kwargs[\"num_cpus_per_task\"] = 1\n",
    "        method_kwargs[\"num_gpus_per_task\"] = 1\n",
    "\n",
    "    evaluator = Evaluator.create(\n",
    "        run_function, \n",
    "        method=\"ray\", \n",
    "        method_kwargs=method_kwargs\n",
    "    )\n",
    "    print(f\"Created new evaluator with {evaluator.num_workers} worker{'s' if evaluator.num_workers > 1 else ''} and config: {method_kwargs}\", )\n",
    "    \n",
    "    return evaluator\n",
    "\n",
    "evaluator_1 = get_evaluator(run_base_trainer)"
   ]
  },
  {
   "cell_type": "markdown",
   "id": "1b6cd751",
   "metadata": {
    "id": "1b6cd751"
   },
   "source": [
    "<div class=\"alert alert-info\">\n",
    "    \n",
    "<b>Tip</b> \n",
    "    \n",
    "If executed locally, you can open the ray-dashboard at an address like <a>http://127.0.0.1:port</a> in a browser to monitor the CPU usage of the execution.\n",
    "    \n",
    "</div>\n",
    "\n",
    "Finally, you can define a Random search called `Random` and link to it the defined `problem` and `evaluator`."
   ]
  },
  {
   "cell_type": "code",
   "execution_count": 10,
   "id": "b2e09062",
   "metadata": {
    "id": "b2e09062"
   },
   "outputs": [],
   "source": [
    "from deephyper.search.nas import Random\n",
    "\n",
    "\n",
    "search = Random(problem, evaluator_1)"
   ]
  },
  {
   "cell_type": "code",
   "execution_count": 11,
   "id": "0892e8a0",
   "metadata": {
    "colab": {
     "base_uri": "https://localhost:8080/"
    },
    "id": "0892e8a0",
    "outputId": "2314a970-98a2-4b33-c0b5-d108d6272152"
   },
   "outputs": [
    {
     "name": "stdout",
     "output_type": "stream",
     "text": [
      "[00001] -- best objective: 0.96638 -- received objective: 0.96638\n",
      "[00002] -- best objective: 0.96638 -- received objective: 0.78498\n",
      "[00003] -- best objective: 0.98785 -- received objective: 0.98785\n",
      "[00004] -- best objective: 0.98785 -- received objective: 0.97289\n",
      "[00005] -- best objective: 0.98785 -- received objective: 0.97746\n",
      "[00006] -- best objective: 0.98785 -- received objective: 0.95083\n",
      "[00007] -- best objective: 0.98785 -- received objective: 0.94777\n",
      "[00008] -- best objective: 0.98785 -- received objective: 0.97849\n",
      "[00009] -- best objective: 0.98785 -- received objective: 0.92696\n",
      "[00010] -- best objective: 0.98785 -- received objective: 0.96118\n"
     ]
    }
   ],
   "source": [
    "if os.path.exists(\"save/history\"):\n",
    "    histories = [os.path.join(\"save/history\", f) for f in os.listdir(\"save/history/\") if \".json\" in f]\n",
    "    for history in histories:\n",
    "        os.remove(history)\n",
    "\n",
    "results = search.search(10)"
   ]
  },
  {
   "cell_type": "markdown",
   "id": "eb594125",
   "metadata": {
    "id": "eb594125"
   },
   "source": [
    "After the search is over, you will find the following files in your current folder:\n",
    "\n",
    "```\n",
    "results.csv\n",
    "save/\n",
    "```\n",
    "\n",
    "Let us visualize the training of our models. First, we need to load the training history of each model which are located in `save/history`:"
   ]
  },
  {
   "cell_type": "code",
   "execution_count": 12,
   "id": "c99ecd2d",
   "metadata": {
    "colab": {
     "base_uri": "https://localhost:8080/"
    },
    "id": "c99ecd2d",
    "outputId": "3ec536dc-b958-40e9-877d-37af339600dc"
   },
   "outputs": [
    {
     "name": "stdout",
     "output_type": "stream",
     "text": [
      "['n_parameters', 'training_time', 'loss', 'r2', 'val_loss', 'val_r2']\n"
     ]
    }
   ],
   "source": [
    "import os\n",
    "import json\n",
    "\n",
    "\n",
    "histories = [os.path.join(\"save/history\", f) for f in os.listdir(\"save/history/\") if \".json\" in f]\n",
    "\n",
    "for i, fpath in enumerate(histories):\n",
    "    with open(fpath, \"r\") as fd:\n",
    "        histories[i] = json.load(fd)\n",
    "        \n",
    "print(list(histories[0].keys()))"
   ]
  },
  {
   "cell_type": "code",
   "execution_count": 13,
   "id": "0aed3cf4",
   "metadata": {
    "colab": {
     "base_uri": "https://localhost:8080/",
     "height": 279
    },
    "id": "0aed3cf4",
    "outputId": "c7732592-d0af-426a-e1e2-a54357307069"
   },
   "outputs": [
    {
     "data": {
      "text/plain": [
       "Text(0.5, 0, 'Epochs')"
      ]
     },
     "execution_count": 13,
     "metadata": {},
     "output_type": "execute_result"
    },
    {
     "data": {
      "image/png": "[encoded data removed]",
      "text/plain": [
       "<Figure size 432x288 with 1 Axes>"
      ]
     },
     "metadata": {
      "needs_background": "light"
     },
     "output_type": "display_data"
    }
   ],
   "source": [
    "plt.figure()\n",
    "plt.clf()\n",
    "\n",
    "for h in histories:\n",
    "    plt.plot(h[\"val_r2\"])\n",
    "\n",
    "plt.ylabel(\"Validation $R^2$\")\n",
    "plt.xlabel(\"Epochs\")\n"
   ]
  },
  {
   "cell_type": "markdown",
   "id": "c02b4096",
   "metadata": {
    "id": "c02b4096"
   },
   "source": [
    "Once the search is over, a file named `results.csv` is saved in the current directory. The same dataframe is returned by the `search.search(...)` call. It contains the configurations evaluated during the search and their corresponding `objective` value (i.e, validation accuracy), `duration` of computation and time of computation with `elapsed_sec`. Each neural architecture is embedded as a list of discrete decision variables called `arch_seq`."
   ]
  },
  {
   "cell_type": "code",
   "execution_count": 14,
   "id": "15e7aed4",
   "metadata": {
    "colab": {
     "base_uri": "https://localhost:8080/",
     "height": 363
    },
    "id": "15e7aed4",
    "outputId": "4942cd87-9c3b-4ebb-f8c6-52c79e5b3eb9"
   },
   "outputs": [
    {
     "data": {
      "text/html": [
       "<div>\n",
       "<style scoped>\n",
       "    .dataframe tbody tr th:only-of-type {\n",
       "        vertical-align: middle;\n",
       "    }\n",
       "\n",
       "    .dataframe tbody tr th {\n",
       "        vertical-align: top;\n",
       "    }\n",
       "\n",
       "    .dataframe thead th {\n",
       "        text-align: right;\n",
       "    }\n",
       "</style>\n",
       "<table border=\"1\" class=\"dataframe\">\n",
       "  <thead>\n",
       "    <tr style=\"text-align: right;\">\n",
       "      <th></th>\n",
       "      <th>arch_seq</th>\n",
       "      <th>id</th>\n",
       "      <th>objective</th>\n",
       "      <th>elapsed_sec</th>\n",
       "      <th>duration</th>\n",
       "    </tr>\n",
       "  </thead>\n",
       "  <tbody>\n",
       "    <tr>\n",
       "      <th>0</th>\n",
       "      <td>[117, 0, 1, 83, 0, 0, 0, 115, 2, 1, 0, 1]</td>\n",
       "      <td>1</td>\n",
       "      <td>0.966377</td>\n",
       "      <td>16.005563</td>\n",
       "      <td>14.461492</td>\n",
       "    </tr>\n",
       "    <tr>\n",
       "      <th>1</th>\n",
       "      <td>[83, 5, 0, 173, 3, 0, 1, 114, 10, 0, 0, 0]</td>\n",
       "      <td>2</td>\n",
       "      <td>0.784980</td>\n",
       "      <td>23.184479</td>\n",
       "      <td>7.177167</td>\n",
       "    </tr>\n",
       "    <tr>\n",
       "      <th>2</th>\n",
       "      <td>[131, 1, 1, 9, 2, 1, 1, 97, 3, 0, 0, 1]</td>\n",
       "      <td>3</td>\n",
       "      <td>0.987855</td>\n",
       "      <td>31.552139</td>\n",
       "      <td>8.366397</td>\n",
       "    </tr>\n",
       "    <tr>\n",
       "      <th>3</th>\n",
       "      <td>[166, 4, 1, 16, 8, 1, 0, 142, 2, 0, 1, 0]</td>\n",
       "      <td>4</td>\n",
       "      <td>0.972885</td>\n",
       "      <td>40.329282</td>\n",
       "      <td>8.776129</td>\n",
       "    </tr>\n",
       "    <tr>\n",
       "      <th>4</th>\n",
       "      <td>[86, 5, 0, 49, 6, 1, 0, 41, 1, 0, 0, 1]</td>\n",
       "      <td>5</td>\n",
       "      <td>0.977457</td>\n",
       "      <td>50.230067</td>\n",
       "      <td>9.899308</td>\n",
       "    </tr>\n",
       "    <tr>\n",
       "      <th>5</th>\n",
       "      <td>[38, 5, 1, 135, 0, 0, 1, 152, 1, 1, 0, 0]</td>\n",
       "      <td>6</td>\n",
       "      <td>0.950827</td>\n",
       "      <td>55.772317</td>\n",
       "      <td>5.540768</td>\n",
       "    </tr>\n",
       "    <tr>\n",
       "      <th>6</th>\n",
       "      <td>[73, 9, 1, 17, 8, 1, 1, 96, 5, 1, 0, 1]</td>\n",
       "      <td>7</td>\n",
       "      <td>0.947772</td>\n",
       "      <td>63.223380</td>\n",
       "      <td>7.449811</td>\n",
       "    </tr>\n",
       "    <tr>\n",
       "      <th>7</th>\n",
       "      <td>[75, 6, 1, 60, 6, 0, 1, 155, 5, 1, 1, 1]</td>\n",
       "      <td>8</td>\n",
       "      <td>0.978486</td>\n",
       "      <td>74.672457</td>\n",
       "      <td>11.447643</td>\n",
       "    </tr>\n",
       "    <tr>\n",
       "      <th>8</th>\n",
       "      <td>[117, 2, 1, 121, 1, 1, 1, 127, 9, 0, 0, 0]</td>\n",
       "      <td>9</td>\n",
       "      <td>0.926956</td>\n",
       "      <td>80.926041</td>\n",
       "      <td>6.252307</td>\n",
       "    </tr>\n",
       "    <tr>\n",
       "      <th>9</th>\n",
       "      <td>[136, 4, 1, 78, 5, 1, 0, 129, 5, 0, 1, 0]</td>\n",
       "      <td>10</td>\n",
       "      <td>0.961181</td>\n",
       "      <td>91.371069</td>\n",
       "      <td>10.443996</td>\n",
       "    </tr>\n",
       "  </tbody>\n",
       "</table>\n",
       "</div>"
      ],
      "text/plain": [
       "                                     arch_seq  id  objective  elapsed_sec  \\\n",
       "0   [117, 0, 1, 83, 0, 0, 0, 115, 2, 1, 0, 1]   1   0.966377    16.005563   \n",
       "1  [83, 5, 0, 173, 3, 0, 1, 114, 10, 0, 0, 0]   2   0.784980    23.184479   \n",
       "2     [131, 1, 1, 9, 2, 1, 1, 97, 3, 0, 0, 1]   3   0.987855    31.552139   \n",
       "3   [166, 4, 1, 16, 8, 1, 0, 142, 2, 0, 1, 0]   4   0.972885    40.329282   \n",
       "4     [86, 5, 0, 49, 6, 1, 0, 41, 1, 0, 0, 1]   5   0.977457    50.230067   \n",
       "5   [38, 5, 1, 135, 0, 0, 1, 152, 1, 1, 0, 0]   6   0.950827    55.772317   \n",
       "6     [73, 9, 1, 17, 8, 1, 1, 96, 5, 1, 0, 1]   7   0.947772    63.223380   \n",
       "7    [75, 6, 1, 60, 6, 0, 1, 155, 5, 1, 1, 1]   8   0.978486    74.672457   \n",
       "8  [117, 2, 1, 121, 1, 1, 1, 127, 9, 0, 0, 0]   9   0.926956    80.926041   \n",
       "9   [136, 4, 1, 78, 5, 1, 0, 129, 5, 0, 1, 0]  10   0.961181    91.371069   \n",
       "\n",
       "    duration  \n",
       "0  14.461492  \n",
       "1   7.177167  \n",
       "2   8.366397  \n",
       "3   8.776129  \n",
       "4   9.899308  \n",
       "5   5.540768  \n",
       "6   7.449811  \n",
       "7  11.447643  \n",
       "8   6.252307  \n",
       "9  10.443996  "
      ]
     },
     "execution_count": 14,
     "metadata": {},
     "output_type": "execute_result"
    }
   ],
   "source": [
    "results"
   ]
  },
  {
   "cell_type": "markdown",
   "id": "c6d51e46",
   "metadata": {
    "id": "c6d51e46"
   },
   "source": [
    "The `deephyper-analytics` command line is a way of analyzing this type of file. For example, we want to output the best configuration we can use the `topk` functionnality."
   ]
  },
  {
   "cell_type": "code",
   "execution_count": 15,
   "id": "d7da7c6b",
   "metadata": {
    "colab": {
     "base_uri": "https://localhost:8080/"
    },
    "id": "d7da7c6b",
    "outputId": "d7fedf5a-c7bb-4d06-b2db-999fde9dfec3"
   },
   "outputs": [
    {
     "name": "stdout",
     "output_type": "stream",
     "text": [
      "'0':\r\n",
      "  arch_seq: '[131, 1, 1, 9, 2, 1, 1, 97, 3, 0, 0, 1]'\r\n",
      "  duration: 8.3663973808\r\n",
      "  elapsed_sec: 31.5521390438\r\n",
      "  id: 3\r\n",
      "  objective: 0.987854898\r\n",
      "'1':\r\n",
      "  arch_seq: '[75, 6, 1, 60, 6, 0, 1, 155, 5, 1, 1, 1]'\r\n",
      "  duration: 11.4476428032\r\n",
      "  elapsed_sec: 74.6724574566\r\n",
      "  id: 8\r\n",
      "  objective: 0.9784857631\r\n",
      "'2':\r\n",
      "  arch_seq: '[86, 5, 0, 49, 6, 1, 0, 41, 1, 0, 0, 1]'\r\n",
      "  duration: 9.8993084431\r\n",
      "  elapsed_sec: 50.2300672531\r\n",
      "  id: 5\r\n",
      "  objective: 0.9774566293\r\n",
      "\r\n"
     ]
    }
   ],
   "source": [
    "!deephyper-analytics topk results.csv -k 3"
   ]
  },
  {
   "cell_type": "markdown",
   "id": "b20418e5",
   "metadata": {
    "id": "b20418e5"
   },
   "source": [
    "Where each architecture is described as a vector of scalar values named arch_seq. In fact, each of this scalar values represents chosen operations for the variable nodes of our search space. \n",
    "\n",
    "## Testing the best configuration\n",
    "\n",
    "We can visualize the architecture of the best configuration:"
   ]
  },
  {
   "cell_type": "code",
   "execution_count": 16,
   "id": "72c07327",
   "metadata": {
    "colab": {
     "base_uri": "https://localhost:8080/",
     "height": 1000
    },
    "id": "72c07327",
    "outputId": "cf385040-ffcc-4835-a446-ae7238e6833c"
   },
   "outputs": [
    {
     "data": {
      "image/png": "[encoded data removed]",
      "text/plain": [
       "<IPython.core.display.Image object>"
      ]
     },
     "execution_count": 16,
     "metadata": {},
     "output_type": "execute_result"
    }
   ],
   "source": [
    "best_config = results.iloc[results.objective.argmax()][:-2].to_dict()\n",
    "arch_seq = json.loads(best_config[\"arch_seq\"])\n",
    "model = space.sample(arch_seq)\n",
    "plot_model(model, show_shapes=False, show_layer_names=False) "
   ]
  }
 ],
 "metadata": {
  "colab": {
   "name": "tutorial_05.ipynb",
   "provenance": []
  },
  "interpreter": {
   "hash": "c33774984308773a164e9991715538701a09ddea2391d4c1ef9b39eda340d87d"
  },
  "kernelspec": {
   "display_name": "conda/2021-11-30",
   "language": "python",
   "name": "conda-2021-11-30"
  },
  "language_info": {
   "codemirror_mode": {
    "name": "ipython",
    "version": 3
   },
   "file_extension": ".py",
   "mimetype": "text/x-python",
   "name": "python",
   "nbconvert_exporter": "python",
   "pygments_lexer": "ipython3",
   "version": "3.8.10"
  }
 },
 "nbformat": 4,
 "nbformat_minor": 5
}
