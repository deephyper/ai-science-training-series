{
 "cells": [
  {
   "cell_type": "markdown",
   "id": "f7ef2e27",
   "metadata": {
    "id": "f7ef2e27"
   },
   "source": [
    "# Hyperparameter search for classification with Tabular data (Keras)\n",
    "\n",
    "[![Open In Colab](https://colab.research.google.com/assets/colab-badge.svg)](https://colab.research.google.com/github/deephyper/tutorials/blob/main/tutorials/colab/HPS_basic_classification_with_tabular_data/notebook.ipynb)\n",
    "\n",
    "In this tutorial we present how to use hyperparameter optimization on a basic example from the Keras documentation.\n",
    "\n",
    "**Reference**:\n",
    " This tutorial is based on materials from the Keras Documentation: [Structured data classification from scratch](https://keras.io/examples/structured_data/structured_data_classification_from_scratch/)\n",
    "\n",
    "Let us start with installing DeepHyper!\n",
    "    \n",
    "<div class=\"alert alert-warning\">\n",
    "\n",
    "<b>Warning</b>\n",
    "    \n",
    "This tutorial should be run with `tensorflow>=2.6`.\n",
    "    \n",
    "</div>"
   ]
  },
  {
   "cell_type": "code",
   "execution_count": 1,
   "id": "g0AOef6cDGNp",
   "metadata": {
    "colab": {
     "base_uri": "https://localhost:8080/"
    },
    "id": "g0AOef6cDGNp",
    "outputId": "3d9ba6bb-5040-4809-9ab2-9a5c401f4b5a"
   },
   "outputs": [
    {
     "name": "stdout",
     "output_type": "stream",
     "text": [
      "Defaulting to user installation because normal site-packages is not writeable\n",
      "Requirement already satisfied: deephyper in /lus/theta-fs0/software/thetagpu/conda/2021-11-30/mconda3/lib/python3.8/site-packages (0.3.3)\n",
      "Requirement already satisfied: ConfigSpace>=0.4.20 in /lus/theta-fs0/software/thetagpu/conda/2021-11-30/mconda3/lib/python3.8/site-packages (from deephyper) (0.4.20)\n",
      "Requirement already satisfied: tensorflow>=2.0.0 in /lus/theta-fs0/software/thetagpu/conda/2021-11-30/mconda3/lib/python3.8/site-packages (from deephyper) (2.8.0)\n",
      "Requirement already satisfied: numpy in /lus/theta-fs0/software/thetagpu/conda/2021-11-30/mconda3/lib/python3.8/site-packages (from deephyper) (1.20.3)\n",
      "Requirement already satisfied: openml>=0.10.2 in /lus/theta-fs0/software/thetagpu/conda/2021-11-30/mconda3/lib/python3.8/site-packages (from deephyper) (0.12.2)\n",
      "Requirement already satisfied: xgboost in /lus/theta-fs0/software/thetagpu/conda/2021-11-30/mconda3/lib/python3.8/site-packages (from deephyper) (1.5.1)\n",
      "Requirement already satisfied: pandas>=0.24.2 in /lus/theta-fs0/software/thetagpu/conda/2021-11-30/mconda3/lib/python3.8/site-packages (from deephyper) (1.3.4)\n",
      "Requirement already satisfied: dm-tree in /lus/theta-fs0/software/thetagpu/conda/2021-11-30/mconda3/lib/python3.8/site-packages (from deephyper) (0.1.6)\n",
      "Requirement already satisfied: dh-scikit-optimize==0.9.5 in /lus/theta-fs0/software/thetagpu/conda/2021-11-30/mconda3/lib/python3.8/site-packages (from deephyper) (0.9.5)\n",
      "Requirement already satisfied: matplotlib>=3.0.3 in /lus/theta-fs0/software/thetagpu/conda/2021-11-30/mconda3/lib/python3.8/site-packages (from deephyper) (3.5.0)\n",
      "Requirement already satisfied: ray[default]>=1.3.0 in /lus/theta-fs0/software/thetagpu/conda/2021-11-30/mconda3/lib/python3.8/site-packages (from deephyper) (1.8.0)\n",
      "Requirement already satisfied: scikit-learn>=0.23.1 in /lus/theta-fs0/software/thetagpu/conda/2021-11-30/mconda3/lib/python3.8/site-packages (from deephyper) (1.0.1)\n",
      "Requirement already satisfied: joblib>=0.10.3 in /lus/theta-fs0/software/thetagpu/conda/2021-11-30/mconda3/lib/python3.8/site-packages (from deephyper) (1.1.0)\n",
      "Requirement already satisfied: tqdm in /lus/theta-fs0/software/thetagpu/conda/2021-11-30/mconda3/lib/python3.8/site-packages (from deephyper) (4.62.3)\n",
      "Requirement already satisfied: tensorflow-probability in /lus/theta-fs0/software/thetagpu/conda/2021-11-30/mconda3/lib/python3.8/site-packages (from deephyper) (0.14.0)\n",
      "Requirement already satisfied: deepspace>=0.0.5 in /lus/theta-fs0/software/thetagpu/conda/2021-11-30/mconda3/lib/python3.8/site-packages (from deephyper) (0.0.6)\n",
      "Requirement already satisfied: networkx in /lus/theta-fs0/software/thetagpu/conda/2021-11-30/mconda3/lib/python3.8/site-packages (from deephyper) (2.6.3)\n",
      "Requirement already satisfied: Jinja2 in /lus/theta-fs0/software/thetagpu/conda/2021-11-30/mconda3/lib/python3.8/site-packages (from deephyper) (3.0.3)\n",
      "Requirement already satisfied: pydot in /lus/theta-fs0/software/thetagpu/conda/2021-11-30/mconda3/lib/python3.8/site-packages (from deephyper) (1.4.2)\n",
      "Requirement already satisfied: pyaml>=16.9 in /lus/theta-fs0/software/thetagpu/conda/2021-11-30/mconda3/lib/python3.8/site-packages (from dh-scikit-optimize==0.9.5->deephyper) (21.10.1)\n",
      "Requirement already satisfied: scipy>=0.19.1 in /lus/theta-fs0/software/thetagpu/conda/2021-11-30/mconda3/lib/python3.8/site-packages (from dh-scikit-optimize==0.9.5->deephyper) (1.7.3)\n",
      "Requirement already satisfied: pyparsing in /lus/theta-fs0/software/thetagpu/conda/2021-11-30/mconda3/lib/python3.8/site-packages (from ConfigSpace>=0.4.20->deephyper) (3.0.6)\n",
      "Requirement already satisfied: cython in /lus/theta-fs0/software/thetagpu/conda/2021-11-30/mconda3/lib/python3.8/site-packages (from ConfigSpace>=0.4.20->deephyper) (0.29.24)\n",
      "Requirement already satisfied: pillow>=6.2.0 in /lus/theta-fs0/software/thetagpu/conda/2021-11-30/mconda3/lib/python3.8/site-packages (from matplotlib>=3.0.3->deephyper) (8.4.0)\n",
      "Requirement already satisfied: python-dateutil>=2.7 in /lus/theta-fs0/software/thetagpu/conda/2021-11-30/mconda3/lib/python3.8/site-packages (from matplotlib>=3.0.3->deephyper) (2.8.2)\n",
      "Requirement already satisfied: fonttools>=4.22.0 in /lus/theta-fs0/software/thetagpu/conda/2021-11-30/mconda3/lib/python3.8/site-packages (from matplotlib>=3.0.3->deephyper) (4.28.2)\n",
      "Requirement already satisfied: packaging>=20.0 in /lus/theta-fs0/software/thetagpu/conda/2021-11-30/mconda3/lib/python3.8/site-packages (from matplotlib>=3.0.3->deephyper) (21.3)\n",
      "Requirement already satisfied: cycler>=0.10 in /lus/theta-fs0/software/thetagpu/conda/2021-11-30/mconda3/lib/python3.8/site-packages (from matplotlib>=3.0.3->deephyper) (0.11.0)\n",
      "Requirement already satisfied: setuptools-scm>=4 in /lus/theta-fs0/software/thetagpu/conda/2021-11-30/mconda3/lib/python3.8/site-packages (from matplotlib>=3.0.3->deephyper) (6.3.2)\n",
      "Requirement already satisfied: kiwisolver>=1.0.1 in /lus/theta-fs0/software/thetagpu/conda/2021-11-30/mconda3/lib/python3.8/site-packages (from matplotlib>=3.0.3->deephyper) (1.3.2)\n",
      "Requirement already satisfied: minio in /lus/theta-fs0/software/thetagpu/conda/2021-11-30/mconda3/lib/python3.8/site-packages (from openml>=0.10.2->deephyper) (7.1.2)\n",
      "Requirement already satisfied: xmltodict in /lus/theta-fs0/software/thetagpu/conda/2021-11-30/mconda3/lib/python3.8/site-packages (from openml>=0.10.2->deephyper) (0.12.0)\n",
      "Requirement already satisfied: requests in /lus/theta-fs0/software/thetagpu/conda/2021-11-30/mconda3/lib/python3.8/site-packages (from openml>=0.10.2->deephyper) (2.26.0)\n",
      "Requirement already satisfied: liac-arff>=2.4.0 in /lus/theta-fs0/software/thetagpu/conda/2021-11-30/mconda3/lib/python3.8/site-packages (from openml>=0.10.2->deephyper) (2.5.0)\n",
      "Requirement already satisfied: pyarrow in /lus/theta-fs0/software/thetagpu/conda/2021-11-30/mconda3/lib/python3.8/site-packages (from openml>=0.10.2->deephyper) (6.0.1)\n",
      "Requirement already satisfied: pytz>=2017.3 in /lus/theta-fs0/software/thetagpu/conda/2021-11-30/mconda3/lib/python3.8/site-packages (from pandas>=0.24.2->deephyper) (2021.3)\n",
      "Requirement already satisfied: protobuf>=3.15.3 in /lus/theta-fs0/software/thetagpu/conda/2021-11-30/mconda3/lib/python3.8/site-packages (from ray[default]>=1.3.0->deephyper) (3.19.1)\n",
      "Requirement already satisfied: redis>=3.5.0 in /lus/theta-fs0/software/thetagpu/conda/2021-11-30/mconda3/lib/python3.8/site-packages (from ray[default]>=1.3.0->deephyper) (4.0.2)\n",
      "Requirement already satisfied: pyyaml in /lus/theta-fs0/software/thetagpu/conda/2021-11-30/mconda3/lib/python3.8/site-packages (from ray[default]>=1.3.0->deephyper) (6.0)\n",
      "Requirement already satisfied: msgpack<2.0.0,>=1.0.0 in /lus/theta-fs0/software/thetagpu/conda/2021-11-30/mconda3/lib/python3.8/site-packages (from ray[default]>=1.3.0->deephyper) (1.0.3)\n",
      "Requirement already satisfied: jsonschema in /lus/theta-fs0/software/thetagpu/conda/2021-11-30/mconda3/lib/python3.8/site-packages (from ray[default]>=1.3.0->deephyper) (4.2.1)\n",
      "Requirement already satisfied: filelock in /lus/theta-fs0/software/thetagpu/conda/2021-11-30/mconda3/lib/python3.8/site-packages (from ray[default]>=1.3.0->deephyper) (3.4.0)\n",
      "Requirement already satisfied: grpcio>=1.28.1 in /lus/theta-fs0/software/thetagpu/conda/2021-11-30/mconda3/lib/python3.8/site-packages (from ray[default]>=1.3.0->deephyper) (1.42.0)\n",
      "Requirement already satisfied: attrs in /lus/theta-fs0/software/thetagpu/conda/2021-11-30/mconda3/lib/python3.8/site-packages (from ray[default]>=1.3.0->deephyper) (21.2.0)\n",
      "Requirement already satisfied: click>=7.0 in /lus/theta-fs0/software/thetagpu/conda/2021-11-30/mconda3/lib/python3.8/site-packages (from ray[default]>=1.3.0->deephyper) (7.1.2)\n",
      "Requirement already satisfied: aiohttp-cors in /lus/theta-fs0/software/thetagpu/conda/2021-11-30/mconda3/lib/python3.8/site-packages (from ray[default]>=1.3.0->deephyper) (0.7.0)\n",
      "Requirement already satisfied: aioredis<2 in /lus/theta-fs0/software/thetagpu/conda/2021-11-30/mconda3/lib/python3.8/site-packages (from ray[default]>=1.3.0->deephyper) (1.3.1)\n",
      "Requirement already satisfied: py-spy>=0.2.0 in /lus/theta-fs0/software/thetagpu/conda/2021-11-30/mconda3/lib/python3.8/site-packages (from ray[default]>=1.3.0->deephyper) (0.3.11)\n",
      "Requirement already satisfied: aiohttp>=3.7 in /lus/theta-fs0/software/thetagpu/conda/2021-11-30/mconda3/lib/python3.8/site-packages (from ray[default]>=1.3.0->deephyper) (3.8.1)\n",
      "Requirement already satisfied: colorful in /lus/theta-fs0/software/thetagpu/conda/2021-11-30/mconda3/lib/python3.8/site-packages (from ray[default]>=1.3.0->deephyper) (0.5.4)\n",
      "Requirement already satisfied: opencensus in /lus/theta-fs0/software/thetagpu/conda/2021-11-30/mconda3/lib/python3.8/site-packages (from ray[default]>=1.3.0->deephyper) (0.8.0)\n",
      "Requirement already satisfied: prometheus-client>=0.7.1 in /lus/theta-fs0/software/thetagpu/conda/2021-11-30/mconda3/lib/python3.8/site-packages (from ray[default]>=1.3.0->deephyper) (0.12.0)\n",
      "Requirement already satisfied: gpustat>=1.0.0b1 in /lus/theta-fs0/software/thetagpu/conda/2021-11-30/mconda3/lib/python3.8/site-packages (from ray[default]>=1.3.0->deephyper) (1.0.0b1)\n",
      "Requirement already satisfied: threadpoolctl>=2.0.0 in /lus/theta-fs0/software/thetagpu/conda/2021-11-30/mconda3/lib/python3.8/site-packages (from scikit-learn>=0.23.1->deephyper) (3.0.0)\n",
      "Requirement already satisfied: h5py>=2.9.0 in /lus/theta-fs0/software/thetagpu/conda/2021-11-30/mconda3/lib/python3.8/site-packages (from tensorflow>=2.0.0->deephyper) (3.6.0)\n",
      "Requirement already satisfied: absl-py>=0.4.0 in /lus/theta-fs0/software/thetagpu/conda/2021-11-30/mconda3/lib/python3.8/site-packages (from tensorflow>=2.0.0->deephyper) (1.0.0)\n",
      "Requirement already satisfied: termcolor>=1.1.0 in /lus/theta-fs0/software/thetagpu/conda/2021-11-30/mconda3/lib/python3.8/site-packages (from tensorflow>=2.0.0->deephyper) (1.1.0)\n",
      "Requirement already satisfied: libclang>=9.0.1 in /lus/theta-fs0/software/thetagpu/conda/2021-11-30/mconda3/lib/python3.8/site-packages (from tensorflow>=2.0.0->deephyper) (12.0.0)\n",
      "Requirement already satisfied: six>=1.12.0 in /lus/theta-fs0/software/thetagpu/conda/2021-11-30/mconda3/lib/python3.8/site-packages (from tensorflow>=2.0.0->deephyper) (1.16.0)\n",
      "Requirement already satisfied: tensorflow-estimator<2.8,>=2.7.0 in /lus/theta-fs0/software/thetagpu/conda/2021-11-30/mconda3/lib/python3.8/site-packages (from tensorflow>=2.0.0->deephyper) (2.7.0)\n",
      "Requirement already satisfied: tensorflow-io-gcs-filesystem>=0.21.0 in /lus/theta-fs0/software/thetagpu/conda/2021-11-30/mconda3/lib/python3.8/site-packages (from tensorflow>=2.0.0->deephyper) (0.22.0)\n",
      "Requirement already satisfied: keras-preprocessing>=1.1.1 in /lus/theta-fs0/software/thetagpu/conda/2021-11-30/mconda3/lib/python3.8/site-packages (from tensorflow>=2.0.0->deephyper) (1.1.2)\n",
      "Requirement already satisfied: keras<2.8,>=2.7.0 in /lus/theta-fs0/software/thetagpu/conda/2021-11-30/mconda3/lib/python3.8/site-packages (from tensorflow>=2.0.0->deephyper) (2.7.0)\n",
      "Requirement already satisfied: wheel<1.0,>=0.32.0 in /lus/theta-fs0/software/thetagpu/conda/2021-11-30/mconda3/lib/python3.8/site-packages (from tensorflow>=2.0.0->deephyper) (0.37.0)\n",
      "Requirement already satisfied: wrapt>=1.11.0 in /lus/theta-fs0/software/thetagpu/conda/2021-11-30/mconda3/lib/python3.8/site-packages (from tensorflow>=2.0.0->deephyper) (1.13.3)\n",
      "Requirement already satisfied: opt-einsum>=2.3.2 in /lus/theta-fs0/software/thetagpu/conda/2021-11-30/mconda3/lib/python3.8/site-packages (from tensorflow>=2.0.0->deephyper) (3.3.0)\n",
      "Requirement already satisfied: tensorboard<2.8,>=2.7 in /lus/theta-fs0/software/thetagpu/conda/2021-11-30/mconda3/lib/python3.8/site-packages (from tensorflow>=2.0.0->deephyper) (2.7.0)\n",
      "Requirement already satisfied: astunparse>=1.6.0 in /lus/theta-fs0/software/thetagpu/conda/2021-11-30/mconda3/lib/python3.8/site-packages (from tensorflow>=2.0.0->deephyper) (1.6.3)\n",
      "Requirement already satisfied: google-pasta>=0.1.1 in /lus/theta-fs0/software/thetagpu/conda/2021-11-30/mconda3/lib/python3.8/site-packages (from tensorflow>=2.0.0->deephyper) (0.2.0)\n",
      "Requirement already satisfied: gast<0.5.0,>=0.2.1 in /lus/theta-fs0/software/thetagpu/conda/2021-11-30/mconda3/lib/python3.8/site-packages (from tensorflow>=2.0.0->deephyper) (0.4.0)\n",
      "Requirement already satisfied: flatbuffers<3.0,>=1.12 in /lus/theta-fs0/software/thetagpu/conda/2021-11-30/mconda3/lib/python3.8/site-packages (from tensorflow>=2.0.0->deephyper) (2.0)\n",
      "Requirement already satisfied: typing-extensions>=3.6.6 in /lus/theta-fs0/software/thetagpu/conda/2021-11-30/mconda3/lib/python3.8/site-packages (from tensorflow>=2.0.0->deephyper) (4.0.1)\n",
      "Requirement already satisfied: MarkupSafe>=2.0 in /lus/theta-fs0/software/thetagpu/conda/2021-11-30/mconda3/lib/python3.8/site-packages (from Jinja2->deephyper) (2.0.1)\n",
      "Requirement already satisfied: decorator in /lus/theta-fs0/software/thetagpu/conda/2021-11-30/mconda3/lib/python3.8/site-packages (from tensorflow-probability->deephyper) (5.1.0)\n",
      "Requirement already satisfied: cloudpickle>=1.3 in /lus/theta-fs0/software/thetagpu/conda/2021-11-30/mconda3/lib/python3.8/site-packages (from tensorflow-probability->deephyper) (2.0.0)\n",
      "Requirement already satisfied: yarl<2.0,>=1.0 in /lus/theta-fs0/software/thetagpu/conda/2021-11-30/mconda3/lib/python3.8/site-packages (from aiohttp>=3.7->ray[default]>=1.3.0->deephyper) (1.7.2)\n",
      "Requirement already satisfied: async-timeout<5.0,>=4.0.0a3 in /lus/theta-fs0/software/thetagpu/conda/2021-11-30/mconda3/lib/python3.8/site-packages (from aiohttp>=3.7->ray[default]>=1.3.0->deephyper) (4.0.1)\n",
      "Requirement already satisfied: charset-normalizer<3.0,>=2.0 in /lus/theta-fs0/software/thetagpu/conda/2021-11-30/mconda3/lib/python3.8/site-packages (from aiohttp>=3.7->ray[default]>=1.3.0->deephyper) (2.0.4)\n",
      "Requirement already satisfied: aiosignal>=1.1.2 in /lus/theta-fs0/software/thetagpu/conda/2021-11-30/mconda3/lib/python3.8/site-packages (from aiohttp>=3.7->ray[default]>=1.3.0->deephyper) (1.2.0)\n",
      "Requirement already satisfied: frozenlist>=1.1.1 in /lus/theta-fs0/software/thetagpu/conda/2021-11-30/mconda3/lib/python3.8/site-packages (from aiohttp>=3.7->ray[default]>=1.3.0->deephyper) (1.2.0)\n",
      "Requirement already satisfied: multidict<7.0,>=4.5 in /lus/theta-fs0/software/thetagpu/conda/2021-11-30/mconda3/lib/python3.8/site-packages (from aiohttp>=3.7->ray[default]>=1.3.0->deephyper) (5.2.0)\n",
      "Requirement already satisfied: hiredis in /lus/theta-fs0/software/thetagpu/conda/2021-11-30/mconda3/lib/python3.8/site-packages (from aioredis<2->ray[default]>=1.3.0->deephyper) (2.0.0)\n",
      "Requirement already satisfied: nvidia-ml-py3>=7.352.0 in /lus/theta-fs0/software/thetagpu/conda/2021-11-30/mconda3/lib/python3.8/site-packages (from gpustat>=1.0.0b1->ray[default]>=1.3.0->deephyper) (7.352.0)\n",
      "Requirement already satisfied: blessed>=1.17.1 in /lus/theta-fs0/software/thetagpu/conda/2021-11-30/mconda3/lib/python3.8/site-packages (from gpustat>=1.0.0b1->ray[default]>=1.3.0->deephyper) (1.19.0)\n",
      "Requirement already satisfied: psutil in /lus/theta-fs0/software/thetagpu/conda/2021-11-30/mconda3/lib/python3.8/site-packages (from gpustat>=1.0.0b1->ray[default]>=1.3.0->deephyper) (5.8.0)\n",
      "Requirement already satisfied: deprecated in /lus/theta-fs0/software/thetagpu/conda/2021-11-30/mconda3/lib/python3.8/site-packages (from redis>=3.5.0->ray[default]>=1.3.0->deephyper) (1.2.13)\n",
      "Requirement already satisfied: tomli>=1.0.0 in /lus/theta-fs0/software/thetagpu/conda/2021-11-30/mconda3/lib/python3.8/site-packages (from setuptools-scm>=4->matplotlib>=3.0.3->deephyper) (1.2.2)\n",
      "Requirement already satisfied: setuptools in /lus/theta-fs0/software/thetagpu/conda/2021-11-30/mconda3/lib/python3.8/site-packages (from setuptools-scm>=4->matplotlib>=3.0.3->deephyper) (59.4.0)\n",
      "Requirement already satisfied: werkzeug>=0.11.15 in /lus/theta-fs0/software/thetagpu/conda/2021-11-30/mconda3/lib/python3.8/site-packages (from tensorboard<2.8,>=2.7->tensorflow>=2.0.0->deephyper) (2.0.2)\n",
      "Requirement already satisfied: markdown>=2.6.8 in /lus/theta-fs0/software/thetagpu/conda/2021-11-30/mconda3/lib/python3.8/site-packages (from tensorboard<2.8,>=2.7->tensorflow>=2.0.0->deephyper) (3.3.6)\n",
      "Requirement already satisfied: tensorboard-data-server<0.7.0,>=0.6.0 in /lus/theta-fs0/software/thetagpu/conda/2021-11-30/mconda3/lib/python3.8/site-packages (from tensorboard<2.8,>=2.7->tensorflow>=2.0.0->deephyper) (0.6.1)\n",
      "Requirement already satisfied: google-auth<3,>=1.6.3 in /lus/theta-fs0/software/thetagpu/conda/2021-11-30/mconda3/lib/python3.8/site-packages (from tensorboard<2.8,>=2.7->tensorflow>=2.0.0->deephyper) (2.3.3)\n",
      "Requirement already satisfied: google-auth-oauthlib<0.5,>=0.4.1 in /lus/theta-fs0/software/thetagpu/conda/2021-11-30/mconda3/lib/python3.8/site-packages (from tensorboard<2.8,>=2.7->tensorflow>=2.0.0->deephyper) (0.4.6)\n",
      "Requirement already satisfied: tensorboard-plugin-wit>=1.6.0 in /lus/theta-fs0/software/thetagpu/conda/2021-11-30/mconda3/lib/python3.8/site-packages (from tensorboard<2.8,>=2.7->tensorflow>=2.0.0->deephyper) (1.8.0)\n",
      "Requirement already satisfied: urllib3<1.27,>=1.21.1 in /lus/theta-fs0/software/thetagpu/conda/2021-11-30/mconda3/lib/python3.8/site-packages (from requests->openml>=0.10.2->deephyper) (1.26.7)\n",
      "Requirement already satisfied: idna<4,>=2.5 in /lus/theta-fs0/software/thetagpu/conda/2021-11-30/mconda3/lib/python3.8/site-packages (from requests->openml>=0.10.2->deephyper) (3.3)\n",
      "Requirement already satisfied: certifi>=2017.4.17 in /lus/theta-fs0/software/thetagpu/conda/2021-11-30/mconda3/lib/python3.8/site-packages (from requests->openml>=0.10.2->deephyper) (2021.10.8)\n",
      "Requirement already satisfied: pyrsistent!=0.17.0,!=0.17.1,!=0.17.2,>=0.14.0 in /lus/theta-fs0/software/thetagpu/conda/2021-11-30/mconda3/lib/python3.8/site-packages (from jsonschema->ray[default]>=1.3.0->deephyper) (0.18.0)\n",
      "Requirement already satisfied: importlib-resources>=1.4.0 in /lus/theta-fs0/software/thetagpu/conda/2021-11-30/mconda3/lib/python3.8/site-packages (from jsonschema->ray[default]>=1.3.0->deephyper) (5.4.0)\n",
      "Requirement already satisfied: google-api-core<3.0.0,>=1.0.0 in /lus/theta-fs0/software/thetagpu/conda/2021-11-30/mconda3/lib/python3.8/site-packages (from opencensus->ray[default]>=1.3.0->deephyper) (2.2.2)\n",
      "Requirement already satisfied: opencensus-context==0.1.2 in /lus/theta-fs0/software/thetagpu/conda/2021-11-30/mconda3/lib/python3.8/site-packages (from opencensus->ray[default]>=1.3.0->deephyper) (0.1.2)\n",
      "Requirement already satisfied: wcwidth>=0.1.4 in /lus/theta-fs0/software/thetagpu/conda/2021-11-30/mconda3/lib/python3.8/site-packages (from blessed>=1.17.1->gpustat>=1.0.0b1->ray[default]>=1.3.0->deephyper) (0.2.5)\n",
      "Requirement already satisfied: googleapis-common-protos<2.0dev,>=1.52.0 in /lus/theta-fs0/software/thetagpu/conda/2021-11-30/mconda3/lib/python3.8/site-packages (from google-api-core<3.0.0,>=1.0.0->opencensus->ray[default]>=1.3.0->deephyper) (1.53.0)\n",
      "Requirement already satisfied: rsa<5,>=3.1.4 in /lus/theta-fs0/software/thetagpu/conda/2021-11-30/mconda3/lib/python3.8/site-packages (from google-auth<3,>=1.6.3->tensorboard<2.8,>=2.7->tensorflow>=2.0.0->deephyper) (4.8)\n",
      "Requirement already satisfied: pyasn1-modules>=0.2.1 in /lus/theta-fs0/software/thetagpu/conda/2021-11-30/mconda3/lib/python3.8/site-packages (from google-auth<3,>=1.6.3->tensorboard<2.8,>=2.7->tensorflow>=2.0.0->deephyper) (0.2.8)\n",
      "Requirement already satisfied: cachetools<5.0,>=2.0.0 in /lus/theta-fs0/software/thetagpu/conda/2021-11-30/mconda3/lib/python3.8/site-packages (from google-auth<3,>=1.6.3->tensorboard<2.8,>=2.7->tensorflow>=2.0.0->deephyper) (4.2.4)\n",
      "Requirement already satisfied: requests-oauthlib>=0.7.0 in /lus/theta-fs0/software/thetagpu/conda/2021-11-30/mconda3/lib/python3.8/site-packages (from google-auth-oauthlib<0.5,>=0.4.1->tensorboard<2.8,>=2.7->tensorflow>=2.0.0->deephyper) (1.3.0)\n",
      "Requirement already satisfied: zipp>=3.1.0 in /lus/theta-fs0/software/thetagpu/conda/2021-11-30/mconda3/lib/python3.8/site-packages (from importlib-resources>=1.4.0->jsonschema->ray[default]>=1.3.0->deephyper) (3.6.0)\n",
      "Requirement already satisfied: importlib-metadata>=4.4 in /lus/theta-fs0/software/thetagpu/conda/2021-11-30/mconda3/lib/python3.8/site-packages (from markdown>=2.6.8->tensorboard<2.8,>=2.7->tensorflow>=2.0.0->deephyper) (4.8.2)\n",
      "Requirement already satisfied: pyasn1<0.5.0,>=0.4.6 in /lus/theta-fs0/software/thetagpu/conda/2021-11-30/mconda3/lib/python3.8/site-packages (from pyasn1-modules>=0.2.1->google-auth<3,>=1.6.3->tensorboard<2.8,>=2.7->tensorflow>=2.0.0->deephyper) (0.4.8)\n",
      "Requirement already satisfied: oauthlib>=3.0.0 in /lus/theta-fs0/software/thetagpu/conda/2021-11-30/mconda3/lib/python3.8/site-packages (from requests-oauthlib>=0.7.0->google-auth-oauthlib<0.5,>=0.4.1->tensorboard<2.8,>=2.7->tensorflow>=2.0.0->deephyper) (3.1.1)\n"
     ]
    }
   ],
   "source": [
    "!pip install deephyper"
   ]
  },
  {
   "cell_type": "markdown",
   "id": "oe2dG2WDDGcN",
   "metadata": {
    "id": "oe2dG2WDDGcN"
   },
   "source": [
    "<div class=\"alert alert-warning\">\n",
    "\n",
    "<b>Warning</b>\n",
    "    \n",
    "By design asyncio does not allow nested event loops. Jupyter is using Tornado which already starts an event loop. Therefore the following patch is required to run DeepHyper in a Jupyter notebook.\n",
    "    \n",
    "</div>"
   ]
  },
  {
   "cell_type": "code",
   "execution_count": 2,
   "id": "bb4474f0",
   "metadata": {
    "ExecuteTime": {
     "end_time": "2021-10-06T14:08:02.665854Z",
     "start_time": "2021-10-06T14:08:00.845511Z"
    },
    "colab": {
     "base_uri": "https://localhost:8080/"
    },
    "execution": {
     "iopub.execute_input": "2021-10-05T13:19:48.990662Z",
     "iopub.status.busy": "2021-10-05T13:19:48.990282Z",
     "iopub.status.idle": "2021-10-05T13:19:51.780827Z",
     "shell.execute_reply": "2021-10-05T13:19:51.780182Z",
     "shell.execute_reply.started": "2021-10-05T13:19:48.990582Z"
    },
    "id": "bb4474f0",
    "outputId": "d040f7d2-f541-46b9-c9d8-3469ca112690"
   },
   "outputs": [
    {
     "name": "stdout",
     "output_type": "stream",
     "text": [
      "Defaulting to user installation because normal site-packages is not writeable\n",
      "Requirement already satisfied: nest_asyncio in /lus/theta-fs0/software/thetagpu/conda/2021-11-30/mconda3/lib/python3.8/site-packages (1.5.1)\n"
     ]
    }
   ],
   "source": [
    "!pip install nest_asyncio\n",
    "\n",
    "import nest_asyncio\n",
    "nest_asyncio.apply()"
   ]
  },
  {
   "cell_type": "markdown",
   "id": "38664b59",
   "metadata": {
    "id": "38664b59"
   },
   "source": [
    "<div class=\"alert alert-info\">\n",
    "    \n",
    "<b>Note</b>\n",
    "    \n",
    "The following environment variables can be used to avoid the logging of **some** Tensorflow *DEBUG*, *INFO* and *WARNING* statements.\n",
    "    \n",
    "</div>"
   ]
  },
  {
   "cell_type": "code",
   "execution_count": 3,
   "id": "320e7d27",
   "metadata": {
    "ExecuteTime": {
     "end_time": "2021-10-06T14:08:03.492690Z",
     "start_time": "2021-10-06T14:08:03.490841Z"
    },
    "execution": {
     "iopub.execute_input": "2021-10-05T13:19:52.492998Z",
     "iopub.status.busy": "2021-10-05T13:19:52.492700Z",
     "iopub.status.idle": "2021-10-05T13:19:52.496874Z",
     "shell.execute_reply": "2021-10-05T13:19:52.496162Z",
     "shell.execute_reply.started": "2021-10-05T13:19:52.492970Z"
    },
    "id": "320e7d27"
   },
   "outputs": [],
   "source": [
    "import os\n",
    "\n",
    "\n",
    "os.environ[\"TF_CPP_MIN_LOG_LEVEL\"] = str(3)\n",
    "os.environ[\"AUTOGRAPH_VERBOSITY\"] = str(0)"
   ]
  },
  {
   "cell_type": "markdown",
   "id": "22386d68",
   "metadata": {
    "id": "22386d68"
   },
   "source": [
    "## Imports\n",
    "\n",
    "<div class=\"alert alert-warning\">\n",
    "    \n",
    "<b>Warning</b> \n",
    "\n",
    "It is important to follow the import strategy `import tensorflow as tf` to prevent serialization errors that will crash the search.\n",
    "    \n",
    "</div>\n",
    "\n",
    "The import strategy from the original Keras tutorial (shown below),\n",
    "\n",
    "```python\n",
    "from tensorflow import keras\n",
    "from tensorflow.keras import layers\n",
    "...\n",
    "from tensorflow.keras.layers import IntegerLookup\n",
    "from tensorflow.keras.layers import Normalization\n",
    "from tensorflow.keras.layers import StringLookup\n",
    "```\n",
    "    \n",
    "resulted in non-serializable data, preventing the search from executing."
   ]
  },
  {
   "cell_type": "code",
   "execution_count": 4,
   "id": "f3a37b1d",
   "metadata": {
    "ExecuteTime": {
     "end_time": "2021-10-06T14:08:06.961251Z",
     "start_time": "2021-10-06T14:08:04.788328Z"
    },
    "execution": {
     "iopub.execute_input": "2021-10-05T13:19:55.476248Z",
     "iopub.status.busy": "2021-10-05T13:19:55.475972Z",
     "iopub.status.idle": "2021-10-05T13:19:59.977776Z",
     "shell.execute_reply": "2021-10-05T13:19:59.976946Z",
     "shell.execute_reply.started": "2021-10-05T13:19:55.476222Z"
    },
    "id": "f3a37b1d"
   },
   "outputs": [],
   "source": [
    "import json\n",
    "\n",
    "import ray\n",
    "import pandas as pd\n",
    "import tensorflow as tf"
   ]
  },
  {
   "cell_type": "markdown",
   "id": "e9061925",
   "metadata": {
    "id": "e9061925"
   },
   "source": [
    "<div class=\"alert alert-info\">\n",
    "    \n",
    "<b>Note</b>\n",
    "    \n",
    "The following can be used to detect if <b>GPU</b> devices are available on the current host. Therefore, this notebook will automatically adapt the parallel execution based on the resources available locally. However, this simple code will not detect the ressources from multiple nodes.\n",
    "    \n",
    "</div>"
   ]
  },
  {
   "cell_type": "code",
   "execution_count": 5,
   "id": "da5e0602",
   "metadata": {
    "ExecuteTime": {
     "end_time": "2021-10-06T14:08:15.285962Z",
     "start_time": "2021-10-06T14:08:11.659531Z"
    },
    "colab": {
     "base_uri": "https://localhost:8080/"
    },
    "execution": {
     "iopub.execute_input": "2021-10-05T13:20:04.352206Z",
     "iopub.status.busy": "2021-10-05T13:20:04.351647Z",
     "iopub.status.idle": "2021-10-05T13:20:04.633707Z",
     "shell.execute_reply": "2021-10-05T13:20:04.632997Z",
     "shell.execute_reply.started": "2021-10-05T13:20:04.352152Z"
    },
    "id": "da5e0602",
    "outputId": "41f0e3bf-b2c9-4d0e-9db5-52be81ac6427"
   },
   "outputs": [
    {
     "name": "stdout",
     "output_type": "stream",
     "text": [
      "1 GPU is available.\n"
     ]
    }
   ],
   "source": [
    "from tensorflow.python.client import device_lib\n",
    "\n",
    "\n",
    "def get_available_gpus():\n",
    "    local_device_protos = device_lib.list_local_devices()\n",
    "    return [x.name for x in local_device_protos if x.device_type == \"GPU\"]\n",
    "\n",
    "\n",
    "n_gpus = len(get_available_gpus())\n",
    "if n_gpus > 1:\n",
    "    n_gpus -= 1\n",
    "    \n",
    "is_gpu_available = n_gpus > 0\n",
    "\n",
    "if is_gpu_available:\n",
    "    print(f\"{n_gpus} GPU{'s are' if n_gpus > 1 else ' is'} available.\")\n",
    "else:\n",
    "    print(\"No GPU available\")"
   ]
  },
  {
   "cell_type": "markdown",
   "id": "c702c644",
   "metadata": {
    "id": "c702c644"
   },
   "source": [
    "## The dataset (from Keras.io)\n",
    "\n",
    "The [dataset](https://archive.ics.uci.edu/ml/datasets/heart+Disease) is provided by the\n",
    "Cleveland Clinic Foundation for Heart Disease.\n",
    "It's a CSV file with 303 rows. Each row contains information about a patient (a\n",
    "**sample**), and each column describes an attribute of the patient (a **feature**). We\n",
    "use the features to predict whether a patient has a heart disease (**binary\n",
    "classification**).\n",
    "\n",
    "Here's the description of each feature:\n",
    "\n",
    "Column| Description| Feature Type\n",
    "------------|--------------------|----------------------\n",
    "Age | Age in years | Numerical\n",
    "Sex | (1 = male; 0 = female) | Categorical\n",
    "CP | Chest pain type (0, 1, 2, 3, 4) | Categorical\n",
    "Trestbpd | Resting blood pressure (in mm Hg on admission) | Numerical\n",
    "Chol | Serum cholesterol in mg/dl | Numerical\n",
    "FBS | fasting blood sugar in 120 mg/dl (1 = true; 0 = false) | Categorical\n",
    "RestECG | Resting electrocardiogram results (0, 1, 2) | Categorical\n",
    "Thalach | Maximum heart rate achieved | Numerical\n",
    "Exang | Exercise induced angina (1 = yes; 0 = no) | Categorical\n",
    "Oldpeak | ST depression induced by exercise relative to rest | Numerical\n",
    "Slope | Slope of the peak exercise ST segment | Numerical\n",
    "CA | Number of major vessels (0-3) colored by fluoroscopy | Both numerical & categorical\n",
    "Thal | 3 = normal; 6 = fixed defect; 7 = reversible defect | Categorical\n",
    "Target | Diagnosis of heart disease (1 = true; 0 = false) | Target"
   ]
  },
  {
   "cell_type": "code",
   "execution_count": 14,
   "id": "9499cd94",
   "metadata": {
    "ExecuteTime": {
     "end_time": "2021-10-06T14:08:19.106131Z",
     "start_time": "2021-10-06T14:08:19.102761Z"
    },
    "execution": {
     "iopub.execute_input": "2021-10-05T13:20:09.216293Z",
     "iopub.status.busy": "2021-10-05T13:20:09.215939Z",
     "iopub.status.idle": "2021-10-05T13:20:09.222811Z",
     "shell.execute_reply": "2021-10-05T13:20:09.222055Z",
     "shell.execute_reply.started": "2021-10-05T13:20:09.216257Z"
    },
    "id": "9499cd94"
   },
   "outputs": [],
   "source": [
    "def load_data():\n",
    "    file_url = \"heart.csv\"\n",
    "    dataframe = pd.read_csv(file_url)\n",
    "\n",
    "    val_dataframe = dataframe.sample(frac=0.2, random_state=1337)\n",
    "    train_dataframe = dataframe.drop(val_dataframe.index)\n",
    "\n",
    "    return train_dataframe, val_dataframe\n",
    "\n",
    "\n",
    "def dataframe_to_dataset(dataframe):\n",
    "    dataframe = dataframe.copy()\n",
    "    labels = dataframe.pop(\"target\")\n",
    "    ds = tf.data.Dataset.from_tensor_slices((dict(dataframe), labels))\n",
    "    ds = ds.shuffle(buffer_size=len(dataframe))\n",
    "    return ds"
   ]
  },
  {
   "cell_type": "markdown",
   "id": "6ceb5938",
   "metadata": {
    "id": "6ceb5938"
   },
   "source": [
    "## Preprocessing & encoding of features\n",
    "\n",
    "The next cells use `tf.keras.layers.Normalization()` to apply standard scaling on the features.\n",
    "\n",
    "Then, the `tf.keras.layers.StringLookup` and `tf.keras.layers.IntegerLookup` are used to encode categorical variables."
   ]
  },
  {
   "cell_type": "code",
   "execution_count": 7,
   "id": "996814d7",
   "metadata": {
    "ExecuteTime": {
     "end_time": "2021-10-06T14:08:22.308775Z",
     "start_time": "2021-10-06T14:08:22.304430Z"
    },
    "execution": {
     "iopub.execute_input": "2021-10-05T13:20:10.938147Z",
     "iopub.status.busy": "2021-10-05T13:20:10.937624Z",
     "iopub.status.idle": "2021-10-05T13:20:10.950587Z",
     "shell.execute_reply": "2021-10-05T13:20:10.949641Z",
     "shell.execute_reply.started": "2021-10-05T13:20:10.938088Z"
    },
    "id": "996814d7"
   },
   "outputs": [],
   "source": [
    "def encode_numerical_feature(feature, name, dataset):\n",
    "    # Create a Normalization layer for our feature\n",
    "    normalizer = tf.keras.layers.Normalization()\n",
    "\n",
    "    # Prepare a Dataset that only yields our feature\n",
    "    feature_ds = dataset.map(lambda x, y: x[name])\n",
    "    feature_ds = feature_ds.map(lambda x: tf.expand_dims(x, -1))\n",
    "\n",
    "    # Learn the statistics of the data\n",
    "    normalizer.adapt(feature_ds)\n",
    "\n",
    "    # Normalize the input feature\n",
    "    encoded_feature = normalizer(feature)\n",
    "    return encoded_feature\n",
    "\n",
    "\n",
    "def encode_categorical_feature(feature, name, dataset, is_string):\n",
    "    lookup_class = (\n",
    "        tf.keras.layers.StringLookup if is_string else tf.keras.layers.IntegerLookup\n",
    "    )\n",
    "    # Create a lookup layer which will turn strings into integer indices\n",
    "    lookup = lookup_class(output_mode=\"binary\")\n",
    "\n",
    "    # Prepare a Dataset that only yields our feature\n",
    "    feature_ds = dataset.map(lambda x, y: x[name])\n",
    "    feature_ds = feature_ds.map(lambda x: tf.expand_dims(x, -1))\n",
    "\n",
    "    # Learn the set of possible string values and assign them a fixed integer index\n",
    "    lookup.adapt(feature_ds)\n",
    "\n",
    "    # Turn the string input into integer indices\n",
    "    encoded_feature = lookup(feature)\n",
    "    return encoded_feature"
   ]
  },
  {
   "cell_type": "markdown",
   "id": "c8743319",
   "metadata": {
    "id": "c8743319"
   },
   "source": [
    "## Define the run-function\n",
    "\n",
    "The run-function defines how the objective that we want to maximize is computed. It takes a `config` dictionary as input and often returns a scalar value that we want to maximize. The `config` contains a sample value of hyperparameters that we want to tune. In this example we will search for:\n",
    "\n",
    "* `units` (default value: `32`)\n",
    "* `activation` (default value: `\"relu\"`)\n",
    "* `dropout_rate` (default value: `0.5`)\n",
    "* `num_epochs` (default value: `50`)\n",
    "* `batch_size` (default value: `32`)\n",
    "* `learning_rate` (default value: `1e-3`)\n",
    "\n",
    "A hyperparameter value can be acessed easily in the dictionary through the corresponding key, for example `config[\"units\"]`."
   ]
  },
  {
   "cell_type": "code",
   "execution_count": 8,
   "id": "2f99f031",
   "metadata": {
    "ExecuteTime": {
     "end_time": "2021-10-06T14:08:25.815920Z",
     "start_time": "2021-10-06T14:08:25.802830Z"
    },
    "execution": {
     "iopub.execute_input": "2021-10-05T13:20:14.252344Z",
     "iopub.status.busy": "2021-10-05T13:20:14.251894Z",
     "iopub.status.idle": "2021-10-05T13:20:14.269736Z",
     "shell.execute_reply": "2021-10-05T13:20:14.269026Z",
     "shell.execute_reply.started": "2021-10-05T13:20:14.252307Z"
    },
    "id": "2f99f031"
   },
   "outputs": [],
   "source": [
    "def run(config: dict):\n",
    "    tf.autograph.set_verbosity(0)\n",
    "    # Load data and split into validation set\n",
    "    train_dataframe, val_dataframe = load_data()\n",
    "    train_ds = dataframe_to_dataset(train_dataframe)\n",
    "    val_ds = dataframe_to_dataset(val_dataframe)\n",
    "    train_ds = train_ds.batch(config[\"batch_size\"])\n",
    "    val_ds = val_ds.batch(config[\"batch_size\"])\n",
    "\n",
    "    # Categorical features encoded as integers\n",
    "    sex = tf.keras.Input(shape=(1,), name=\"sex\", dtype=\"int64\")\n",
    "    cp = tf.keras.Input(shape=(1,), name=\"cp\", dtype=\"int64\")\n",
    "    fbs = tf.keras.Input(shape=(1,), name=\"fbs\", dtype=\"int64\")\n",
    "    restecg = tf.keras.Input(shape=(1,), name=\"restecg\", dtype=\"int64\")\n",
    "    exang = tf.keras.Input(shape=(1,), name=\"exang\", dtype=\"int64\")\n",
    "    ca = tf.keras.Input(shape=(1,), name=\"ca\", dtype=\"int64\")\n",
    "\n",
    "    # Categorical feature encoded as string\n",
    "    thal = tf.keras.Input(shape=(1,), name=\"thal\", dtype=\"string\")\n",
    "\n",
    "    # Numerical features\n",
    "    age = tf.keras.Input(shape=(1,), name=\"age\")\n",
    "    trestbps = tf.keras.Input(shape=(1,), name=\"trestbps\")\n",
    "    chol = tf.keras.Input(shape=(1,), name=\"chol\")\n",
    "    thalach = tf.keras.Input(shape=(1,), name=\"thalach\")\n",
    "    oldpeak = tf.keras.Input(shape=(1,), name=\"oldpeak\")\n",
    "    slope = tf.keras.Input(shape=(1,), name=\"slope\")\n",
    "\n",
    "    all_inputs = [\n",
    "        sex,\n",
    "        cp,\n",
    "        fbs,\n",
    "        restecg,\n",
    "        exang,\n",
    "        ca,\n",
    "        thal,\n",
    "        age,\n",
    "        trestbps,\n",
    "        chol,\n",
    "        thalach,\n",
    "        oldpeak,\n",
    "        slope,\n",
    "    ]\n",
    "\n",
    "    # Integer categorical features\n",
    "    sex_encoded = encode_categorical_feature(sex, \"sex\", train_ds, False)\n",
    "    cp_encoded = encode_categorical_feature(cp, \"cp\", train_ds, False)\n",
    "    fbs_encoded = encode_categorical_feature(fbs, \"fbs\", train_ds, False)\n",
    "    restecg_encoded = encode_categorical_feature(restecg, \"restecg\", train_ds, False)\n",
    "    exang_encoded = encode_categorical_feature(exang, \"exang\", train_ds, False)\n",
    "    ca_encoded = encode_categorical_feature(ca, \"ca\", train_ds, False)\n",
    "\n",
    "    # String categorical features\n",
    "    thal_encoded = encode_categorical_feature(thal, \"thal\", train_ds, True)\n",
    "\n",
    "    # Numerical features\n",
    "    age_encoded = encode_numerical_feature(age, \"age\", train_ds)\n",
    "    trestbps_encoded = encode_numerical_feature(trestbps, \"trestbps\", train_ds)\n",
    "    chol_encoded = encode_numerical_feature(chol, \"chol\", train_ds)\n",
    "    thalach_encoded = encode_numerical_feature(thalach, \"thalach\", train_ds)\n",
    "    oldpeak_encoded = encode_numerical_feature(oldpeak, \"oldpeak\", train_ds)\n",
    "    slope_encoded = encode_numerical_feature(slope, \"slope\", train_ds)\n",
    "\n",
    "    all_features = tf.keras.layers.concatenate(\n",
    "        [\n",
    "            sex_encoded,\n",
    "            cp_encoded,\n",
    "            fbs_encoded,\n",
    "            restecg_encoded,\n",
    "            exang_encoded,\n",
    "            slope_encoded,\n",
    "            ca_encoded,\n",
    "            thal_encoded,\n",
    "            age_encoded,\n",
    "            trestbps_encoded,\n",
    "            chol_encoded,\n",
    "            thalach_encoded,\n",
    "            oldpeak_encoded,\n",
    "        ]\n",
    "    )\n",
    "    x = tf.keras.layers.Dense(config[\"units\"], activation=config[\"activation\"])(\n",
    "        all_features\n",
    "    )\n",
    "    x = tf.keras.layers.Dropout(config[\"dropout_rate\"])(x)\n",
    "    output = tf.keras.layers.Dense(1, activation=\"sigmoid\")(x)\n",
    "    model = tf.keras.Model(all_inputs, output)\n",
    "\n",
    "    optimizer = tf.keras.optimizers.Adam(learning_rate=config[\"learning_rate\"])\n",
    "    model.compile(optimizer, \"binary_crossentropy\", metrics=[\"accuracy\"])\n",
    "\n",
    "    history = model.fit(\n",
    "        train_ds, epochs=config[\"num_epochs\"], validation_data=val_ds, verbose=0\n",
    "    )\n",
    "\n",
    "    return history.history[\"val_accuracy\"][-1]"
   ]
  },
  {
   "cell_type": "markdown",
   "id": "ea800ab1",
   "metadata": {
    "id": "ea800ab1"
   },
   "source": [
    "<div class=\"alert alert-info\"> \n",
    "<b>Note</b>  \n",
    "<br>\n",
    "\n",
    "The objective maximised by DeepHyper is the scalar value returned by the `run`-function.\n",
    "    \n",
    "</div>\n",
    "\n",
    "In this tutorial it corresponds to the validation accuracy of the last epoch of training which we retrieve in the `History` object returned by the `model.fit(...)` call.\n",
    "    \n",
    "```python\n",
    "...\n",
    "history = model.fit(\n",
    "    train_ds, epochs=config[\"num_epochs\"], validation_data=val_ds, verbose=0\n",
    ") \n",
    "return history.history[\"val_accuracy\"][-1]\n",
    "...\n",
    "``` \n",
    "    \n",
    "Using an objective like `max(history.history['val_accuracy'])` can have undesired side effects.\n",
    "\n",
    "For example, it is possible that the training curves will overshoot a local maximum, resulting in a model without the capacity to flexibly adapt to new data in the future."
   ]
  },
  {
   "cell_type": "markdown",
   "id": "9f1719e4",
   "metadata": {
    "id": "9f1719e4"
   },
   "source": [
    "## Evaluate a default configuration\n",
    "\n",
    "We evaluate the performance of the default set of hyperparameters provided in the Keras tutorial."
   ]
  },
  {
   "cell_type": "code",
   "execution_count": 17,
   "id": "5ab7ab0c",
   "metadata": {
    "ExecuteTime": {
     "end_time": "2021-10-06T14:08:49.765740Z",
     "start_time": "2021-10-06T14:08:29.330155Z"
    },
    "colab": {
     "base_uri": "https://localhost:8080/"
    },
    "execution": {
     "iopub.execute_input": "2021-10-05T13:20:17.560431Z",
     "iopub.status.busy": "2021-10-05T13:20:17.560135Z",
     "iopub.status.idle": "2021-10-05T13:20:33.100905Z",
     "shell.execute_reply": "2021-10-05T13:20:33.100179Z",
     "shell.execute_reply.started": "2021-10-05T13:20:17.560401Z"
    },
    "id": "5ab7ab0c",
    "outputId": "52c639e6-33bd-43bb-8aea-6d1ba1036f60",
    "scrolled": true
   },
   "outputs": [
    {
     "name": "stdout",
     "output_type": "stream",
     "text": [
      "Accuracy Default Configuration:  0.820\n"
     ]
    }
   ],
   "source": [
    "# We define a dictionnary for the default values\n",
    "default_config = {\n",
    "    \"units\": 32,\n",
    "    \"activation\": \"relu\",\n",
    "    \"dropout_rate\": 0.5,\n",
    "    \"num_epochs\": 50,\n",
    "    \"batch_size\": 32,\n",
    "    \"learning_rate\": 1e-3,\n",
    "}\n",
    "\n",
    "# We launch the Ray run-time depending of the detected local ressources\n",
    "# and execute the `run` function with the default configuration\n",
    "# WARNING: in the case of GPUs it is important to follow this scheme\n",
    "# to avoid multiple processes (Ray workers vs current process) to lock\n",
    "# the same GPU.\n",
    "if is_gpu_available:\n",
    "    if not(ray.is_initialized()):\n",
    "        ray.init(num_cpus=n_gpus, num_gpus=n_gpus, log_to_driver=False)\n",
    "    \n",
    "    run_default = ray.remote(num_cpus=1, num_gpus=1)(run)\n",
    "    objective_default = ray.get(run_default.remote(default_config))\n",
    "else:\n",
    "    if not(ray.is_initialized()):\n",
    "        ray.init(num_cpus=1, log_to_driver=False)\n",
    "    run_default = run\n",
    "    objective_default = run_default(default_config)\n",
    "    \n",
    "print(f\"Accuracy Default Configuration:  {objective_default:.3f}\")"
   ]
  },
  {
   "cell_type": "markdown",
   "id": "3ca589b5",
   "metadata": {
    "id": "3ca589b5"
   },
   "source": [
    "## Define the Hyperparameter optimization problem\n",
    "\n",
    "Hyperparameter ranges are defined using the following syntax:\n",
    "\n",
    "* Discrete integer ranges are generated from a tuple `(lower: int, upper: int)`\n",
    "* Continuous prarameters are generated from a tuple `(lower: float, upper: float)`\n",
    "* Categorical or nonordinal hyperparameter ranges can be given as a list of possible values `[val1, val2, ...]`\n",
    "\n",
    "We provide the default configuration of hyperparameters as a starting point of the problem."
   ]
  },
  {
   "cell_type": "code",
   "execution_count": 18,
   "id": "5813bb59",
   "metadata": {
    "ExecuteTime": {
     "end_time": "2021-10-06T14:08:50.985064Z",
     "start_time": "2021-10-06T14:08:49.770713Z"
    },
    "colab": {
     "base_uri": "https://localhost:8080/"
    },
    "execution": {
     "iopub.execute_input": "2021-10-05T13:20:33.102492Z",
     "iopub.status.busy": "2021-10-05T13:20:33.102220Z",
     "iopub.status.idle": "2021-10-05T13:20:33.802294Z",
     "shell.execute_reply": "2021-10-05T13:20:33.801558Z",
     "shell.execute_reply.started": "2021-10-05T13:20:33.102451Z"
    },
    "id": "5813bb59",
    "outputId": "5c6260b7-2b23-4cda-a0b2-e6db07aa6177"
   },
   "outputs": [
    {
     "data": {
      "text/plain": [
       "Configuration space object:\n",
       "  Hyperparameters:\n",
       "    activation, Type: Categorical, Choices: {elu, gelu, hard_sigmoid, linear, relu, selu, sigmoid, softplus, softsign, swish, tanh}, Default: elu\n",
       "    batch_size, Type: UniformInteger, Range: [8, 256], Default: 45, on log-scale\n",
       "    dropout_rate, Type: UniformFloat, Range: [0.0, 0.6], Default: 0.3\n",
       "    learning_rate, Type: UniformFloat, Range: [1e-05, 0.01], Default: 0.0003162278, on log-scale\n",
       "    num_epochs, Type: UniformInteger, Range: [10, 100], Default: 55\n",
       "    units, Type: UniformInteger, Range: [8, 128], Default: 68\n",
       "\n",
       "\n",
       "  Starting Point:\n",
       "{0: {'activation': 'relu',\n",
       "     'batch_size': 32,\n",
       "     'dropout_rate': 0.5,\n",
       "     'learning_rate': 0.001,\n",
       "     'num_epochs': 50,\n",
       "     'units': 32}}"
      ]
     },
     "execution_count": 18,
     "metadata": {},
     "output_type": "execute_result"
    }
   ],
   "source": [
    "from deephyper.problem import HpProblem\n",
    "\n",
    "# Creation of an hyperparameter problem\n",
    "problem = HpProblem()\n",
    "\n",
    "# Discrete hyperparameter (sampled with uniform prior)\n",
    "problem.add_hyperparameter((8, 128), \"units\")\n",
    "problem.add_hyperparameter((10, 100), \"num_epochs\")\n",
    "\n",
    "\n",
    "# Categorical hyperparameter (sampled with uniform prior)\n",
    "ACTIVATIONS = [\n",
    "    \"elu\", \"gelu\", \"hard_sigmoid\", \"linear\", \"relu\", \"selu\",\n",
    "    \"sigmoid\", \"softplus\", \"softsign\", \"swish\", \"tanh\",\n",
    "]\n",
    "problem.add_hyperparameter(ACTIVATIONS, \"activation\")\n",
    "\n",
    "\n",
    "# Real hyperparameter (sampled with uniform prior)\n",
    "problem.add_hyperparameter((0.0, 0.6), \"dropout_rate\")\n",
    "\n",
    "\n",
    "# Discrete and Real hyperparameters (sampled with log-uniform)\n",
    "problem.add_hyperparameter((8, 256, \"log-uniform\"), \"batch_size\")\n",
    "problem.add_hyperparameter((1e-5, 1e-2, \"log-uniform\"), \"learning_rate\")\n",
    "\n",
    "\n",
    "# Add a starting point to try first\n",
    "problem.add_starting_point(**default_config)\n",
    "problem"
   ]
  },
  {
   "cell_type": "markdown",
   "id": "596900f9",
   "metadata": {
    "id": "596900f9"
   },
   "source": [
    "## Define the evaluator object\n",
    "\n",
    "The `Evaluator` object allows to change the parallelization backend used by DeepHyper.  \n",
    "It is a standalone object which schedules the execution of remote tasks. All evaluators needs a `run_function` to be instantiated.  \n",
    "Then a keyword `method` defines the backend (e.g., `\"ray\"`) and the `method_kwargs` corresponds to keyword arguments of this chosen `method`.\n",
    "\n",
    "```python\n",
    "evaluator = Evaluator.create(run_function, method, method_kwargs)\n",
    "```\n",
    "\n",
    "Once created the `evaluator.num_workers` gives access to the number of available parallel workers.\n",
    "\n",
    "Finally, to submit and collect tasks to the evaluator one just needs to use the following interface:\n",
    "\n",
    "```python\n",
    "configs = [{\"units\": 8, ...}, ...]\n",
    "evaluator.submit(configs)\n",
    "...\n",
    "# To collect the first finished task (asynchronous)\n",
    "tasks_done = evaluator.get(\"BATCH\", size=1)\n",
    "\n",
    "# To collect all of the pending tasks (synchronous)\n",
    "tasks_done = evaluator.get(\"ALL\")\n",
    "```\n",
    "\n",
    "<div class=\"alert alert-warning\">\n",
    "\n",
    "<b>Warning</b>\n",
    "\n",
    "Each `Evaluator` saves its own state, therefore it is crucial to create a new evaluator when launching a fresh search.\n",
    "    \n",
    "</div>\n"
   ]
  },
  {
   "cell_type": "code",
   "execution_count": 19,
   "id": "b3f0be13",
   "metadata": {
    "ExecuteTime": {
     "end_time": "2021-10-06T14:08:51.128103Z",
     "start_time": "2021-10-06T14:08:50.989345Z"
    },
    "colab": {
     "base_uri": "https://localhost:8080/"
    },
    "execution": {
     "iopub.execute_input": "2021-10-05T13:24:26.533483Z",
     "iopub.status.busy": "2021-10-05T13:24:26.533227Z",
     "iopub.status.idle": "2021-10-05T13:24:26.548067Z",
     "shell.execute_reply": "2021-10-05T13:24:26.547597Z",
     "shell.execute_reply.started": "2021-10-05T13:24:26.533457Z"
    },
    "id": "b3f0be13",
    "outputId": "0ad00798-09e7-4814-f456-87603dceb1d2"
   },
   "outputs": [
    {
     "name": "stdout",
     "output_type": "stream",
     "text": [
      "Created new evaluator with 1 worker and config: {'num_cpus': 1, 'num_cpus_per_task': 1, 'callbacks': [<deephyper.evaluator.callback.LoggerCallback object at 0x7fa902660ee0>], 'num_gpus': 1, 'num_gpus_per_task': 1}\n"
     ]
    }
   ],
   "source": [
    "from deephyper.evaluator import Evaluator\n",
    "from deephyper.evaluator.callback import LoggerCallback\n",
    "\n",
    "\n",
    "def get_evaluator(run_function):\n",
    "    # Default arguments for Ray: 1 worker and 1 worker per evaluation\n",
    "    method_kwargs = {\n",
    "        \"num_cpus\": 1, \n",
    "        \"num_cpus_per_task\": 1,\n",
    "        \"callbacks\": [LoggerCallback()]\n",
    "    }\n",
    "\n",
    "    # If GPU devices are detected then it will create 'n_gpus' workers\n",
    "    # and use 1 worker for each evaluation\n",
    "    if is_gpu_available:\n",
    "        method_kwargs[\"num_cpus\"] = n_gpus\n",
    "        method_kwargs[\"num_gpus\"] = n_gpus\n",
    "        method_kwargs[\"num_cpus_per_task\"] = 1\n",
    "        method_kwargs[\"num_gpus_per_task\"] = 1\n",
    "\n",
    "    evaluator = Evaluator.create(\n",
    "        run_function, \n",
    "        method=\"ray\", \n",
    "        method_kwargs=method_kwargs\n",
    "    )\n",
    "    print(f\"Created new evaluator with {evaluator.num_workers} worker{'s' if evaluator.num_workers > 1 else ''} and config: {method_kwargs}\", )\n",
    "    \n",
    "    return evaluator\n",
    "\n",
    "evaluator_1 = get_evaluator(run)"
   ]
  },
  {
   "cell_type": "markdown",
   "id": "392998bc",
   "metadata": {
    "id": "392998bc"
   },
   "source": [
    "## Define and run the asynchronous model-based search (AMBS)\n",
    "\n",
    "A primary pillar of hyperparameter search in DeepHyper is given by an asynchronous parallel model-based search paradigm (henceforth AMBS). AMBS may be described in the following algorithm:\n",
    "\n",
    "<img src=\"https://github.com/deephyper/tutorials/blob/main/tutorials/colab/HPS_basic_classification_with_tabular_data/Figures/AMBS.png?raw=1\" width=70% align=center>\n",
    "   \n",
    "\n",
    "---\n",
    "\n",
    "Following the parallelized evaluation of these configurations, a low-fidelity and high efficiency model (henceforth \"the surrogate\") is devised to reproduce the relationship between the input variables involved in the model (i.e., the choice of hyperparameters) and the outputs (which are generally a measure of validation data accuracy).  \n",
    "\n",
    "After obtaining this surrogate of the validation accuracy, we may utilize ideas from classical methods in Bayesian optimization literature for adaptively sample the search space of hyperparameters.\n",
    "\n",
    "First, the surrogate is used to obtain an estimate for the mean value of the validation accuracy at a certain sampling location $x$ in addition to an estimated variance. The latter requirement restricts us to the use of high efficiency data-driven modeling strategies that have inbuilt variance estimates (such as a Gaussian process or Random Forest regressor).  \n",
    "\n",
    "Regions where the mean is high represent opportunities for exploitation and regions where the variance is high represent opportunities for exploration. An optimistic acquisition function called UCB can be constructed using these two quantities:\n",
    "\n",
    "$$L_{\\text{UCB}}(x) = \\mu(x) + \\kappa \\cdot \\sigma(x)$$\n",
    "\n",
    "The *unevaluated* hyperparameter configurations that *maximize* the acquisition function are chosen for the next batch of evaluations.  \n",
    "\n",
    "Note that the choice of the variance weighting parameter $\\kappa$ controls the degree of exploration in the hyperparameter search with zero indicating purely exploitation (unseen configurations where the predicted accuracy is highest will be sampled).  \n",
    "\n",
    "The top `s` configurations are selected for the new batch. The following schematic demonstrates this process:\n",
    "\n",
    "<img src=\"https://github.com/deephyper/tutorials/blob/main/tutorials/colab/HPS_basic_classification_with_tabular_data/Figures/BO_AF.png?raw=1\" width=50%>\n",
    "\n",
    "The process of obtaining `s` configurations relies on the \"constant-liar\" strategy where a sampled configuration is mapped to a dummy output given by a bulk metric of all the evaluated configurations thus far (such as the maximum, mean or median validation accuracy).  \n",
    "\n",
    "Prior to sampling the next configuration by acquisition function maximization, the surrogate is retrained with the dummy output as a data point. As the true validation accuracy becomes available for one of the sampled configurations, the dummy output is replaced and the surrogate is updated.\n",
    "\n",
    "This allows for scalable asynchronous (or batch synchronous) sampling of new hyperparameter configurations. \n",
    "\n",
    "####  Choice of surrogate model\n",
    "\n",
    "Users should note that our choice of the surrogate is given by the Random Forest regressor due to its ability to handle non-ordinal data (hyperparameter configurations may not be purely continuous or even numerical). Evidence for how they outperform other methods (such as Gaussian processes) is also available in [1]\n",
    "\n",
    "<img src=\"https://github.com/deephyper/tutorials/blob/main/tutorials/colab/HPS_basic_classification_with_tabular_data/Figures/RFR.png?raw=1\" width=33% align=left>\n",
    "\n",
    "<img src=\"https://github.com/deephyper/tutorials/blob/main/tutorials/colab/HPS_basic_classification_with_tabular_data/Figures/RFR_Superior.png?raw=1\" width=64% align=right>\n"
   ]
  },
  {
   "cell_type": "markdown",
   "id": "613067b2",
   "metadata": {
    "id": "613067b2"
   },
   "source": [
    "### Setup AMBS\n",
    "\n",
    "We create the AMBS using the `problem` and `evaluator` defined above."
   ]
  },
  {
   "cell_type": "code",
   "execution_count": 20,
   "id": "09dc7abd",
   "metadata": {
    "ExecuteTime": {
     "end_time": "2021-10-06T14:08:57.225948Z",
     "start_time": "2021-10-06T14:08:57.221120Z"
    },
    "execution": {
     "iopub.execute_input": "2021-10-05T13:24:31.729788Z",
     "iopub.status.busy": "2021-10-05T13:24:31.729551Z",
     "iopub.status.idle": "2021-10-05T13:24:31.811538Z",
     "shell.execute_reply": "2021-10-05T13:24:31.810828Z",
     "shell.execute_reply.started": "2021-10-05T13:24:31.729764Z"
    },
    "id": "09dc7abd"
   },
   "outputs": [
    {
     "name": "stdout",
     "output_type": "stream",
     "text": [
      "Help on class AMBS in module deephyper.search.hps._ambs:\n",
      "\n",
      "class AMBS(deephyper.search._search.Search)\n",
      " |  AMBS(problem, evaluator, random_state: int = None, log_dir: str = '.', verbose: int = 0, surrogate_model: str = 'RF', acq_func: str = 'UCB', acq_optimizer: str = 'auto', kappa: float = 1.96, xi: float = 0.001, n_points: int = 10000, filter_duplicated: bool = True, liar_strategy: str = 'cl_max', n_jobs: int = 1, **kwargs)\n",
      " |  \n",
      " |  Asynchronous Model-Based Search based on the `Scikit-Optimized Optimizer <https://scikit-optimize.github.io/stable/modules/generated/skopt.Optimizer.html#skopt.Optimizer>`_.\n",
      " |  \n",
      " |  Args:\n",
      " |      problem (HpProblem): Hyperparameter problem describing the search space to explore.\n",
      " |      evaluator (Evaluator): An ``Evaluator`` instance responsible of distributing the tasks.\n",
      " |      random_state (int, optional): Random seed. Defaults to ``None``.\n",
      " |      log_dir (str, optional): Log directory where search's results are saved. Defaults to ``\".\"``.\n",
      " |      verbose (int, optional): Indicate the verbosity level of the search. Defaults to ``0``.\n",
      " |      surrogate_model (str, optional): Surrogate model used by the Bayesian optimization. Can be a value in ``[\"RF\", \"ET\", \"GBRT\", \"DUMMY\"]``. Defaults to ``\"RF\"``.\n",
      " |      acq_func (str, optional): Acquisition function used by the Bayesian optimization. Can be a value in ``[\"UCB\", \"EI\", \"PI\", \"gp_hedge\"]``. Defaults to ``\"UCB\"``.\n",
      " |      acq_optimizer (str, optional): Method used to minimze the acquisition function. Can be a value in ``[\"sampling\", \"lbfgs\"]``. Defaults to ``\"auto\"``.\n",
      " |      kappa (float, optional): Manage the exploration/exploitation tradeoff for the \"UCB\" acquisition function. Defaults to ``1.96`` which corresponds to 95% of the confidence interval.\n",
      " |      xi (float, optional): Manage the exploration/exploitation tradeoff of ``\"EI\"`` and ``\"PI\"`` acquisition function. Defaults to ``0.001``.\n",
      " |      n_points (int, optional): The number of configurations sampled from the search space to infer each batch of new evaluated configurations.\n",
      " |      filter_duplicated (bool, optional): Force the optimizer to sample unique points until the search space is \"exhausted\" in the sens that no new unique points can be found given the sampling size ``n_points``. Defaults to ``True``.\n",
      " |      liar_strategy (str, optional): Definition of the constant value use for the Liar strategy. Can be a value in ``[\"cl_min\", \"cl_mean\", \"cl_max\"]`` . Defaults to ``\"cl_max\"``.\n",
      " |      n_jobs (int, optional): Number of parallel processes used to fit the surrogate model of the Bayesian optimization. A value of ``-1`` will use all available cores. Defaults to ``1``.\n",
      " |  \n",
      " |  Method resolution order:\n",
      " |      AMBS\n",
      " |      deephyper.search._search.Search\n",
      " |      abc.ABC\n",
      " |      builtins.object\n",
      " |  \n",
      " |  Methods defined here:\n",
      " |  \n",
      " |  __init__(self, problem, evaluator, random_state: int = None, log_dir: str = '.', verbose: int = 0, surrogate_model: str = 'RF', acq_func: str = 'UCB', acq_optimizer: str = 'auto', kappa: float = 1.96, xi: float = 0.001, n_points: int = 10000, filter_duplicated: bool = True, liar_strategy: str = 'cl_max', n_jobs: int = 1, **kwargs)\n",
      " |      Initialize self.  See help(type(self)) for accurate signature.\n",
      " |  \n",
      " |  fit_search_space(self, df)\n",
      " |      Apply prior-guided transfer learning based on a DataFrame of results.\n",
      " |      \n",
      " |      :meta private:\n",
      " |      \n",
      " |      Args:\n",
      " |          df (str|DataFrame): a checkpoint from a previous search.\n",
      " |  \n",
      " |  fit_surrogate(self, df)\n",
      " |      Fit the surrogate model of the search from a checkpointed Dataframe.\n",
      " |      \n",
      " |      Args:\n",
      " |          df (str|DataFrame): a checkpoint from a previous search.\n",
      " |      \n",
      " |      Example Usage:\n",
      " |      \n",
      " |      >>> search = AMBS(problem, evaluator)\n",
      " |      >>> search.fit_surrogate(\"results.csv\")\n",
      " |  \n",
      " |  get_random_batch(self, size: int) -> list\n",
      " |      Generate a random batch of configuration.\n",
      " |      \n",
      " |      :meta private:\n",
      " |      \n",
      " |      Args:\n",
      " |          size (int): number of configurations in generated batch.\n",
      " |      \n",
      " |      Returns:\n",
      " |          list: the list of generated configuration.\n",
      " |  \n",
      " |  return_cond(self, cond, cst_new)\n",
      " |      :meta private:\n",
      " |  \n",
      " |  return_forbid(self, cond, cst_new)\n",
      " |      :meta private:\n",
      " |  \n",
      " |  to_dict(self, x: list) -> dict\n",
      " |      Transform a list of hyperparameter values to a ``dict`` where keys are hyperparameters names and values are hyperparameters values.\n",
      " |      \n",
      " |      :meta private:\n",
      " |      \n",
      " |      Args:\n",
      " |          x (list): a list of hyperparameter values.\n",
      " |      \n",
      " |      Returns:\n",
      " |          dict: a dictionnary of hyperparameter names and values.\n",
      " |  \n",
      " |  ----------------------------------------------------------------------\n",
      " |  Data and other attributes defined here:\n",
      " |  \n",
      " |  __abstractmethods__ = frozenset()\n",
      " |  \n",
      " |  ----------------------------------------------------------------------\n",
      " |  Methods inherited from deephyper.search._search.Search:\n",
      " |  \n",
      " |  search(self, max_evals: int = -1, timeout: int = None)\n",
      " |      Execute the search algorithm.\n",
      " |      \n",
      " |      Args:\n",
      " |          max_evals (int, optional): The maximum number of evaluations of the run function to perform before stopping the search. Defaults to -1, will run indefinitely.\n",
      " |          timeout (int, optional): The time budget of the search before stopping.Defaults to None, will not impose a time budget.\n",
      " |      \n",
      " |      Returns:\n",
      " |          DataFrame: a pandas DataFrame containing the evaluations performed.\n",
      " |  \n",
      " |  terminate(self)\n",
      " |      Terminate the search.\n",
      " |      \n",
      " |      Raises:\n",
      " |          SearchTerminationError: raised when the search is terminated with SIGALARM\n",
      " |  \n",
      " |  ----------------------------------------------------------------------\n",
      " |  Data descriptors inherited from deephyper.search._search.Search:\n",
      " |  \n",
      " |  __dict__\n",
      " |      dictionary for instance variables (if defined)\n",
      " |  \n",
      " |  __weakref__\n",
      " |      list of weak references to the object (if defined)\n",
      "\n"
     ]
    }
   ],
   "source": [
    "from deephyper.search.hps import AMBS\n",
    "# Uncomment the following line to show the arguments of AMBS.\n",
    "help(AMBS)"
   ]
  },
  {
   "cell_type": "code",
   "execution_count": 21,
   "id": "1e00f0f0",
   "metadata": {
    "ExecuteTime": {
     "end_time": "2021-10-06T14:08:58.089438Z",
     "start_time": "2021-10-06T14:08:58.087565Z"
    },
    "execution": {
     "iopub.execute_input": "2021-10-05T13:24:32.484543Z",
     "iopub.status.busy": "2021-10-05T13:24:32.484353Z",
     "iopub.status.idle": "2021-10-05T13:24:32.488491Z",
     "shell.execute_reply": "2021-10-05T13:24:32.487856Z",
     "shell.execute_reply.started": "2021-10-05T13:24:32.484521Z"
    },
    "id": "1e00f0f0"
   },
   "outputs": [],
   "source": [
    "# Instanciate the search with the problem and the evaluator that we created before\n",
    "search = AMBS(problem, evaluator_1)"
   ]
  },
  {
   "cell_type": "markdown",
   "id": "5fad52a5",
   "metadata": {
    "id": "5fad52a5"
   },
   "source": [
    "<div class=\"alert alert-info\">\n",
    "    \n",
    "<b>Note</b>\n",
    "    \n",
    "All DeepHyper's search algorithm have two stopping criteria:\n",
    "    <ul> \n",
    "        <li> <code>`max_evals (int)`</code>: Defines the maximum number of evaluations that we want to perform. Default to <code>-1</code> for an infinite number.</li>\n",
    "        <li> <code>`timeout (int)`</code>: Defines a time budget (in seconds) before stopping the search. Default to <code>None</code> for an infinite time budget.</li>\n",
    "    </ul>\n",
    "    \n",
    "</div>"
   ]
  },
  {
   "cell_type": "code",
   "execution_count": 22,
   "id": "457546ce",
   "metadata": {
    "ExecuteTime": {
     "end_time": "2021-10-06T14:09:28.174734Z",
     "start_time": "2021-10-06T14:09:00.593517Z"
    },
    "colab": {
     "base_uri": "https://localhost:8080/"
    },
    "execution": {
     "iopub.execute_input": "2021-10-05T13:24:34.026578Z",
     "iopub.status.busy": "2021-10-05T13:24:34.026364Z",
     "iopub.status.idle": "2021-10-05T13:25:38.142031Z",
     "shell.execute_reply": "2021-10-05T13:25:38.141494Z",
     "shell.execute_reply.started": "2021-10-05T13:24:34.026553Z"
    },
    "id": "457546ce",
    "outputId": "8cf5e4c3-8f17-40e7-ab55-011f30807198"
   },
   "outputs": [
    {
     "name": "stdout",
     "output_type": "stream",
     "text": [
      "[00001] -- best objective: 0.81967 -- received objective: 0.81967\n",
      "[00002] -- best objective: 0.83607 -- received objective: 0.83607\n",
      "[00003] -- best objective: 0.83607 -- received objective: 0.32787\n",
      "[00004] -- best objective: 0.83607 -- received objective: 0.78689\n",
      "[00005] -- best objective: 0.83607 -- received objective: 0.81967\n",
      "[00006] -- best objective: 0.83607 -- received objective: 0.70492\n",
      "[00007] -- best objective: 0.83607 -- received objective: 0.77049\n",
      "[00008] -- best objective: 0.83607 -- received objective: 0.24590\n",
      "[00009] -- best objective: 0.85246 -- received objective: 0.85246\n",
      "[00010] -- best objective: 0.85246 -- received objective: 0.77049\n"
     ]
    }
   ],
   "source": [
    "results = search.search(max_evals=10)"
   ]
  },
  {
   "cell_type": "markdown",
   "id": "33c2dd77",
   "metadata": {
    "id": "33c2dd77"
   },
   "source": [
    "<div class=\"alert alert-warning\">\n",
    "\n",
    "<b>Warning</b>\n",
    "    \n",
    "The `search` call does not output any information about the current status of the search. However, a `results.csv` file is created in the local directly and can be visualized to see finished tasks.\n",
    "    \n",
    "</div>"
   ]
  },
  {
   "cell_type": "markdown",
   "id": "5c54414b",
   "metadata": {
    "id": "5c54414b"
   },
   "source": [
    "The returned `results` is a Pandas Dataframe where columns are hyperparameters and information stored by the evaluator:\n",
    "\n",
    "* `id` is a unique identifier corresponding to the order of creation of tasks\n",
    "* `objective` is the value returned by the run-function\n",
    "* `elapsed_sec` is the time (in seconds) when the task completed since the creation of the evaluator.\n",
    "* `duration` is the duration (in seconds) of the task to be computed."
   ]
  },
  {
   "cell_type": "code",
   "execution_count": 23,
   "id": "87bc93b8",
   "metadata": {
    "ExecuteTime": {
     "end_time": "2021-10-06T14:14:09.049833Z",
     "start_time": "2021-10-06T14:14:09.038740Z"
    },
    "colab": {
     "base_uri": "https://localhost:8080/",
     "height": 363
    },
    "execution": {
     "iopub.execute_input": "2021-10-05T13:26:06.857647Z",
     "iopub.status.busy": "2021-10-05T13:26:06.857404Z",
     "iopub.status.idle": "2021-10-05T13:26:06.897524Z",
     "shell.execute_reply": "2021-10-05T13:26:06.897125Z",
     "shell.execute_reply.started": "2021-10-05T13:26:06.857622Z"
    },
    "id": "87bc93b8",
    "outputId": "620cd69a-c6b3-4444-bf0b-86c58dadc58f"
   },
   "outputs": [
    {
     "data": {
      "text/html": [
       "<div>\n",
       "<style scoped>\n",
       "    .dataframe tbody tr th:only-of-type {\n",
       "        vertical-align: middle;\n",
       "    }\n",
       "\n",
       "    .dataframe tbody tr th {\n",
       "        vertical-align: top;\n",
       "    }\n",
       "\n",
       "    .dataframe thead th {\n",
       "        text-align: right;\n",
       "    }\n",
       "</style>\n",
       "<table border=\"1\" class=\"dataframe\">\n",
       "  <thead>\n",
       "    <tr style=\"text-align: right;\">\n",
       "      <th></th>\n",
       "      <th>activation</th>\n",
       "      <th>batch_size</th>\n",
       "      <th>dropout_rate</th>\n",
       "      <th>learning_rate</th>\n",
       "      <th>num_epochs</th>\n",
       "      <th>units</th>\n",
       "      <th>id</th>\n",
       "      <th>objective</th>\n",
       "      <th>elapsed_sec</th>\n",
       "      <th>duration</th>\n",
       "    </tr>\n",
       "  </thead>\n",
       "  <tbody>\n",
       "    <tr>\n",
       "      <th>0</th>\n",
       "      <td>relu</td>\n",
       "      <td>32</td>\n",
       "      <td>0.500000</td>\n",
       "      <td>0.001000</td>\n",
       "      <td>50</td>\n",
       "      <td>32</td>\n",
       "      <td>1</td>\n",
       "      <td>0.819672</td>\n",
       "      <td>26.495438</td>\n",
       "      <td>5.159893</td>\n",
       "    </tr>\n",
       "    <tr>\n",
       "      <th>1</th>\n",
       "      <td>tanh</td>\n",
       "      <td>256</td>\n",
       "      <td>0.001780</td>\n",
       "      <td>0.000298</td>\n",
       "      <td>19</td>\n",
       "      <td>120</td>\n",
       "      <td>2</td>\n",
       "      <td>0.836066</td>\n",
       "      <td>29.666125</td>\n",
       "      <td>2.858720</td>\n",
       "    </tr>\n",
       "    <tr>\n",
       "      <th>2</th>\n",
       "      <td>tanh</td>\n",
       "      <td>256</td>\n",
       "      <td>0.112889</td>\n",
       "      <td>0.000015</td>\n",
       "      <td>29</td>\n",
       "      <td>96</td>\n",
       "      <td>3</td>\n",
       "      <td>0.327869</td>\n",
       "      <td>32.912422</td>\n",
       "      <td>3.097953</td>\n",
       "    </tr>\n",
       "    <tr>\n",
       "      <th>3</th>\n",
       "      <td>tanh</td>\n",
       "      <td>256</td>\n",
       "      <td>0.089159</td>\n",
       "      <td>0.002615</td>\n",
       "      <td>85</td>\n",
       "      <td>74</td>\n",
       "      <td>4</td>\n",
       "      <td>0.786885</td>\n",
       "      <td>37.622859</td>\n",
       "      <td>4.563012</td>\n",
       "    </tr>\n",
       "    <tr>\n",
       "      <th>4</th>\n",
       "      <td>gelu</td>\n",
       "      <td>256</td>\n",
       "      <td>0.035532</td>\n",
       "      <td>0.000107</td>\n",
       "      <td>35</td>\n",
       "      <td>89</td>\n",
       "      <td>5</td>\n",
       "      <td>0.819672</td>\n",
       "      <td>41.352340</td>\n",
       "      <td>3.479618</td>\n",
       "    </tr>\n",
       "    <tr>\n",
       "      <th>5</th>\n",
       "      <td>selu</td>\n",
       "      <td>256</td>\n",
       "      <td>0.196769</td>\n",
       "      <td>0.000175</td>\n",
       "      <td>20</td>\n",
       "      <td>80</td>\n",
       "      <td>6</td>\n",
       "      <td>0.704918</td>\n",
       "      <td>44.390563</td>\n",
       "      <td>2.888591</td>\n",
       "    </tr>\n",
       "    <tr>\n",
       "      <th>6</th>\n",
       "      <td>sigmoid</td>\n",
       "      <td>256</td>\n",
       "      <td>0.205682</td>\n",
       "      <td>0.000040</td>\n",
       "      <td>62</td>\n",
       "      <td>114</td>\n",
       "      <td>7</td>\n",
       "      <td>0.770492</td>\n",
       "      <td>48.687688</td>\n",
       "      <td>4.044325</td>\n",
       "    </tr>\n",
       "    <tr>\n",
       "      <th>7</th>\n",
       "      <td>hard_sigmoid</td>\n",
       "      <td>256</td>\n",
       "      <td>0.117332</td>\n",
       "      <td>0.000029</td>\n",
       "      <td>48</td>\n",
       "      <td>119</td>\n",
       "      <td>8</td>\n",
       "      <td>0.245902</td>\n",
       "      <td>52.597926</td>\n",
       "      <td>3.758099</td>\n",
       "    </tr>\n",
       "    <tr>\n",
       "      <th>8</th>\n",
       "      <td>softsign</td>\n",
       "      <td>256</td>\n",
       "      <td>0.008800</td>\n",
       "      <td>0.003522</td>\n",
       "      <td>19</td>\n",
       "      <td>126</td>\n",
       "      <td>9</td>\n",
       "      <td>0.852459</td>\n",
       "      <td>55.638304</td>\n",
       "      <td>2.887552</td>\n",
       "    </tr>\n",
       "    <tr>\n",
       "      <th>9</th>\n",
       "      <td>hard_sigmoid</td>\n",
       "      <td>256</td>\n",
       "      <td>0.054531</td>\n",
       "      <td>0.001255</td>\n",
       "      <td>27</td>\n",
       "      <td>24</td>\n",
       "      <td>10</td>\n",
       "      <td>0.770492</td>\n",
       "      <td>59.145721</td>\n",
       "      <td>3.254907</td>\n",
       "    </tr>\n",
       "  </tbody>\n",
       "</table>\n",
       "</div>"
      ],
      "text/plain": [
       "     activation  batch_size  dropout_rate  learning_rate  num_epochs  units  \\\n",
       "0          relu          32      0.500000       0.001000          50     32   \n",
       "1          tanh         256      0.001780       0.000298          19    120   \n",
       "2          tanh         256      0.112889       0.000015          29     96   \n",
       "3          tanh         256      0.089159       0.002615          85     74   \n",
       "4          gelu         256      0.035532       0.000107          35     89   \n",
       "5          selu         256      0.196769       0.000175          20     80   \n",
       "6       sigmoid         256      0.205682       0.000040          62    114   \n",
       "7  hard_sigmoid         256      0.117332       0.000029          48    119   \n",
       "8      softsign         256      0.008800       0.003522          19    126   \n",
       "9  hard_sigmoid         256      0.054531       0.001255          27     24   \n",
       "\n",
       "   id  objective  elapsed_sec  duration  \n",
       "0   1   0.819672    26.495438  5.159893  \n",
       "1   2   0.836066    29.666125  2.858720  \n",
       "2   3   0.327869    32.912422  3.097953  \n",
       "3   4   0.786885    37.622859  4.563012  \n",
       "4   5   0.819672    41.352340  3.479618  \n",
       "5   6   0.704918    44.390563  2.888591  \n",
       "6   7   0.770492    48.687688  4.044325  \n",
       "7   8   0.245902    52.597926  3.758099  \n",
       "8   9   0.852459    55.638304  2.887552  \n",
       "9  10   0.770492    59.145721  3.254907  "
      ]
     },
     "execution_count": 23,
     "metadata": {},
     "output_type": "execute_result"
    }
   ],
   "source": [
    "results"
   ]
  },
  {
   "cell_type": "markdown",
   "id": "dbd8b3e4",
   "metadata": {
    "id": "dbd8b3e4"
   },
   "source": [
    "The search can be continued without any issue."
   ]
  },
  {
   "cell_type": "code",
   "execution_count": 24,
   "id": "f2e6af67",
   "metadata": {
    "ExecuteTime": {
     "end_time": "2021-10-06T14:14:10.966261Z",
     "start_time": "2021-10-06T14:14:09.918767Z"
    },
    "colab": {
     "base_uri": "https://localhost:8080/",
     "height": 607
    },
    "execution": {
     "iopub.execute_input": "2021-10-05T13:26:08.179747Z",
     "iopub.status.busy": "2021-10-05T13:26:08.179499Z",
     "iopub.status.idle": "2021-10-05T13:26:32.492749Z",
     "shell.execute_reply": "2021-10-05T13:26:32.492153Z",
     "shell.execute_reply.started": "2021-10-05T13:26:08.179721Z"
    },
    "id": "f2e6af67",
    "outputId": "179d3151-a080-46aa-d412-e8d24bc4c69f"
   },
   "outputs": [
    {
     "name": "stdout",
     "output_type": "stream",
     "text": [
      "[00011] -- best objective: 0.85246 -- received objective: 0.78689\n",
      "[00012] -- best objective: 0.85246 -- received objective: 0.85246\n",
      "[00013] -- best objective: 0.85246 -- received objective: 0.77049\n",
      "[00014] -- best objective: 0.85246 -- received objective: 0.77049\n",
      "[00015] -- best objective: 0.85246 -- received objective: 0.22951\n"
     ]
    },
    {
     "data": {
      "text/html": [
       "<div>\n",
       "<style scoped>\n",
       "    .dataframe tbody tr th:only-of-type {\n",
       "        vertical-align: middle;\n",
       "    }\n",
       "\n",
       "    .dataframe tbody tr th {\n",
       "        vertical-align: top;\n",
       "    }\n",
       "\n",
       "    .dataframe thead th {\n",
       "        text-align: right;\n",
       "    }\n",
       "</style>\n",
       "<table border=\"1\" class=\"dataframe\">\n",
       "  <thead>\n",
       "    <tr style=\"text-align: right;\">\n",
       "      <th></th>\n",
       "      <th>activation</th>\n",
       "      <th>batch_size</th>\n",
       "      <th>dropout_rate</th>\n",
       "      <th>learning_rate</th>\n",
       "      <th>num_epochs</th>\n",
       "      <th>units</th>\n",
       "      <th>id</th>\n",
       "      <th>objective</th>\n",
       "      <th>elapsed_sec</th>\n",
       "      <th>duration</th>\n",
       "    </tr>\n",
       "  </thead>\n",
       "  <tbody>\n",
       "    <tr>\n",
       "      <th>0</th>\n",
       "      <td>relu</td>\n",
       "      <td>32</td>\n",
       "      <td>0.500000</td>\n",
       "      <td>0.001000</td>\n",
       "      <td>50</td>\n",
       "      <td>32</td>\n",
       "      <td>1</td>\n",
       "      <td>0.819672</td>\n",
       "      <td>26.495438</td>\n",
       "      <td>5.159893</td>\n",
       "    </tr>\n",
       "    <tr>\n",
       "      <th>1</th>\n",
       "      <td>tanh</td>\n",
       "      <td>256</td>\n",
       "      <td>0.001780</td>\n",
       "      <td>0.000298</td>\n",
       "      <td>19</td>\n",
       "      <td>120</td>\n",
       "      <td>2</td>\n",
       "      <td>0.836066</td>\n",
       "      <td>29.666125</td>\n",
       "      <td>2.858720</td>\n",
       "    </tr>\n",
       "    <tr>\n",
       "      <th>2</th>\n",
       "      <td>tanh</td>\n",
       "      <td>256</td>\n",
       "      <td>0.112889</td>\n",
       "      <td>0.000015</td>\n",
       "      <td>29</td>\n",
       "      <td>96</td>\n",
       "      <td>3</td>\n",
       "      <td>0.327869</td>\n",
       "      <td>32.912422</td>\n",
       "      <td>3.097953</td>\n",
       "    </tr>\n",
       "    <tr>\n",
       "      <th>3</th>\n",
       "      <td>tanh</td>\n",
       "      <td>256</td>\n",
       "      <td>0.089159</td>\n",
       "      <td>0.002615</td>\n",
       "      <td>85</td>\n",
       "      <td>74</td>\n",
       "      <td>4</td>\n",
       "      <td>0.786885</td>\n",
       "      <td>37.622859</td>\n",
       "      <td>4.563012</td>\n",
       "    </tr>\n",
       "    <tr>\n",
       "      <th>4</th>\n",
       "      <td>gelu</td>\n",
       "      <td>256</td>\n",
       "      <td>0.035532</td>\n",
       "      <td>0.000107</td>\n",
       "      <td>35</td>\n",
       "      <td>89</td>\n",
       "      <td>5</td>\n",
       "      <td>0.819672</td>\n",
       "      <td>41.352340</td>\n",
       "      <td>3.479618</td>\n",
       "    </tr>\n",
       "    <tr>\n",
       "      <th>5</th>\n",
       "      <td>selu</td>\n",
       "      <td>256</td>\n",
       "      <td>0.196769</td>\n",
       "      <td>0.000175</td>\n",
       "      <td>20</td>\n",
       "      <td>80</td>\n",
       "      <td>6</td>\n",
       "      <td>0.704918</td>\n",
       "      <td>44.390563</td>\n",
       "      <td>2.888591</td>\n",
       "    </tr>\n",
       "    <tr>\n",
       "      <th>6</th>\n",
       "      <td>sigmoid</td>\n",
       "      <td>256</td>\n",
       "      <td>0.205682</td>\n",
       "      <td>0.000040</td>\n",
       "      <td>62</td>\n",
       "      <td>114</td>\n",
       "      <td>7</td>\n",
       "      <td>0.770492</td>\n",
       "      <td>48.687688</td>\n",
       "      <td>4.044325</td>\n",
       "    </tr>\n",
       "    <tr>\n",
       "      <th>7</th>\n",
       "      <td>hard_sigmoid</td>\n",
       "      <td>256</td>\n",
       "      <td>0.117332</td>\n",
       "      <td>0.000029</td>\n",
       "      <td>48</td>\n",
       "      <td>119</td>\n",
       "      <td>8</td>\n",
       "      <td>0.245902</td>\n",
       "      <td>52.597926</td>\n",
       "      <td>3.758099</td>\n",
       "    </tr>\n",
       "    <tr>\n",
       "      <th>8</th>\n",
       "      <td>softsign</td>\n",
       "      <td>256</td>\n",
       "      <td>0.008800</td>\n",
       "      <td>0.003522</td>\n",
       "      <td>19</td>\n",
       "      <td>126</td>\n",
       "      <td>9</td>\n",
       "      <td>0.852459</td>\n",
       "      <td>55.638304</td>\n",
       "      <td>2.887552</td>\n",
       "    </tr>\n",
       "    <tr>\n",
       "      <th>9</th>\n",
       "      <td>hard_sigmoid</td>\n",
       "      <td>256</td>\n",
       "      <td>0.054531</td>\n",
       "      <td>0.001255</td>\n",
       "      <td>27</td>\n",
       "      <td>24</td>\n",
       "      <td>10</td>\n",
       "      <td>0.770492</td>\n",
       "      <td>59.145721</td>\n",
       "      <td>3.254907</td>\n",
       "    </tr>\n",
       "    <tr>\n",
       "      <th>10</th>\n",
       "      <td>hard_sigmoid</td>\n",
       "      <td>256</td>\n",
       "      <td>0.010730</td>\n",
       "      <td>0.001067</td>\n",
       "      <td>66</td>\n",
       "      <td>56</td>\n",
       "      <td>11</td>\n",
       "      <td>0.786885</td>\n",
       "      <td>68.076378</td>\n",
       "      <td>8.779289</td>\n",
       "    </tr>\n",
       "    <tr>\n",
       "      <th>11</th>\n",
       "      <td>relu</td>\n",
       "      <td>32</td>\n",
       "      <td>0.500000</td>\n",
       "      <td>0.001000</td>\n",
       "      <td>50</td>\n",
       "      <td>32</td>\n",
       "      <td>12</td>\n",
       "      <td>0.852459</td>\n",
       "      <td>73.021838</td>\n",
       "      <td>4.946003</td>\n",
       "    </tr>\n",
       "    <tr>\n",
       "      <th>12</th>\n",
       "      <td>hard_sigmoid</td>\n",
       "      <td>256</td>\n",
       "      <td>0.034722</td>\n",
       "      <td>0.000036</td>\n",
       "      <td>19</td>\n",
       "      <td>121</td>\n",
       "      <td>13</td>\n",
       "      <td>0.770492</td>\n",
       "      <td>75.729446</td>\n",
       "      <td>7.500697</td>\n",
       "    </tr>\n",
       "    <tr>\n",
       "      <th>13</th>\n",
       "      <td>hard_sigmoid</td>\n",
       "      <td>256</td>\n",
       "      <td>0.004362</td>\n",
       "      <td>0.000057</td>\n",
       "      <td>56</td>\n",
       "      <td>76</td>\n",
       "      <td>14</td>\n",
       "      <td>0.770492</td>\n",
       "      <td>79.656399</td>\n",
       "      <td>6.379851</td>\n",
       "    </tr>\n",
       "    <tr>\n",
       "      <th>14</th>\n",
       "      <td>hard_sigmoid</td>\n",
       "      <td>256</td>\n",
       "      <td>0.037830</td>\n",
       "      <td>0.000044</td>\n",
       "      <td>29</td>\n",
       "      <td>113</td>\n",
       "      <td>15</td>\n",
       "      <td>0.229508</td>\n",
       "      <td>82.759725</td>\n",
       "      <td>6.875422</td>\n",
       "    </tr>\n",
       "  </tbody>\n",
       "</table>\n",
       "</div>"
      ],
      "text/plain": [
       "      activation  batch_size  dropout_rate  learning_rate  num_epochs  units  \\\n",
       "0           relu          32      0.500000       0.001000          50     32   \n",
       "1           tanh         256      0.001780       0.000298          19    120   \n",
       "2           tanh         256      0.112889       0.000015          29     96   \n",
       "3           tanh         256      0.089159       0.002615          85     74   \n",
       "4           gelu         256      0.035532       0.000107          35     89   \n",
       "5           selu         256      0.196769       0.000175          20     80   \n",
       "6        sigmoid         256      0.205682       0.000040          62    114   \n",
       "7   hard_sigmoid         256      0.117332       0.000029          48    119   \n",
       "8       softsign         256      0.008800       0.003522          19    126   \n",
       "9   hard_sigmoid         256      0.054531       0.001255          27     24   \n",
       "10  hard_sigmoid         256      0.010730       0.001067          66     56   \n",
       "11          relu          32      0.500000       0.001000          50     32   \n",
       "12  hard_sigmoid         256      0.034722       0.000036          19    121   \n",
       "13  hard_sigmoid         256      0.004362       0.000057          56     76   \n",
       "14  hard_sigmoid         256      0.037830       0.000044          29    113   \n",
       "\n",
       "    id  objective  elapsed_sec  duration  \n",
       "0    1   0.819672    26.495438  5.159893  \n",
       "1    2   0.836066    29.666125  2.858720  \n",
       "2    3   0.327869    32.912422  3.097953  \n",
       "3    4   0.786885    37.622859  4.563012  \n",
       "4    5   0.819672    41.352340  3.479618  \n",
       "5    6   0.704918    44.390563  2.888591  \n",
       "6    7   0.770492    48.687688  4.044325  \n",
       "7    8   0.245902    52.597926  3.758099  \n",
       "8    9   0.852459    55.638304  2.887552  \n",
       "9   10   0.770492    59.145721  3.254907  \n",
       "10  11   0.786885    68.076378  8.779289  \n",
       "11  12   0.852459    73.021838  4.946003  \n",
       "12  13   0.770492    75.729446  7.500697  \n",
       "13  14   0.770492    79.656399  6.379851  \n",
       "14  15   0.229508    82.759725  6.875422  "
      ]
     },
     "execution_count": 24,
     "metadata": {},
     "output_type": "execute_result"
    }
   ],
   "source": [
    "results = search.search(max_evals=5)\n",
    "\n",
    "results"
   ]
  },
  {
   "cell_type": "markdown",
   "id": "53d673da",
   "metadata": {
    "id": "53d673da"
   },
   "source": [
    "Now that the search is over, let us print the best configuration found during this run."
   ]
  },
  {
   "cell_type": "code",
   "execution_count": 25,
   "id": "f906a04f",
   "metadata": {
    "ExecuteTime": {
     "end_time": "2021-10-06T14:14:10.979212Z",
     "start_time": "2021-10-06T14:14:10.975696Z"
    },
    "colab": {
     "base_uri": "https://localhost:8080/"
    },
    "execution": {
     "iopub.execute_input": "2021-10-05T13:28:16.309800Z",
     "iopub.status.busy": "2021-10-05T13:28:16.309564Z",
     "iopub.status.idle": "2021-10-05T13:28:16.316422Z",
     "shell.execute_reply": "2021-10-05T13:28:16.315876Z",
     "shell.execute_reply.started": "2021-10-05T13:28:16.309775Z"
    },
    "id": "f906a04f",
    "outputId": "164bfe6d-df76-4258-d55d-e7d4125d5890"
   },
   "outputs": [
    {
     "name": "stdout",
     "output_type": "stream",
     "text": [
      "The default configuration has an accuracy of 0.820. \n",
      "The best configuration found by DeepHyper has an accuracy 0.852, \n",
      "trained in 2.89 secondes and \n",
      "discovered after 55.64 secondes of search.\n",
      "\n"
     ]
    },
    {
     "data": {
      "text/plain": [
       "{'activation': 'softsign',\n",
       " 'batch_size': 256,\n",
       " 'dropout_rate': 0.0088001488718803,\n",
       " 'learning_rate': 0.0035224696878258,\n",
       " 'num_epochs': 19,\n",
       " 'units': 126,\n",
       " 'id': 9}"
      ]
     },
     "execution_count": 25,
     "metadata": {},
     "output_type": "execute_result"
    }
   ],
   "source": [
    "i_max = results.objective.argmax()\n",
    "best_config = results.iloc[i_max][:-3].to_dict()\n",
    "\n",
    "\n",
    "print(f\"The default configuration has an accuracy of {objective_default:.3f}. \\n\" \n",
    "      f\"The best configuration found by DeepHyper has an accuracy {results['objective'].iloc[i_max]:.3f}, \\n\" \n",
    "      f\"trained in {results['duration'].iloc[i_max]:.2f} secondes and \\n\"\n",
    "      f\"discovered after {results['elapsed_sec'].iloc[i_max]:.2f} secondes of search.\\n\")\n",
    "\n",
    "\n",
    "best_config"
   ]
  },
  {
   "cell_type": "markdown",
   "id": "b8349d84",
   "metadata": {
    "id": "b8349d84"
   },
   "source": [
    "## Restart from a checkpoint\n",
    "\n",
    "It can often be useful to continue the search from previous results. For example, if the allocation requested was not enough or if an unexpected crash happened. The `AMBS` searhc provides the `fit_surrogate(dataframe_of_results)` method for this use case. \n",
    "\n",
    "To simulate this we create a second evaluator `evaluator_2` and start a fresh AMBS search with strong explotation `kappa=0.001`."
   ]
  },
  {
   "cell_type": "code",
   "execution_count": 26,
   "id": "3e99249c",
   "metadata": {
    "ExecuteTime": {
     "end_time": "2021-10-06T14:14:13.791888Z",
     "start_time": "2021-10-06T14:14:13.717020Z"
    },
    "colab": {
     "base_uri": "https://localhost:8080/"
    },
    "execution": {
     "iopub.execute_input": "2021-10-05T13:28:18.176620Z",
     "iopub.status.busy": "2021-10-05T13:28:18.176439Z",
     "iopub.status.idle": "2021-10-05T13:28:18.260776Z",
     "shell.execute_reply": "2021-10-05T13:28:18.260306Z",
     "shell.execute_reply.started": "2021-10-05T13:28:18.176598Z"
    },
    "id": "3e99249c",
    "outputId": "1782a7d9-ca6a-4485-c4b4-c8824e973e1a"
   },
   "outputs": [
    {
     "name": "stdout",
     "output_type": "stream",
     "text": [
      "Created new evaluator with 1 worker and config: {'num_cpus': 1, 'num_cpus_per_task': 1, 'callbacks': [<deephyper.evaluator.callback.LoggerCallback object at 0x7fa511878f40>], 'num_gpus': 1, 'num_gpus_per_task': 1}\n"
     ]
    }
   ],
   "source": [
    "# Create a new evaluator\n",
    "evaluator_2 = get_evaluator(run)\n",
    "\n",
    "# Create a new AMBS search with strong explotation (i.e., small kappa)\n",
    "search_from_checkpoint = AMBS(problem, evaluator_2, kappa=0.001)\n",
    "\n",
    "# Initialize surrogate model of Bayesian optization (in AMBS)\n",
    "# With results of previous search\n",
    "search_from_checkpoint.fit_surrogate(results)"
   ]
  },
  {
   "cell_type": "code",
   "execution_count": 27,
   "id": "9baeb24f",
   "metadata": {
    "ExecuteTime": {
     "end_time": "2021-10-06T14:15:00.807606Z",
     "start_time": "2021-10-06T14:14:15.820625Z"
    },
    "colab": {
     "base_uri": "https://localhost:8080/"
    },
    "execution": {
     "iopub.execute_input": "2021-10-05T13:28:19.996570Z",
     "iopub.status.busy": "2021-10-05T13:28:19.996390Z",
     "iopub.status.idle": "2021-10-05T13:29:18.566650Z",
     "shell.execute_reply": "2021-10-05T13:29:18.566114Z",
     "shell.execute_reply.started": "2021-10-05T13:28:19.996549Z"
    },
    "id": "9baeb24f",
    "outputId": "37a409ce-f61d-4941-8a97-32468370168b"
   },
   "outputs": [
    {
     "name": "stdout",
     "output_type": "stream",
     "text": [
      "[00001] -- best objective: 0.85246 -- received objective: 0.85246\n",
      "[00002] -- best objective: 0.85246 -- received objective: 0.85246\n",
      "[00003] -- best objective: 0.85246 -- received objective: 0.80328\n",
      "[00004] -- best objective: 0.85246 -- received objective: 0.80328\n",
      "[00005] -- best objective: 0.85246 -- received objective: 0.85246\n",
      "[00006] -- best objective: 0.85246 -- received objective: 0.83607\n",
      "[00007] -- best objective: 0.85246 -- received objective: 0.85246\n",
      "[00008] -- best objective: 0.85246 -- received objective: 0.85246\n",
      "[00009] -- best objective: 0.85246 -- received objective: 0.80328\n",
      "[00010] -- best objective: 0.85246 -- received objective: 0.78689\n"
     ]
    }
   ],
   "source": [
    "results_from_checkpoint = search_from_checkpoint.search(max_evals=10)"
   ]
  },
  {
   "cell_type": "code",
   "execution_count": 28,
   "id": "7f293587",
   "metadata": {
    "ExecuteTime": {
     "end_time": "2021-10-06T14:15:00.826885Z",
     "start_time": "2021-10-06T14:15:00.819039Z"
    },
    "colab": {
     "base_uri": "https://localhost:8080/",
     "height": 363
    },
    "execution": {
     "iopub.execute_input": "2021-10-05T13:31:00.645334Z",
     "iopub.status.busy": "2021-10-05T13:31:00.645102Z",
     "iopub.status.idle": "2021-10-05T13:31:00.657401Z",
     "shell.execute_reply": "2021-10-05T13:31:00.656830Z",
     "shell.execute_reply.started": "2021-10-05T13:31:00.645309Z"
    },
    "id": "7f293587",
    "outputId": "0b706201-1ec0-45e5-eae2-590bc05bd0c3"
   },
   "outputs": [
    {
     "data": {
      "text/html": [
       "<div>\n",
       "<style scoped>\n",
       "    .dataframe tbody tr th:only-of-type {\n",
       "        vertical-align: middle;\n",
       "    }\n",
       "\n",
       "    .dataframe tbody tr th {\n",
       "        vertical-align: top;\n",
       "    }\n",
       "\n",
       "    .dataframe thead th {\n",
       "        text-align: right;\n",
       "    }\n",
       "</style>\n",
       "<table border=\"1\" class=\"dataframe\">\n",
       "  <thead>\n",
       "    <tr style=\"text-align: right;\">\n",
       "      <th></th>\n",
       "      <th>activation</th>\n",
       "      <th>batch_size</th>\n",
       "      <th>dropout_rate</th>\n",
       "      <th>learning_rate</th>\n",
       "      <th>num_epochs</th>\n",
       "      <th>units</th>\n",
       "      <th>id</th>\n",
       "      <th>objective</th>\n",
       "      <th>elapsed_sec</th>\n",
       "      <th>duration</th>\n",
       "    </tr>\n",
       "  </thead>\n",
       "  <tbody>\n",
       "    <tr>\n",
       "      <th>0</th>\n",
       "      <td>softsign</td>\n",
       "      <td>256</td>\n",
       "      <td>0.115067</td>\n",
       "      <td>0.000910</td>\n",
       "      <td>45</td>\n",
       "      <td>99</td>\n",
       "      <td>1</td>\n",
       "      <td>0.852459</td>\n",
       "      <td>5.045122</td>\n",
       "      <td>3.796450</td>\n",
       "    </tr>\n",
       "    <tr>\n",
       "      <th>1</th>\n",
       "      <td>elu</td>\n",
       "      <td>256</td>\n",
       "      <td>0.125037</td>\n",
       "      <td>0.000635</td>\n",
       "      <td>39</td>\n",
       "      <td>98</td>\n",
       "      <td>2</td>\n",
       "      <td>0.852459</td>\n",
       "      <td>8.611802</td>\n",
       "      <td>3.409862</td>\n",
       "    </tr>\n",
       "    <tr>\n",
       "      <th>2</th>\n",
       "      <td>softsign</td>\n",
       "      <td>256</td>\n",
       "      <td>0.396407</td>\n",
       "      <td>0.000273</td>\n",
       "      <td>41</td>\n",
       "      <td>95</td>\n",
       "      <td>3</td>\n",
       "      <td>0.803279</td>\n",
       "      <td>12.371838</td>\n",
       "      <td>3.505078</td>\n",
       "    </tr>\n",
       "    <tr>\n",
       "      <th>3</th>\n",
       "      <td>softsign</td>\n",
       "      <td>256</td>\n",
       "      <td>0.503389</td>\n",
       "      <td>0.000781</td>\n",
       "      <td>41</td>\n",
       "      <td>100</td>\n",
       "      <td>4</td>\n",
       "      <td>0.803279</td>\n",
       "      <td>15.836897</td>\n",
       "      <td>3.307204</td>\n",
       "    </tr>\n",
       "    <tr>\n",
       "      <th>4</th>\n",
       "      <td>softsign</td>\n",
       "      <td>256</td>\n",
       "      <td>0.159670</td>\n",
       "      <td>0.000997</td>\n",
       "      <td>55</td>\n",
       "      <td>122</td>\n",
       "      <td>5</td>\n",
       "      <td>0.852459</td>\n",
       "      <td>19.952812</td>\n",
       "      <td>3.958920</td>\n",
       "    </tr>\n",
       "    <tr>\n",
       "      <th>5</th>\n",
       "      <td>softsign</td>\n",
       "      <td>256</td>\n",
       "      <td>0.082224</td>\n",
       "      <td>0.000984</td>\n",
       "      <td>46</td>\n",
       "      <td>110</td>\n",
       "      <td>6</td>\n",
       "      <td>0.836066</td>\n",
       "      <td>24.223001</td>\n",
       "      <td>4.005733</td>\n",
       "    </tr>\n",
       "    <tr>\n",
       "      <th>6</th>\n",
       "      <td>softsign</td>\n",
       "      <td>256</td>\n",
       "      <td>0.102882</td>\n",
       "      <td>0.001031</td>\n",
       "      <td>36</td>\n",
       "      <td>106</td>\n",
       "      <td>7</td>\n",
       "      <td>0.852459</td>\n",
       "      <td>27.673360</td>\n",
       "      <td>3.294096</td>\n",
       "    </tr>\n",
       "    <tr>\n",
       "      <th>7</th>\n",
       "      <td>softsign</td>\n",
       "      <td>256</td>\n",
       "      <td>0.175555</td>\n",
       "      <td>0.000943</td>\n",
       "      <td>85</td>\n",
       "      <td>106</td>\n",
       "      <td>8</td>\n",
       "      <td>0.852459</td>\n",
       "      <td>32.689157</td>\n",
       "      <td>4.859511</td>\n",
       "    </tr>\n",
       "    <tr>\n",
       "      <th>8</th>\n",
       "      <td>elu</td>\n",
       "      <td>256</td>\n",
       "      <td>0.248015</td>\n",
       "      <td>0.001037</td>\n",
       "      <td>86</td>\n",
       "      <td>101</td>\n",
       "      <td>9</td>\n",
       "      <td>0.803279</td>\n",
       "      <td>39.626645</td>\n",
       "      <td>6.680604</td>\n",
       "    </tr>\n",
       "    <tr>\n",
       "      <th>9</th>\n",
       "      <td>relu</td>\n",
       "      <td>256</td>\n",
       "      <td>0.120419</td>\n",
       "      <td>0.000995</td>\n",
       "      <td>27</td>\n",
       "      <td>116</td>\n",
       "      <td>10</td>\n",
       "      <td>0.786885</td>\n",
       "      <td>42.891292</td>\n",
       "      <td>3.107669</td>\n",
       "    </tr>\n",
       "  </tbody>\n",
       "</table>\n",
       "</div>"
      ],
      "text/plain": [
       "  activation  batch_size  dropout_rate  learning_rate  num_epochs  units  id  \\\n",
       "0   softsign         256      0.115067       0.000910          45     99   1   \n",
       "1        elu         256      0.125037       0.000635          39     98   2   \n",
       "2   softsign         256      0.396407       0.000273          41     95   3   \n",
       "3   softsign         256      0.503389       0.000781          41    100   4   \n",
       "4   softsign         256      0.159670       0.000997          55    122   5   \n",
       "5   softsign         256      0.082224       0.000984          46    110   6   \n",
       "6   softsign         256      0.102882       0.001031          36    106   7   \n",
       "7   softsign         256      0.175555       0.000943          85    106   8   \n",
       "8        elu         256      0.248015       0.001037          86    101   9   \n",
       "9       relu         256      0.120419       0.000995          27    116  10   \n",
       "\n",
       "   objective  elapsed_sec  duration  \n",
       "0   0.852459     5.045122  3.796450  \n",
       "1   0.852459     8.611802  3.409862  \n",
       "2   0.803279    12.371838  3.505078  \n",
       "3   0.803279    15.836897  3.307204  \n",
       "4   0.852459    19.952812  3.958920  \n",
       "5   0.836066    24.223001  4.005733  \n",
       "6   0.852459    27.673360  3.294096  \n",
       "7   0.852459    32.689157  4.859511  \n",
       "8   0.803279    39.626645  6.680604  \n",
       "9   0.786885    42.891292  3.107669  "
      ]
     },
     "execution_count": 28,
     "metadata": {},
     "output_type": "execute_result"
    }
   ],
   "source": [
    "results_from_checkpoint"
   ]
  },
  {
   "cell_type": "code",
   "execution_count": 29,
   "id": "8f28d724",
   "metadata": {
    "ExecuteTime": {
     "end_time": "2021-10-06T14:15:01.129246Z",
     "start_time": "2021-10-06T14:15:00.837350Z"
    },
    "colab": {
     "base_uri": "https://localhost:8080/"
    },
    "execution": {
     "iopub.execute_input": "2021-10-05T13:31:03.701630Z",
     "iopub.status.busy": "2021-10-05T13:31:03.701435Z",
     "iopub.status.idle": "2021-10-05T13:31:03.708209Z",
     "shell.execute_reply": "2021-10-05T13:31:03.707703Z",
     "shell.execute_reply.started": "2021-10-05T13:31:03.701608Z"
    },
    "id": "8f28d724",
    "outputId": "28516a5b-b78e-4268-ef6d-c026a910abd4"
   },
   "outputs": [
    {
     "name": "stdout",
     "output_type": "stream",
     "text": [
      "The default configuration has an accuracy of 0.820. The best configuration found by DeepHyper has an accuracy 0.852, trained in 3.80 secondes and finished after 5.05 secondes of search.\n"
     ]
    },
    {
     "data": {
      "text/plain": [
       "{'activation': 'softsign',\n",
       " 'batch_size': 256,\n",
       " 'dropout_rate': 0.1150666308727066,\n",
       " 'learning_rate': 0.0009101406875055,\n",
       " 'num_epochs': 45,\n",
       " 'units': 99,\n",
       " 'id': 1}"
      ]
     },
     "execution_count": 29,
     "metadata": {},
     "output_type": "execute_result"
    }
   ],
   "source": [
    "i_max = results_from_checkpoint.objective.argmax()\n",
    "best_config = results_from_checkpoint.iloc[i_max][:-3].to_dict()\n",
    "\n",
    "print(f\"The default configuration has an accuracy of {objective_default:.3f}. \" \n",
    "      f\"The best configuration found by DeepHyper has an accuracy {results_from_checkpoint['objective'].iloc[i_max]:.3f}, \" \n",
    "      f\"trained in {results_from_checkpoint['duration'].iloc[i_max]:.2f} secondes and \"\n",
    "      f\"finished after {results_from_checkpoint['elapsed_sec'].iloc[i_max]:.2f} secondes of search.\")\n",
    "\n",
    "best_config"
   ]
  },
  {
   "cell_type": "markdown",
   "id": "8b535c9d",
   "metadata": {
    "id": "8b535c9d"
   },
   "source": [
    "## Add conditional hyperparameters\n",
    "\n",
    "Now we want to add the possibility to search for a second fully-connected layer. We simply add two new lines:\n",
    "\n",
    "```python\n",
    "if config.get(\"dense_2\", False):\n",
    "    x = tf.keras.layers.Dense(config[\"dense_2:units\"], activation=config[\"dense_2:activation\"])(x)\n",
    "```"
   ]
  },
  {
   "cell_type": "code",
   "execution_count": 30,
   "id": "8a62e9f5",
   "metadata": {
    "ExecuteTime": {
     "end_time": "2021-10-06T14:15:01.344982Z",
     "start_time": "2021-10-06T14:15:01.141111Z"
    },
    "execution": {
     "iopub.execute_input": "2021-10-05T13:31:06.664412Z",
     "iopub.status.busy": "2021-10-05T13:31:06.664230Z",
     "iopub.status.idle": "2021-10-05T13:31:06.678681Z",
     "shell.execute_reply": "2021-10-05T13:31:06.678208Z",
     "shell.execute_reply.started": "2021-10-05T13:31:06.664391Z"
    },
    "id": "8a62e9f5"
   },
   "outputs": [],
   "source": [
    "def run_with_condition(config: dict):\n",
    "    tf.autograph.set_verbosity(0)\n",
    "    \n",
    "    train_dataframe, val_dataframe = load_data()\n",
    "\n",
    "    train_ds = dataframe_to_dataset(train_dataframe)\n",
    "    val_ds = dataframe_to_dataset(val_dataframe)\n",
    "\n",
    "    train_ds = train_ds.batch(config[\"batch_size\"])\n",
    "    val_ds = val_ds.batch(config[\"batch_size\"])\n",
    "\n",
    "    # Categorical features encoded as integers\n",
    "    sex = tf.keras.Input(shape=(1,), name=\"sex\", dtype=\"int64\")\n",
    "    cp = tf.keras.Input(shape=(1,), name=\"cp\", dtype=\"int64\")\n",
    "    fbs = tf.keras.Input(shape=(1,), name=\"fbs\", dtype=\"int64\")\n",
    "    restecg = tf.keras.Input(shape=(1,), name=\"restecg\", dtype=\"int64\")\n",
    "    exang = tf.keras.Input(shape=(1,), name=\"exang\", dtype=\"int64\")\n",
    "    ca = tf.keras.Input(shape=(1,), name=\"ca\", dtype=\"int64\")\n",
    "\n",
    "    # Categorical feature encoded as string\n",
    "    thal = tf.keras.Input(shape=(1,), name=\"thal\", dtype=\"string\")\n",
    "\n",
    "    # Numerical features\n",
    "    age = tf.keras.Input(shape=(1,), name=\"age\")\n",
    "    trestbps = tf.keras.Input(shape=(1,), name=\"trestbps\")\n",
    "    chol = tf.keras.Input(shape=(1,), name=\"chol\")\n",
    "    thalach = tf.keras.Input(shape=(1,), name=\"thalach\")\n",
    "    oldpeak = tf.keras.Input(shape=(1,), name=\"oldpeak\")\n",
    "    slope = tf.keras.Input(shape=(1,), name=\"slope\")\n",
    "\n",
    "    all_inputs = [\n",
    "        sex,\n",
    "        cp,\n",
    "        fbs,\n",
    "        restecg,\n",
    "        exang,\n",
    "        ca,\n",
    "        thal,\n",
    "        age,\n",
    "        trestbps,\n",
    "        chol,\n",
    "        thalach,\n",
    "        oldpeak,\n",
    "        slope,\n",
    "    ]\n",
    "\n",
    "    # Integer categorical features\n",
    "    sex_encoded = encode_categorical_feature(sex, \"sex\", train_ds, False)\n",
    "    cp_encoded = encode_categorical_feature(cp, \"cp\", train_ds, False)\n",
    "    fbs_encoded = encode_categorical_feature(fbs, \"fbs\", train_ds, False)\n",
    "    restecg_encoded = encode_categorical_feature(restecg, \"restecg\", train_ds, False)\n",
    "    exang_encoded = encode_categorical_feature(exang, \"exang\", train_ds, False)\n",
    "    ca_encoded = encode_categorical_feature(ca, \"ca\", train_ds, False)\n",
    "\n",
    "    # String categorical features\n",
    "    thal_encoded = encode_categorical_feature(thal, \"thal\", train_ds, True)\n",
    "\n",
    "    # Numerical features\n",
    "    age_encoded = encode_numerical_feature(age, \"age\", train_ds)\n",
    "    trestbps_encoded = encode_numerical_feature(trestbps, \"trestbps\", train_ds)\n",
    "    chol_encoded = encode_numerical_feature(chol, \"chol\", train_ds)\n",
    "    thalach_encoded = encode_numerical_feature(thalach, \"thalach\", train_ds)\n",
    "    oldpeak_encoded = encode_numerical_feature(oldpeak, \"oldpeak\", train_ds)\n",
    "    slope_encoded = encode_numerical_feature(slope, \"slope\", train_ds)\n",
    "\n",
    "    all_features = tf.keras.layers.concatenate(\n",
    "        [\n",
    "            sex_encoded,\n",
    "            cp_encoded,\n",
    "            fbs_encoded,\n",
    "            restecg_encoded,\n",
    "            exang_encoded,\n",
    "            slope_encoded,\n",
    "            ca_encoded,\n",
    "            thal_encoded,\n",
    "            age_encoded,\n",
    "            trestbps_encoded,\n",
    "            chol_encoded,\n",
    "            thalach_encoded,\n",
    "            oldpeak_encoded,\n",
    "        ]\n",
    "    )\n",
    "    x = tf.keras.layers.Dense(config[\"units\"], activation=config[\"activation\"])(\n",
    "        all_features\n",
    "    )\n",
    "\n",
    "    ### START - NEW LINES\n",
    "    if config.get(\"dense_2\", False):\n",
    "        x = tf.keras.layers.Dense(config[\"dense_2:units\"], activation=config[\"dense_2:activation\"])(x)\n",
    "    ### END - NEW LINES\n",
    "\n",
    "    x = tf.keras.layers.Dropout(config[\"dropout_rate\"])(x)\n",
    "    output = tf.keras.layers.Dense(1, activation=\"sigmoid\")(x)\n",
    "    model = tf.keras.Model(all_inputs, output)\n",
    "\n",
    "    optimizer = tf.keras.optimizers.Adam(learning_rate=config[\"learning_rate\"])\n",
    "    model.compile(optimizer, \"binary_crossentropy\", metrics=[\"accuracy\"])\n",
    "\n",
    "    history = model.fit(\n",
    "        train_ds, epochs=config[\"num_epochs\"], validation_data=val_ds, verbose=0\n",
    "    )\n",
    "\n",
    "    return history.history[\"val_accuracy\"][-1]"
   ]
  },
  {
   "cell_type": "markdown",
   "id": "5df1c9fb",
   "metadata": {
    "id": "5df1c9fb"
   },
   "source": [
    "To define conditionnal hyperparameters we use [ConfigSpace](https://automl.github.io/ConfigSpace/master/index.html). We define `dense_2:units` and `dense_2:activation` as active hyperparameters only when `dense_2 == True`. The `cs.EqualsCondition` help us do that. Then we call\n",
    "\n",
    "```python\n",
    "problem_with_condition.add_condition(condition)\n",
    "```\n",
    "\n",
    "to register each new condition to the `HpProblem`."
   ]
  },
  {
   "cell_type": "code",
   "execution_count": 31,
   "id": "4cda0275",
   "metadata": {
    "ExecuteTime": {
     "end_time": "2021-10-06T14:15:41.846465Z",
     "start_time": "2021-10-06T14:15:41.831051Z"
    },
    "colab": {
     "base_uri": "https://localhost:8080/"
    },
    "execution": {
     "iopub.execute_input": "2021-10-05T13:31:13.593610Z",
     "iopub.status.busy": "2021-10-05T13:31:13.593319Z",
     "iopub.status.idle": "2021-10-05T13:31:13.618632Z",
     "shell.execute_reply": "2021-10-05T13:31:13.618023Z",
     "shell.execute_reply.started": "2021-10-05T13:31:13.593579Z"
    },
    "id": "4cda0275",
    "outputId": "6b0c9ec6-7dec-4fce-8a8d-090b380411fc"
   },
   "outputs": [
    {
     "data": {
      "text/plain": [
       "Configuration space object:\n",
       "  Hyperparameters:\n",
       "    activation, Type: Categorical, Choices: {elu, gelu, hard_sigmoid, linear, relu, selu, sigmoid, softplus, softsign, swish, tanh}, Default: elu\n",
       "    batch_size, Type: UniformInteger, Range: [8, 256], Default: 45, on log-scale\n",
       "    dense_2, Type: Categorical, Choices: {True, False}, Default: True\n",
       "    dense_2:activation, Type: Categorical, Choices: {elu, gelu, hard_sigmoid, linear, relu, selu, sigmoid, softplus, softsign, swish, tanh}, Default: elu\n",
       "    dense_2:units, Type: UniformInteger, Range: [8, 128], Default: 68\n",
       "    dropout_rate, Type: UniformFloat, Range: [0.0, 0.6], Default: 0.3\n",
       "    learning_rate, Type: UniformFloat, Range: [1e-05, 0.01], Default: 0.0003162278, on log-scale\n",
       "    num_epochs, Type: UniformInteger, Range: [10, 100], Default: 55\n",
       "    units, Type: UniformInteger, Range: [8, 128], Default: 68\n",
       "  Conditions:\n",
       "    dense_2:activation | dense_2 == True\n",
       "    dense_2:units | dense_2 == True"
      ]
     },
     "execution_count": 31,
     "metadata": {},
     "output_type": "execute_result"
    }
   ],
   "source": [
    "import ConfigSpace as cs\n",
    "\n",
    "# Define the hyperparameter problem\n",
    "problem_with_condition = HpProblem()\n",
    "\n",
    "\n",
    "# Define the same hyperparameters as before\n",
    "problem_with_condition.add_hyperparameter((8, 128), \"units\")\n",
    "problem_with_condition.add_hyperparameter(ACTIVATIONS, \"activation\")\n",
    "problem_with_condition.add_hyperparameter((0.0, 0.6), \"dropout_rate\")\n",
    "problem_with_condition.add_hyperparameter((10, 100), \"num_epochs\")\n",
    "problem_with_condition.add_hyperparameter((8, 256, \"log-uniform\"), \"batch_size\")\n",
    "problem_with_condition.add_hyperparameter((1e-5, 1e-2, \"log-uniform\"), \"learning_rate\")\n",
    "\n",
    "\n",
    "# Add a new hyperparameter \"dense_2 (bool)\" to decide if a second fully-connected layer should be created\n",
    "hp_dense_2 = problem_with_condition.add_hyperparameter([True, False], \"dense_2\")\n",
    "hp_dense_2_units = problem_with_condition.add_hyperparameter((8, 128), \"dense_2:units\")\n",
    "hp_dense_2_activation = problem_with_condition.add_hyperparameter(ACTIVATIONS, \"dense_2:activation\")\n",
    "\n",
    "problem_with_condition.add_condition(cs.EqualsCondition(hp_dense_2_units, hp_dense_2, True))\n",
    "problem_with_condition.add_condition(cs.EqualsCondition(hp_dense_2_activation, hp_dense_2, True))\n",
    "\n",
    "\n",
    "problem_with_condition"
   ]
  },
  {
   "cell_type": "markdown",
   "id": "fc027194",
   "metadata": {
    "id": "fc027194"
   },
   "source": [
    "We create a new evaluator `evaluator_3` and start a fresh AMBS search with this new problem `problem_with_condition`."
   ]
  },
  {
   "cell_type": "code",
   "execution_count": 32,
   "id": "70192b13",
   "metadata": {
    "ExecuteTime": {
     "end_time": "2021-10-06T14:15:44.701082Z",
     "start_time": "2021-10-06T14:15:44.697400Z"
    },
    "colab": {
     "base_uri": "https://localhost:8080/"
    },
    "execution": {
     "iopub.execute_input": "2021-10-05T13:31:15.311474Z",
     "iopub.status.busy": "2021-10-05T13:31:15.311234Z",
     "iopub.status.idle": "2021-10-05T13:31:15.318532Z",
     "shell.execute_reply": "2021-10-05T13:31:15.317880Z",
     "shell.execute_reply.started": "2021-10-05T13:31:15.311445Z"
    },
    "id": "70192b13",
    "outputId": "0120bd99-3331-4160-a0ac-ec0d259a5793"
   },
   "outputs": [
    {
     "name": "stdout",
     "output_type": "stream",
     "text": [
      "Created new evaluator with 1 worker and config: {'num_cpus': 1, 'num_cpus_per_task': 1, 'callbacks': [<deephyper.evaluator.callback.LoggerCallback object at 0x7fa51179cbb0>], 'num_gpus': 1, 'num_gpus_per_task': 1}\n"
     ]
    }
   ],
   "source": [
    "evaluator_3 = get_evaluator(run_with_condition)\n",
    "\n",
    "search_with_condition = AMBS(problem_with_condition, evaluator_3)"
   ]
  },
  {
   "cell_type": "code",
   "execution_count": 33,
   "id": "7705a8a1",
   "metadata": {
    "ExecuteTime": {
     "end_time": "2021-10-05T17:39:39.208415Z",
     "start_time": "2021-10-05T17:38:35.828400Z"
    },
    "colab": {
     "base_uri": "https://localhost:8080/"
    },
    "execution": {
     "iopub.execute_input": "2021-10-05T13:31:16.432178Z",
     "iopub.status.busy": "2021-10-05T13:31:16.431994Z",
     "iopub.status.idle": "2021-10-05T13:33:02.931919Z",
     "shell.execute_reply": "2021-10-05T13:33:02.931400Z",
     "shell.execute_reply.started": "2021-10-05T13:31:16.432154Z"
    },
    "id": "7705a8a1",
    "outputId": "fb19dd74-832d-464a-9b23-414cc89b9678"
   },
   "outputs": [
    {
     "name": "stdout",
     "output_type": "stream",
     "text": [
      "[00001] -- best objective: 0.40984 -- received objective: 0.40984\n",
      "[00002] -- best objective: 0.65574 -- received objective: 0.65574\n",
      "[00003] -- best objective: 0.73770 -- received objective: 0.73770\n",
      "[00004] -- best objective: 0.78689 -- received objective: 0.78689\n",
      "[00005] -- best objective: 0.78689 -- received objective: 0.78689\n",
      "[00006] -- best objective: 0.78689 -- received objective: 0.70492\n",
      "[00007] -- best objective: 0.78689 -- received objective: 0.78689\n",
      "[00008] -- best objective: 0.78689 -- received objective: 0.78689\n",
      "[00009] -- best objective: 0.81967 -- received objective: 0.81967\n",
      "[00010] -- best objective: 0.81967 -- received objective: 0.77049\n"
     ]
    }
   ],
   "source": [
    "results_with_condition = search_with_condition.search(max_evals=10)"
   ]
  },
  {
   "cell_type": "code",
   "execution_count": 34,
   "id": "4764b947",
   "metadata": {
    "ExecuteTime": {
     "end_time": "2021-10-05T17:39:39.253697Z",
     "start_time": "2021-10-05T17:39:39.235644Z"
    },
    "colab": {
     "base_uri": "https://localhost:8080/",
     "height": 363
    },
    "execution": {
     "iopub.execute_input": "2021-10-05T13:33:02.932935Z",
     "iopub.status.busy": "2021-10-05T13:33:02.932760Z",
     "iopub.status.idle": "2021-10-05T13:33:02.950032Z",
     "shell.execute_reply": "2021-10-05T13:33:02.949499Z",
     "shell.execute_reply.started": "2021-10-05T13:33:02.932912Z"
    },
    "id": "4764b947",
    "outputId": "3ad6ada2-e753-44dd-dfe8-1188e2f08eb6"
   },
   "outputs": [
    {
     "data": {
      "text/html": [
       "<div>\n",
       "<style scoped>\n",
       "    .dataframe tbody tr th:only-of-type {\n",
       "        vertical-align: middle;\n",
       "    }\n",
       "\n",
       "    .dataframe tbody tr th {\n",
       "        vertical-align: top;\n",
       "    }\n",
       "\n",
       "    .dataframe thead th {\n",
       "        text-align: right;\n",
       "    }\n",
       "</style>\n",
       "<table border=\"1\" class=\"dataframe\">\n",
       "  <thead>\n",
       "    <tr style=\"text-align: right;\">\n",
       "      <th></th>\n",
       "      <th>activation</th>\n",
       "      <th>batch_size</th>\n",
       "      <th>dense_2</th>\n",
       "      <th>dropout_rate</th>\n",
       "      <th>learning_rate</th>\n",
       "      <th>num_epochs</th>\n",
       "      <th>units</th>\n",
       "      <th>dense_2:activation</th>\n",
       "      <th>dense_2:units</th>\n",
       "      <th>id</th>\n",
       "      <th>objective</th>\n",
       "      <th>elapsed_sec</th>\n",
       "      <th>duration</th>\n",
       "    </tr>\n",
       "  </thead>\n",
       "  <tbody>\n",
       "    <tr>\n",
       "      <th>0</th>\n",
       "      <td>softsign</td>\n",
       "      <td>208</td>\n",
       "      <td>False</td>\n",
       "      <td>0.206204</td>\n",
       "      <td>0.000020</td>\n",
       "      <td>22</td>\n",
       "      <td>67</td>\n",
       "      <td>NaN</td>\n",
       "      <td>NaN</td>\n",
       "      <td>1</td>\n",
       "      <td>0.409836</td>\n",
       "      <td>4.372114</td>\n",
       "      <td>2.890930</td>\n",
       "    </tr>\n",
       "    <tr>\n",
       "      <th>1</th>\n",
       "      <td>softsign</td>\n",
       "      <td>27</td>\n",
       "      <td>False</td>\n",
       "      <td>0.195139</td>\n",
       "      <td>0.000017</td>\n",
       "      <td>16</td>\n",
       "      <td>19</td>\n",
       "      <td>NaN</td>\n",
       "      <td>NaN</td>\n",
       "      <td>2</td>\n",
       "      <td>0.655738</td>\n",
       "      <td>9.025875</td>\n",
       "      <td>3.238640</td>\n",
       "    </tr>\n",
       "    <tr>\n",
       "      <th>2</th>\n",
       "      <td>relu</td>\n",
       "      <td>15</td>\n",
       "      <td>False</td>\n",
       "      <td>0.010088</td>\n",
       "      <td>0.000011</td>\n",
       "      <td>14</td>\n",
       "      <td>36</td>\n",
       "      <td>NaN</td>\n",
       "      <td>NaN</td>\n",
       "      <td>3</td>\n",
       "      <td>0.737705</td>\n",
       "      <td>14.149987</td>\n",
       "      <td>3.710147</td>\n",
       "    </tr>\n",
       "    <tr>\n",
       "      <th>3</th>\n",
       "      <td>relu</td>\n",
       "      <td>16</td>\n",
       "      <td>False</td>\n",
       "      <td>0.139215</td>\n",
       "      <td>0.001634</td>\n",
       "      <td>92</td>\n",
       "      <td>107</td>\n",
       "      <td>NaN</td>\n",
       "      <td>NaN</td>\n",
       "      <td>4</td>\n",
       "      <td>0.786885</td>\n",
       "      <td>25.369290</td>\n",
       "      <td>9.646489</td>\n",
       "    </tr>\n",
       "    <tr>\n",
       "      <th>4</th>\n",
       "      <td>relu</td>\n",
       "      <td>20</td>\n",
       "      <td>True</td>\n",
       "      <td>0.441103</td>\n",
       "      <td>0.000054</td>\n",
       "      <td>44</td>\n",
       "      <td>83</td>\n",
       "      <td>softplus</td>\n",
       "      <td>83.0</td>\n",
       "      <td>5</td>\n",
       "      <td>0.786885</td>\n",
       "      <td>32.523626</td>\n",
       "      <td>5.734669</td>\n",
       "    </tr>\n",
       "    <tr>\n",
       "      <th>5</th>\n",
       "      <td>relu</td>\n",
       "      <td>16</td>\n",
       "      <td>False</td>\n",
       "      <td>0.447834</td>\n",
       "      <td>0.000013</td>\n",
       "      <td>54</td>\n",
       "      <td>119</td>\n",
       "      <td>NaN</td>\n",
       "      <td>NaN</td>\n",
       "      <td>6</td>\n",
       "      <td>0.704918</td>\n",
       "      <td>40.710532</td>\n",
       "      <td>6.767133</td>\n",
       "    </tr>\n",
       "    <tr>\n",
       "      <th>6</th>\n",
       "      <td>relu</td>\n",
       "      <td>68</td>\n",
       "      <td>False</td>\n",
       "      <td>0.035637</td>\n",
       "      <td>0.002685</td>\n",
       "      <td>95</td>\n",
       "      <td>74</td>\n",
       "      <td>NaN</td>\n",
       "      <td>NaN</td>\n",
       "      <td>7</td>\n",
       "      <td>0.786885</td>\n",
       "      <td>48.038012</td>\n",
       "      <td>5.907229</td>\n",
       "    </tr>\n",
       "    <tr>\n",
       "      <th>7</th>\n",
       "      <td>relu</td>\n",
       "      <td>67</td>\n",
       "      <td>True</td>\n",
       "      <td>0.032103</td>\n",
       "      <td>0.002192</td>\n",
       "      <td>49</td>\n",
       "      <td>96</td>\n",
       "      <td>gelu</td>\n",
       "      <td>120.0</td>\n",
       "      <td>8</td>\n",
       "      <td>0.786885</td>\n",
       "      <td>53.746416</td>\n",
       "      <td>4.293289</td>\n",
       "    </tr>\n",
       "    <tr>\n",
       "      <th>8</th>\n",
       "      <td>relu</td>\n",
       "      <td>245</td>\n",
       "      <td>False</td>\n",
       "      <td>0.082941</td>\n",
       "      <td>0.000520</td>\n",
       "      <td>32</td>\n",
       "      <td>114</td>\n",
       "      <td>NaN</td>\n",
       "      <td>NaN</td>\n",
       "      <td>9</td>\n",
       "      <td>0.819672</td>\n",
       "      <td>58.417845</td>\n",
       "      <td>3.238891</td>\n",
       "    </tr>\n",
       "    <tr>\n",
       "      <th>9</th>\n",
       "      <td>relu</td>\n",
       "      <td>198</td>\n",
       "      <td>True</td>\n",
       "      <td>0.109491</td>\n",
       "      <td>0.000035</td>\n",
       "      <td>80</td>\n",
       "      <td>114</td>\n",
       "      <td>linear</td>\n",
       "      <td>101.0</td>\n",
       "      <td>10</td>\n",
       "      <td>0.770492</td>\n",
       "      <td>64.706487</td>\n",
       "      <td>4.875615</td>\n",
       "    </tr>\n",
       "  </tbody>\n",
       "</table>\n",
       "</div>"
      ],
      "text/plain": [
       "  activation  batch_size  dense_2  dropout_rate  learning_rate  num_epochs  \\\n",
       "0   softsign         208    False      0.206204       0.000020          22   \n",
       "1   softsign          27    False      0.195139       0.000017          16   \n",
       "2       relu          15    False      0.010088       0.000011          14   \n",
       "3       relu          16    False      0.139215       0.001634          92   \n",
       "4       relu          20     True      0.441103       0.000054          44   \n",
       "5       relu          16    False      0.447834       0.000013          54   \n",
       "6       relu          68    False      0.035637       0.002685          95   \n",
       "7       relu          67     True      0.032103       0.002192          49   \n",
       "8       relu         245    False      0.082941       0.000520          32   \n",
       "9       relu         198     True      0.109491       0.000035          80   \n",
       "\n",
       "   units dense_2:activation  dense_2:units  id  objective  elapsed_sec  \\\n",
       "0     67                NaN            NaN   1   0.409836     4.372114   \n",
       "1     19                NaN            NaN   2   0.655738     9.025875   \n",
       "2     36                NaN            NaN   3   0.737705    14.149987   \n",
       "3    107                NaN            NaN   4   0.786885    25.369290   \n",
       "4     83           softplus           83.0   5   0.786885    32.523626   \n",
       "5    119                NaN            NaN   6   0.704918    40.710532   \n",
       "6     74                NaN            NaN   7   0.786885    48.038012   \n",
       "7     96               gelu          120.0   8   0.786885    53.746416   \n",
       "8    114                NaN            NaN   9   0.819672    58.417845   \n",
       "9    114             linear          101.0  10   0.770492    64.706487   \n",
       "\n",
       "   duration  \n",
       "0  2.890930  \n",
       "1  3.238640  \n",
       "2  3.710147  \n",
       "3  9.646489  \n",
       "4  5.734669  \n",
       "5  6.767133  \n",
       "6  5.907229  \n",
       "7  4.293289  \n",
       "8  3.238891  \n",
       "9  4.875615  "
      ]
     },
     "execution_count": 34,
     "metadata": {},
     "output_type": "execute_result"
    }
   ],
   "source": [
    "results_with_condition"
   ]
  },
  {
   "cell_type": "markdown",
   "id": "63ca8219",
   "metadata": {
    "id": "63ca8219"
   },
   "source": [
    "Finally, let us print out the best configuration found from this conditionned search space."
   ]
  },
  {
   "cell_type": "code",
   "execution_count": 35,
   "id": "34f26be4",
   "metadata": {
    "ExecuteTime": {
     "end_time": "2021-10-05T17:39:41.791938Z",
     "start_time": "2021-10-05T17:39:41.784904Z"
    },
    "colab": {
     "base_uri": "https://localhost:8080/"
    },
    "execution": {
     "iopub.execute_input": "2021-10-05T13:33:02.951023Z",
     "iopub.status.busy": "2021-10-05T13:33:02.950816Z",
     "iopub.status.idle": "2021-10-05T13:33:03.295308Z",
     "shell.execute_reply": "2021-10-05T13:33:03.294708Z",
     "shell.execute_reply.started": "2021-10-05T13:33:02.950999Z"
    },
    "id": "34f26be4",
    "outputId": "df2acd84-1cf1-4ece-ad03-6fce02d5d72e"
   },
   "outputs": [
    {
     "name": "stdout",
     "output_type": "stream",
     "text": [
      "The default configuration has an accuracy of 0.820. The best configuration found by DeepHyper has an accuracy 0.820, trained in 3.24 seconds and finished after 58.42 seconds of search.\n"
     ]
    },
    {
     "data": {
      "text/plain": [
       "{'activation': 'relu',\n",
       " 'batch_size': 245,\n",
       " 'dense_2': False,\n",
       " 'dropout_rate': 0.0829405718541753,\n",
       " 'learning_rate': 0.0005200983782038,\n",
       " 'num_epochs': 32,\n",
       " 'units': 114,\n",
       " 'dense_2:activation': nan,\n",
       " 'dense_2:units': nan,\n",
       " 'id': 9}"
      ]
     },
     "execution_count": 35,
     "metadata": {},
     "output_type": "execute_result"
    }
   ],
   "source": [
    "i_max = results_with_condition.objective.argmax()\n",
    "best_config = results_with_condition.iloc[i_max][:-3].to_dict()\n",
    "\n",
    "print(f\"The default configuration has an accuracy of {objective_default:.3f}. \" \n",
    "      f\"The best configuration found by DeepHyper has an accuracy {results_with_condition['objective'].iloc[i_max]:.3f}, \" \n",
    "      f\"trained in {results_with_condition['duration'].iloc[i_max]:.2f} seconds and \"\n",
    "      f\"finished after {results_with_condition['elapsed_sec'].iloc[i_max]:.2f} seconds of search.\")\n",
    "\n",
    "best_config"
   ]
  },
  {
   "cell_type": "code",
   "execution_count": null,
   "id": "b5f7eb92",
   "metadata": {},
   "outputs": [],
   "source": []
  }
 ],
 "metadata": {
  "colab": {
   "name": "tutorial_01.ipynb",
   "provenance": []
  },
  "interpreter": {
   "hash": "c33774984308773a164e9991715538701a09ddea2391d4c1ef9b39eda340d87d"
  },
  "kernelspec": {
   "display_name": "conda/2021-11-30",
   "language": "python",
   "name": "conda-2021-11-30"
  },
  "language_info": {
   "codemirror_mode": {
    "name": "ipython",
    "version": 3
   },
   "file_extension": ".py",
   "mimetype": "text/x-python",
   "name": "python",
   "nbconvert_exporter": "python",
   "pygments_lexer": "ipython3",
   "version": "3.8.10"
  },
  "latex_envs": {
   "LaTeX_envs_menu_present": true,
   "autoclose": false,
   "autocomplete": true,
   "bibliofile": "biblio.bib",
   "cite_by": "apalike",
   "current_citInitial": 1,
   "eqLabelWithNumbers": true,
   "eqNumInitial": 1,
   "hotkeys": {
    "equation": ""
   },
   "labels_anchors": false,
   "latex_user_defs": false,
   "report_style_numbering": false,
   "user_envs_cfg": false
  },
  "nbTranslate": {
   "displayLangs": [
    "*"
   ],
   "hotkey": "alt-t",
   "langInMainMenu": true,
   "sourceLang": "en",
   "targetLang": "fr",
   "useGoogleTranslate": true
  },
  "toc": {
   "base_numbering": 1,
   "nav_menu": {},
   "number_sections": false,
   "sideBar": false,
   "skip_h1_title": true,
   "title_cell": "Table of Contents",
   "title_sidebar": "Contents",
   "toc_cell": true,
   "toc_position": {
    "height": "calc(100% - 180px)",
    "left": "10px",
    "top": "150px",
    "width": "165px"
   },
   "toc_section_display": false,
   "toc_window_display": false
  },
  "varInspector": {
   "cols": {
    "lenName": 16,
    "lenType": 16,
    "lenVar": 40
   },
   "kernels_config": {
    "python": {
     "delete_cmd_postfix": "",
     "delete_cmd_prefix": "del ",
     "library": "var_list.py",
     "varRefreshCmd": "print(var_dic_list())"
    },
    "r": {
     "delete_cmd_postfix": ") ",
     "delete_cmd_prefix": "rm(",
     "library": "var_list.r",
     "varRefreshCmd": "cat(var_dic_list()) "
    }
   },
   "types_to_exclude": [
    "module",
    "function",
    "builtin_function_or_method",
    "instance",
    "_Feature"
   ],
   "window_display": false
  }
 },
 "nbformat": 4,
 "nbformat_minor": 5
}
